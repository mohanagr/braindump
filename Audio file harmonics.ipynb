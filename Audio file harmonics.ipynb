{
 "cells": [
  {
   "cell_type": "code",
   "execution_count": 1,
   "id": "043dc1a2",
   "metadata": {},
   "outputs": [],
   "source": [
    "import numpy as np\n",
    "import scipy.io as io\n",
    "from matplotlib import pyplot as plt"
   ]
  },
  {
   "cell_type": "code",
   "execution_count": 2,
   "id": "8a2f368f",
   "metadata": {},
   "outputs": [],
   "source": [
    "f=io.wavfile.read('/home/mohan/Downloads/Audio Clip (2023-06-28 23_20_24).wav')"
   ]
  },
  {
   "cell_type": "code",
   "execution_count": 3,
   "id": "704b8212",
   "metadata": {},
   "outputs": [
    {
     "data": {
      "text/plain": [
       "(44100, array([0, 0, 0, ..., 0, 0, 0], dtype=int16))"
      ]
     },
     "execution_count": 3,
     "metadata": {},
     "output_type": "execute_result"
    }
   ],
   "source": [
    "f"
   ]
  },
  {
   "cell_type": "code",
   "execution_count": 3,
   "id": "02f9f6d5",
   "metadata": {},
   "outputs": [],
   "source": [
    "dat=f[1].copy()\n",
    "ft=np.fft.rfft(dat)"
   ]
  },
  {
   "cell_type": "code",
   "execution_count": 4,
   "id": "2a201c31",
   "metadata": {},
   "outputs": [
    {
     "name": "stdout",
     "output_type": "stream",
     "text": [
      "0.09085739715189874 Hz\n"
     ]
    }
   ],
   "source": [
    "df = f[0]/(len(dat))\n",
    "print(df, \"Hz\")"
   ]
  },
  {
   "cell_type": "code",
   "execution_count": 26,
   "id": "33e0213b",
   "metadata": {},
   "outputs": [
    {
     "data": {
      "text/plain": [
       "(5000.0, 10000.0)"
      ]
     },
     "execution_count": 26,
     "metadata": {},
     "output_type": "execute_result"
    },
    {
     "data": {
      "image/png": "[encoded data removed]",
      "text/plain": [
       "<Figure size 432x288 with 1 Axes>"
      ]
     },
     "metadata": {
      "needs_background": "light"
     },
     "output_type": "display_data"
    }
   ],
   "source": [
    "plt.plot(np.abs(ft))\n",
    "plt.xlim(5000,10000)"
   ]
  },
  {
   "cell_type": "code",
   "execution_count": 5,
   "id": "19d06f7e",
   "metadata": {},
   "outputs": [],
   "source": [
    "from scipy import signal"
   ]
  },
  {
   "cell_type": "code",
   "execution_count": 6,
   "id": "ab53aacc",
   "metadata": {},
   "outputs": [
    {
     "name": "stdout",
     "output_type": "stream",
     "text": [
      "[    2  1062  1967  2981  4024  4968  5958  7029  7935  8901  9984 10922\n",
      " 11976 13178 14078 14989]\n"
     ]
    }
   ],
   "source": [
    "peaks=signal.find_peaks(np.abs(ft)[5000:20000],distance=900)[0]\n",
    "print(peaks)"
   ]
  },
  {
   "cell_type": "code",
   "execution_count": 12,
   "id": "18efd9b1",
   "metadata": {},
   "outputs": [
    {
     "data": {
      "text/plain": [
       "(0.0, 20000.0)"
      ]
     },
     "execution_count": 12,
     "metadata": {},
     "output_type": "execute_result"
    },
    {
     "data": {
      "image/png": "[encoded data removed]",
      "text/plain": [
       "<Figure size 432x288 with 1 Axes>"
      ]
     },
     "metadata": {},
     "output_type": "display_data"
    }
   ],
   "source": [
    "f=plt.gcf()\n",
    "f.set_facecolor('white')\n",
    "plt.plot(np.abs(ft))\n",
    "plt.title(\"Harmonics\")\n",
    "# plt.plot(5000+peaks,np.abs(ft)[5000+peaks],'o',c='r')\n",
    "plt.xlim(0,20000)"
   ]
  },
  {
   "cell_type": "code",
   "execution_count": 9,
   "id": "3673667c",
   "metadata": {},
   "outputs": [
    {
     "name": "stdout",
     "output_type": "stream",
     "text": [
      "90.7786540743671\n",
      "L =  1.88 +/-  0.16 m\n"
     ]
    }
   ],
   "source": [
    "fundamental=np.mean(np.diff(peaks))*df # = vsound/2L\n",
    "vsound=342\n",
    "print(fundamental)\n",
    "err_f = np.std(np.diff(peaks))*df\n",
    "err_L = np.abs(vsound/(2*fundamental**2) * err_f)\n",
    "print(f\"L = {vsound/(2*fundamental): 5.2f} +/- {err_L: 5.2f} m\")\n"
   ]
  },
  {
   "cell_type": "code",
   "execution_count": null,
   "id": "4a39f730",
   "metadata": {},
   "outputs": [],
   "source": []
  },
  {
   "cell_type": "code",
   "execution_count": 23,
   "id": "3b649579",
   "metadata": {},
   "outputs": [
    {
     "data": {
      "text/plain": [
       "array([ 317598.88170896, 2880978.85566734,  318823.02700949,\n",
       "        153633.32905656,  136848.92700621,  150335.86272057,\n",
       "        250306.87431605,  551415.67775465,  313307.43431551,\n",
       "        186496.81794296,  192841.52604344,  175560.86350393,\n",
       "        232365.9549575 ,  528383.87627276,  163298.70402754,\n",
       "        138642.48576747])"
      ]
     },
     "execution_count": 23,
     "metadata": {},
     "output_type": "execute_result"
    }
   ],
   "source": [
    "np.abs(ft)[5000+peaks]"
   ]
  },
  {
   "cell_type": "code",
   "execution_count": null,
   "id": "269645fe",
   "metadata": {},
   "outputs": [],
   "source": []
  }
 ],
 "metadata": {
  "kernelspec": {
   "display_name": "Python 3 (ipykernel)",
   "language": "python",
   "name": "python3"
  },
  "language_info": {
   "codemirror_mode": {
    "name": "ipython",
    "version": 3
   },
   "file_extension": ".py",
   "mimetype": "text/x-python",
   "name": "python",
   "nbconvert_exporter": "python",
   "pygments_lexer": "ipython3",
   "version": "3.8.10"
  }
 },
 "nbformat": 4,
 "nbformat_minor": 5
}
