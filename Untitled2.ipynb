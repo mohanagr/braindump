{
 "cells": [
  {
   "cell_type": "code",
   "execution_count": 1,
   "id": "78c66fe0",
   "metadata": {},
   "outputs": [],
   "source": [
    "import numpy as np\n",
    "import matplotlib.pyplot as plt"
   ]
  },
  {
   "cell_type": "code",
   "execution_count": 2,
   "id": "d441f76a",
   "metadata": {},
   "outputs": [],
   "source": [
    "N=5000000\n",
    "np.random.seed(42)\n",
    "n=np.arange(0,N)\n",
    "k=0.4*N\n",
    "y=np.cos(2*np.pi*k*n/N)*np.sinc(80*(n-N/2)/N)+0.1*np.random.randn(N)\n",
    "ft = np.fft.fft(y)\n",
    "y2=np.real(np.fft.ifft(ft*np.exp(-2J*np.pi*np.arange(0,len(ft))*0.25/N)))"
   ]
  },
  {
   "cell_type": "code",
   "execution_count": 12,
   "id": "d4b010c3",
   "metadata": {},
   "outputs": [
    {
     "data": {
      "text/plain": [
       "3.2e-08"
      ]
     },
     "execution_count": 12,
     "metadata": {},
     "output_type": "execute_result"
    }
   ],
   "source": [
    "8/250e6"
   ]
  },
  {
   "cell_type": "code",
   "execution_count": 30,
   "id": "b8b87963",
   "metadata": {},
   "outputs": [
    {
     "data": {
      "text/plain": [
       "1.2503052503052503"
      ]
     },
     "execution_count": 30,
     "metadata": {},
     "output_type": "execute_result"
    }
   ],
   "source": [
    "4096/1638/2"
   ]
  },
  {
   "cell_type": "code",
   "execution_count": 3,
   "id": "d5b74cda",
   "metadata": {},
   "outputs": [
    {
     "name": "stdout",
     "output_type": "stream",
     "text": [
      "(1000, 4096)\n"
     ]
    }
   ],
   "source": [
    "s1=200000\n",
    "size=4096\n",
    "niter=1000\n",
    "delay=8\n",
    "myxcorrs = np.zeros((niter,4096),dtype='complex128')\n",
    "for i in range(0,niter):\n",
    "    f1=np.fft.fft(y[s1+i*size:s1+(i+1)*size].copy())\n",
    "    f2=np.fft.fft(y2[s1+delay+i*size:s1+(i+1)*size+delay].copy())\n",
    "    myxcorrs[i,:]=f1*np.conj(f2)\n",
    "print(myxcorrs.shape)\n",
    "xcorr=np.mean(myxcorrs,axis=0)"
   ]
  },
  {
   "cell_type": "code",
   "execution_count": 26,
   "id": "12a5f872",
   "metadata": {},
   "outputs": [
    {
     "data": {
      "text/plain": [
       "(4096,)"
      ]
     },
     "execution_count": 26,
     "metadata": {},
     "output_type": "execute_result"
    }
   ],
   "source": [
    "xcorr.shape"
   ]
  },
  {
   "cell_type": "code",
   "execution_count": 70,
   "id": "47e02131",
   "metadata": {},
   "outputs": [
    {
     "name": "stdout",
     "output_type": "stream",
     "text": [
      "1638\n"
     ]
    },
    {
     "data": {
      "image/png": "[encoded data removed]",
      "text/plain": [
       "<Figure size 432x288 with 1 Axes>"
      ]
     },
     "metadata": {
      "needs_background": "light"
     },
     "output_type": "display_data"
    }
   ],
   "source": [
    "plt.plot(np.abs(f1),'--')\n",
    "plt.xlim(1630,1645)\n",
    "print(np.argmax(np.abs(f1)[:2048]))"
   ]
  },
  {
   "cell_type": "code",
   "execution_count": 69,
   "id": "e78ace89",
   "metadata": {},
   "outputs": [
    {
     "data": {
      "text/plain": [
       "[<matplotlib.lines.Line2D at 0x7f0b124ec490>]"
      ]
     },
     "execution_count": 69,
     "metadata": {},
     "output_type": "execute_result"
    },
    {
     "data": {
      "image/png": "[encoded data removed]",
      "text/plain": [
       "<Figure size 432x288 with 1 Axes>"
      ]
     },
     "metadata": {
      "needs_background": "light"
     },
     "output_type": "display_data"
    }
   ],
   "source": [
    "jj=np.abs(np.fft.ifft(xcorr))\n",
    "plt.plot(jj)\n",
    "# mm=np.argmax(jj)\n",
    "# plt.xlim(mm-10,mm+10)\n",
    "# print(mm)"
   ]
  },
  {
   "cell_type": "code",
   "execution_count": 4,
   "id": "5599570e",
   "metadata": {},
   "outputs": [
    {
     "name": "stdout",
     "output_type": "stream",
     "text": [
      "8 25.132741228718345\n"
     ]
    },
    {
     "data": {
      "text/plain": [
       "-4.226014667723968e-08"
      ]
     },
     "execution_count": 4,
     "metadata": {},
     "output_type": "execute_result"
    }
   ],
   "source": [
    "dp=np.round(delay/1.025/2)*2*np.pi\n",
    "print(delay,dp)\n",
    "(np.angle(xcorr[1638])-dp)/(2*np.pi*1638*250e6/4096)"
   ]
  },
  {
   "cell_type": "code",
   "execution_count": 56,
   "id": "e7c1d0d0",
   "metadata": {},
   "outputs": [
    {
     "name": "stdout",
     "output_type": "stream",
     "text": [
      "-2.195528672906274 -140.54803458647768\n",
      "-1431.2621711074205\n"
     ]
    }
   ],
   "source": [
    "y=np.unwrap(np.angle(xcorr))\n",
    "m,c=np.polyfit(np.arange(1,4096),y[1:],1)\n",
    "print(m,c)\n",
    "print(m*4096/(2*np.pi))"
   ]
  },
  {
   "cell_type": "code",
   "execution_count": 96,
   "id": "d29136e2",
   "metadata": {},
   "outputs": [
    {
     "data": {
      "text/plain": [
       "1.0993011727015929"
      ]
     },
     "execution_count": 96,
     "metadata": {},
     "output_type": "execute_result"
    }
   ],
   "source": [
    "np.angle(xcorr)[1638]\n"
   ]
  },
  {
   "cell_type": "code",
   "execution_count": 97,
   "id": "9bd05955",
   "metadata": {},
   "outputs": [
    {
     "data": {
      "text/plain": [
       "0.43750485166336517"
      ]
     },
     "execution_count": 97,
     "metadata": {},
     "output_type": "execute_result"
    }
   ],
   "source": [
    "np.angle(xcorr[1638])*4096/(2*np.pi*1638)"
   ]
  },
  {
   "cell_type": "code",
   "execution_count": 14,
   "id": "46a4810d",
   "metadata": {},
   "outputs": [
    {
     "data": {
      "text/plain": [
       "[<matplotlib.lines.Line2D at 0x7fdf8a3952b0>]"
      ]
     },
     "execution_count": 14,
     "metadata": {},
     "output_type": "execute_result"
    },
    {
     "data": {
      "image/png": "[encoded data removed]",
      "text/plain": [
       "<Figure size 432x288 with 1 Axes>"
      ]
     },
     "metadata": {
      "needs_background": "light"
     },
     "output_type": "display_data"
    }
   ],
   "source": [
    "plt.plot(y)\n",
    "# plt.xlim(0,10)"
   ]
  },
  {
   "cell_type": "code",
   "execution_count": 110,
   "id": "db2c5c5c",
   "metadata": {},
   "outputs": [
    {
     "data": {
      "text/plain": [
       "-2.0631056489471353"
      ]
     },
     "execution_count": 110,
     "metadata": {},
     "output_type": "execute_result"
    }
   ],
   "source": [
    "(np.angle(xcorr[1638])-2*np.pi)*4096/(2*np.pi*1638)"
   ]
  },
  {
   "cell_type": "code",
   "execution_count": 104,
   "id": "dad1ad49",
   "metadata": {},
   "outputs": [
    {
     "data": {
      "text/plain": [
       "0.4373980389554396"
      ]
     },
     "execution_count": 104,
     "metadata": {},
     "output_type": "execute_result"
    }
   ],
   "source": [
    "(np.angle(xcorr[1638]))*fs/(2*np.pi*100e6)"
   ]
  },
  {
   "cell_type": "code",
   "execution_count": 47,
   "id": "1f0cb29c",
   "metadata": {},
   "outputs": [
    {
     "data": {
      "text/plain": [
       "1679.7598709213119"
      ]
     },
     "execution_count": 47,
     "metadata": {},
     "output_type": "execute_result"
    }
   ],
   "source": [
    "((2*np.pi*2100.25*1638/4096)-np.angle(xcorr[1638]))/(np.pi)"
   ]
  },
  {
   "cell_type": "code",
   "execution_count": 26,
   "id": "661570d5",
   "metadata": {},
   "outputs": [
    {
     "data": {
      "text/plain": [
       "-3586.0635379735522"
      ]
     },
     "execution_count": 26,
     "metadata": {},
     "output_type": "execute_result"
    }
   ],
   "source": [
    "(np.angle(xcorr[1638])-2*np.pi)*4096/(2*np.pi)"
   ]
  },
  {
   "cell_type": "code",
   "execution_count": 200,
   "id": "e5052409",
   "metadata": {},
   "outputs": [
    {
     "name": "stdout",
     "output_type": "stream",
     "text": [
      "1638\n"
     ]
    },
    {
     "data": {
      "image/png": "[encoded data removed]",
      "text/plain": [
       "<Figure size 432x288 with 1 Axes>"
      ]
     },
     "metadata": {
      "needs_background": "light"
     },
     "output_type": "display_data"
    }
   ],
   "source": [
    "plt.plot(np.abs(xcorr))\n",
    "plt.xlim(1600,1700)\n",
    "print(np.argmax(np.abs(xcorr)[:2048]))"
   ]
  },
  {
   "cell_type": "code",
   "execution_count": 250,
   "id": "87106d8c",
   "metadata": {},
   "outputs": [
    {
     "data": {
      "text/plain": [
       "-1.2122179195388386e-11"
      ]
     },
     "execution_count": 250,
     "metadata": {},
     "output_type": "execute_result"
    }
   ],
   "source": [
    "np.angle(xcorr[1638])/(2*np.pi*100e6)"
   ]
  },
  {
   "cell_type": "code",
   "execution_count": 145,
   "id": "0e19ab54",
   "metadata": {},
   "outputs": [
    {
     "data": {
      "text/plain": [
       "[<matplotlib.lines.Line2D at 0x7f8ed98cbaf0>]"
      ]
     },
     "execution_count": 145,
     "metadata": {},
     "output_type": "execute_result"
    },
    {
     "data": {
      "image/png": "[encoded data removed]",
      "text/plain": [
       "<Figure size 432x288 with 1 Axes>"
      ]
     },
     "metadata": {
      "needs_background": "light"
     },
     "output_type": "display_data"
    }
   ],
   "source": [
    "plt.plot(np.unwrap(np.angle(xcorr)))\n",
    "# plt.xlim(0,10)"
   ]
  },
  {
   "cell_type": "code",
   "execution_count": 74,
   "id": "c8193a9d",
   "metadata": {},
   "outputs": [],
   "source": [
    "y=np.unwrap(np.angle(xcorr))\n",
    "x=np.arange(0,4096)\n",
    "m,c=np.polyfit(x,y,1)"
   ]
  },
  {
   "cell_type": "code",
   "execution_count": 81,
   "id": "2454c299",
   "metadata": {},
   "outputs": [
    {
     "data": {
      "text/plain": [
       "-278.487168443349"
      ]
     },
     "execution_count": 81,
     "metadata": {},
     "output_type": "execute_result"
    }
   ],
   "source": [
    "m*2048/(2*np.pi)"
   ]
  },
  {
   "cell_type": "code",
   "execution_count": 205,
   "id": "39586e0f",
   "metadata": {},
   "outputs": [
    {
     "data": {
      "text/plain": [
       "5.7522203923062065"
      ]
     },
     "execution_count": 205,
     "metadata": {},
     "output_type": "execute_result"
    }
   ],
   "source": [
    "100%(2*np.pi)"
   ]
  },
  {
   "cell_type": "code",
   "execution_count": null,
   "id": "f6af59f1",
   "metadata": {},
   "outputs": [],
   "source": []
  }
 ],
 "metadata": {
  "kernelspec": {
   "display_name": "Python 3 (ipykernel)",
   "language": "python",
   "name": "python3"
  },
  "language_info": {
   "codemirror_mode": {
    "name": "ipython",
    "version": 3
   },
   "file_extension": ".py",
   "mimetype": "text/x-python",
   "name": "python",
   "nbconvert_exporter": "python",
   "pygments_lexer": "ipython3",
   "version": "3.8.10"
  }
 },
 "nbformat": 4,
 "nbformat_minor": 5
}
