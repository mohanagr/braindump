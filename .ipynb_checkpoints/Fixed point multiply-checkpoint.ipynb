{
 "cells": [
  {
   "cell_type": "code",
   "execution_count": 1,
   "id": "b404cf82",
   "metadata": {},
   "outputs": [],
   "source": [
    "import numpy as np"
   ]
  },
  {
   "cell_type": "code",
   "execution_count": 37,
   "id": "3f9ca4ef",
   "metadata": {},
   "outputs": [],
   "source": [
    "def FIX_MPY(a:int, b:int):\n",
    "    c = (a*b)>>15\n",
    "    return c\n",
    "\n",
    "def print_bin(a,nbits=16):\n",
    "    f=1<<nbits\n",
    "    rep=''\n",
    "    for i in range(nbits):\n",
    "        f=f>>1\n",
    "        rep+=str((a&f)>>(nbits-i-1))\n",
    "    return rep\n",
    "\n",
    "def FIX2FLOAT(a:int,nbits=16):\n",
    "    return a/(1<<(nbits-1))\n",
    "\n",
    "def CMP_MUL(a:complex,b:complex):\n",
    "    ar=np.real(a).astype(int)\n",
    "    ai=np.imag(a).astype(int)\n",
    "    br=np.real(b).astype(int)\n",
    "    bi=np.imag(b).astype(int)\n",
    "    r1=FIX_MPY(ar,br)\n",
    "    r2=FIX_MPY(ai,bi)\n",
    "    r=r1-r2\n",
    "    im1=FIX_MPY(ai,br)\n",
    "    im2=FIX_MPY(ar,bi)\n",
    "    im=im1+im2\n",
    "    return r+1J*im"
   ]
  },
  {
   "cell_type": "code",
   "execution_count": 36,
   "id": "66c22a4b",
   "metadata": {},
   "outputs": [
    {
     "name": "stdout",
     "output_type": "stream",
     "text": [
      "0011111111111111\n",
      "0.499969482421875\n"
     ]
    }
   ],
   "source": [
    "print(print_bin(16383))\n",
    "print(FIX2FLOAT(16383))"
   ]
  },
  {
   "cell_type": "code",
   "execution_count": 38,
   "id": "77cdbb71",
   "metadata": {},
   "outputs": [],
   "source": [
    "a=32767+1J*16384\n",
    "b=32767+1J*16384"
   ]
  },
  {
   "cell_type": "code",
   "execution_count": 39,
   "id": "5d37eb6b",
   "metadata": {},
   "outputs": [
    {
     "ename": "AttributeError",
     "evalue": "'float' object has no attribute 'astype'",
     "output_type": "error",
     "traceback": [
      "\u001b[0;31m---------------------------------------------------------------------------\u001b[0m",
      "\u001b[0;31mAttributeError\u001b[0m                            Traceback (most recent call last)",
      "\u001b[0;32m/tmp/ipykernel_25351/2574354097.py\u001b[0m in \u001b[0;36m<module>\u001b[0;34m\u001b[0m\n\u001b[0;32m----> 1\u001b[0;31m \u001b[0mCMP_MUL\u001b[0m\u001b[0;34m(\u001b[0m\u001b[0ma\u001b[0m\u001b[0;34m,\u001b[0m\u001b[0mb\u001b[0m\u001b[0;34m)\u001b[0m\u001b[0;34m\u001b[0m\u001b[0;34m\u001b[0m\u001b[0m\n\u001b[0m",
      "\u001b[0;32m/tmp/ipykernel_25351/3869681691.py\u001b[0m in \u001b[0;36mCMP_MUL\u001b[0;34m(a, b)\u001b[0m\n\u001b[1;32m     15\u001b[0m \u001b[0;34m\u001b[0m\u001b[0m\n\u001b[1;32m     16\u001b[0m \u001b[0;32mdef\u001b[0m \u001b[0mCMP_MUL\u001b[0m\u001b[0;34m(\u001b[0m\u001b[0ma\u001b[0m\u001b[0;34m:\u001b[0m\u001b[0mcomplex\u001b[0m\u001b[0;34m,\u001b[0m\u001b[0mb\u001b[0m\u001b[0;34m:\u001b[0m\u001b[0mcomplex\u001b[0m\u001b[0;34m)\u001b[0m\u001b[0;34m:\u001b[0m\u001b[0;34m\u001b[0m\u001b[0;34m\u001b[0m\u001b[0m\n\u001b[0;32m---> 17\u001b[0;31m     \u001b[0mar\u001b[0m\u001b[0;34m=\u001b[0m\u001b[0mnp\u001b[0m\u001b[0;34m.\u001b[0m\u001b[0mreal\u001b[0m\u001b[0;34m(\u001b[0m\u001b[0ma\u001b[0m\u001b[0;34m)\u001b[0m\u001b[0;34m.\u001b[0m\u001b[0mastype\u001b[0m\u001b[0;34m(\u001b[0m\u001b[0mint\u001b[0m\u001b[0;34m)\u001b[0m\u001b[0;34m\u001b[0m\u001b[0;34m\u001b[0m\u001b[0m\n\u001b[0m\u001b[1;32m     18\u001b[0m     \u001b[0mai\u001b[0m\u001b[0;34m=\u001b[0m\u001b[0mnp\u001b[0m\u001b[0;34m.\u001b[0m\u001b[0mimag\u001b[0m\u001b[0;34m(\u001b[0m\u001b[0ma\u001b[0m\u001b[0;34m)\u001b[0m\u001b[0;34m.\u001b[0m\u001b[0mastype\u001b[0m\u001b[0;34m(\u001b[0m\u001b[0mint\u001b[0m\u001b[0;34m)\u001b[0m\u001b[0;34m\u001b[0m\u001b[0;34m\u001b[0m\u001b[0m\n\u001b[1;32m     19\u001b[0m     \u001b[0mbr\u001b[0m\u001b[0;34m=\u001b[0m\u001b[0mnp\u001b[0m\u001b[0;34m.\u001b[0m\u001b[0mreal\u001b[0m\u001b[0;34m(\u001b[0m\u001b[0mb\u001b[0m\u001b[0;34m)\u001b[0m\u001b[0;34m.\u001b[0m\u001b[0mastype\u001b[0m\u001b[0;34m(\u001b[0m\u001b[0mint\u001b[0m\u001b[0;34m)\u001b[0m\u001b[0;34m\u001b[0m\u001b[0;34m\u001b[0m\u001b[0m\n",
      "\u001b[0;31mAttributeError\u001b[0m: 'float' object has no attribute 'astype'"
     ]
    }
   ],
   "source": [
    "CMP_MUL(a,b)"
   ]
  },
  {
   "cell_type": "code",
   "execution_count": 4,
   "id": "f9d7a829",
   "metadata": {},
   "outputs": [
    {
     "data": {
      "text/plain": [
       "16383"
      ]
     },
     "execution_count": 4,
     "metadata": {},
     "output_type": "execute_result"
    }
   ],
   "source": [
    "FIX_MPY(32767,16384)"
   ]
  },
  {
   "cell_type": "code",
   "execution_count": 3,
   "id": "cbf733fe",
   "metadata": {},
   "outputs": [
    {
     "data": {
      "text/plain": [
       "16384.0"
      ]
     },
     "execution_count": 3,
     "metadata": {},
     "output_type": "execute_result"
    }
   ],
   "source": [
    "32768/2"
   ]
  },
  {
   "cell_type": "code",
   "execution_count": null,
   "id": "7731bd6e",
   "metadata": {},
   "outputs": [],
   "source": []
  }
 ],
 "metadata": {
  "kernelspec": {
   "display_name": "Python 3 (ipykernel)",
   "language": "python",
   "name": "python3"
  },
  "language_info": {
   "codemirror_mode": {
    "name": "ipython",
    "version": 3
   },
   "file_extension": ".py",
   "mimetype": "text/x-python",
   "name": "python",
   "nbconvert_exporter": "python",
   "pygments_lexer": "ipython3",
   "version": "3.8.10"
  }
 },
 "nbformat": 4,
 "nbformat_minor": 5
}
