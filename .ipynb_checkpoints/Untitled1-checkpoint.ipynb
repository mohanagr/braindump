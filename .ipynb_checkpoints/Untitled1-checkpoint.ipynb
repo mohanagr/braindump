{
 "cells": [
  {
   "cell_type": "code",
   "execution_count": 2,
   "id": "cb257968",
   "metadata": {},
   "outputs": [],
   "source": [
    "import numpy as np"
   ]
  },
  {
   "cell_type": "code",
   "execution_count": 100,
   "id": "62b97f6a",
   "metadata": {},
   "outputs": [],
   "source": [
    "def get_errors(nu,n_ant,bw,t_int,beam):\n",
    "    c=3e8\n",
    "    k=1.38e-23\n",
    "    lmbda = c/nu\n",
    "    eta=0.5\n",
    "    gain = 49/(2*k) * 1e-26\n",
    "    print(\"gain is \",gain)\n",
    "    print(\"wavelength\", lmbda)\n",
    "    \n",
    "    T = 300*(nu/150e6)**(-2.6)\n",
    "    print(T)\n",
    "    \n",
    "    denom = 2*bw * t_int * n_ant*(n_ant-1)\n",
    "    \n",
    "    dT = T/np.sqrt(denom) # uncertainty in antenna temp\n",
    "    \n",
    "    dS = dT/gain # this per beam\n",
    "    \n",
    "    beam_size = np.pi * np.deg2rad(beam[0]/60) * np.deg2rad(beam[1]/60)/4\n",
    "    beams_per_sr = 1/beam_size\n",
    "    \n",
    "    dI = dS * beams_per_sr\n",
    "    \n",
    "    dTb = dI * lmbda**2 * 1e-3 /2\n",
    "    \n",
    "    print(\"Flux uncertainty:\", dS*1000, \"mJy\")\n",
    "    print(\"Brightness temp uncertainty:\", dTb, \"K\")"
   ]
  },
  {
   "cell_type": "code",
   "execution_count": 100,
   "id": "c720dd03",
   "metadata": {},
   "outputs": [],
   "source": [
    "def get_errors_LOFAR(nu,n_ant,bw,t_int,beam):\n",
    "    c=3e8\n",
    "    k=1.38e-23\n",
    "    lmbda = c/nu\n",
    "    eta=0.5\n",
    "    gain = 400/(2*k) * 1e-26\n",
    "    print(\"gain is \",gain)\n",
    "    print(\"wavelength\", lmbda)\n",
    "    \n",
    "    T = 300*(nu/150e6)**(-2.6)\n",
    "    print(T)\n",
    "    \n",
    "    denom = 2*bw * t_int * n_ant*(n_ant-1)\n",
    "    \n",
    "    dT = T/np.sqrt(denom) # uncertainty in antenna temp\n",
    "    \n",
    "    dS = dT/gain # this per beam\n",
    "    \n",
    "    beam_size = np.pi * np.deg2rad(beam[0]/60) * np.deg2rad(beam[1]/60)/4\n",
    "    beams_per_sr = 1/beam_size\n",
    "    \n",
    "    dI = dS * beams_per_sr\n",
    "    \n",
    "    dTb = dI * lmbda**2 * 1e-3 /2\n",
    "    \n",
    "    print(\"Flux uncertainty:\", dS*1000, \"mJy\")\n",
    "    print(\"Brightness temp uncertainty:\", dTb, \"K\")"
   ]
  },
  {
   "cell_type": "code",
   "execution_count": 112,
   "id": "7e3a8ab4",
   "metadata": {},
   "outputs": [
    {
     "name": "stdout",
     "output_type": "stream",
     "text": [
      "gain is  0.017753623188405798\n",
      "wavelength 6.382978723404255\n",
      "6130.615764476247\n",
      "Flux uncertainty: 1243.654984565306 mJy\n",
      "Brightness temp uncertainty: 1441.3908497862885 K\n"
     ]
    }
   ],
   "source": [
    "get_errors(47e6,288+64,24e3,13,[17.4,15.2])"
   ]
  },
  {
   "cell_type": "code",
   "execution_count": 111,
   "id": "26f04e2a",
   "metadata": {},
   "outputs": [
    {
     "name": "stdout",
     "output_type": "stream",
     "text": [
      "gain is  0.017753623188405798\n",
      "wavelength 4.101049868766404\n",
      "1940.7535841271906\n",
      "Flux uncertainty: 393.7007245990673 mJy\n",
      "Brightness temp uncertainty: 203.1056785448231 K\n"
     ]
    }
   ],
   "source": [
    "get_errors(73.152e6,288+64,24e3,13,[16.8,14.6])"
   ]
  },
  {
   "cell_type": "code",
   "execution_count": 46,
   "id": "b29e93f1",
   "metadata": {},
   "outputs": [
    {
     "data": {
      "text/plain": [
       "7.5"
      ]
     },
     "execution_count": 46,
     "metadata": {},
     "output_type": "execute_result"
    }
   ],
   "source": [
    "I = 2 k T /lmbda**2"
   ]
  },
  {
   "cell_type": "code",
   "execution_count": 65,
   "id": "ce114586",
   "metadata": {},
   "outputs": [
    {
     "name": "stdout",
     "output_type": "stream",
     "text": [
      "1.701304618946492e-05\n",
      "beams per steradian: 58778.42150450608\n"
     ]
    }
   ],
   "source": [
    "FWHM = np.deg2rad(16/60)\n",
    "beam_size = np.pi*(FWHM/2)**2\n",
    "print(beam_size)\n",
    "print(\"beams per steradian:\", 1/beam_size)"
   ]
  },
  {
   "cell_type": "code",
   "execution_count": 115,
   "id": "1f02b0fd",
   "metadata": {},
   "outputs": [
    {
     "data": {
      "text/plain": [
       "13.22739180574328"
      ]
     },
     "execution_count": 115,
     "metadata": {},
     "output_type": "execute_result"
    }
   ],
   "source": [
    "np.rad2deg(1.22*4.1/1300)*60"
   ]
  },
  {
   "cell_type": "code",
   "execution_count": 134,
   "id": "61510a22",
   "metadata": {},
   "outputs": [
    {
     "data": {
      "text/plain": [
       "6.629163952093193"
      ]
     },
     "execution_count": 134,
     "metadata": {},
     "output_type": "execute_result"
    }
   ],
   "source": [
    "np.rad2deg(1.22*3e8/2600/73e6)*60"
   ]
  },
  {
   "cell_type": "code",
   "execution_count": 130,
   "id": "daf7aeaf",
   "metadata": {},
   "outputs": [
    {
     "data": {
      "text/plain": [
       "25.09957446808511"
      ]
     },
     "execution_count": 130,
     "metadata": {},
     "output_type": "execute_result"
    }
   ],
   "source": [
    "16.16 * 73/47"
   ]
  },
  {
   "cell_type": "code",
   "execution_count": 109,
   "id": "cd7001a6",
   "metadata": {},
   "outputs": [
    {
     "ename": "SyntaxError",
     "evalue": "can't use starred expression here (1185507009.py, line 2)",
     "output_type": "error",
     "traceback": [
      "\u001b[0;36m  File \u001b[0;32m\"/tmp/ipykernel_147414/1185507009.py\"\u001b[0;36m, line \u001b[0;32m2\u001b[0m\n\u001b[0;31m    *np.pi*(FWHM/2)**2\u001b[0m\n\u001b[0m    ^\u001b[0m\n\u001b[0;31mSyntaxError\u001b[0m\u001b[0;31m:\u001b[0m can't use starred expression here\n"
     ]
    }
   ],
   "source": [
    "FWHM = np.deg2rad(1/3600)\n",
    "*np.pi*(FWHM/2)**2"
   ]
  },
  {
   "cell_type": "code",
   "execution_count": 110,
   "id": "fc63e4e5",
   "metadata": {},
   "outputs": [
    {
     "data": {
      "text/plain": [
       "46.992000000000004"
      ]
     },
     "execution_count": 110,
     "metadata": {},
     "output_type": "execute_result"
    }
   ],
   "source": [
    "1958*0.024"
   ]
  },
  {
   "cell_type": "code",
   "execution_count": 119,
   "id": "183e0a6e",
   "metadata": {},
   "outputs": [
    {
     "data": {
      "text/plain": [
       "3333.3333333333335"
      ]
     },
     "execution_count": 119,
     "metadata": {},
     "output_type": "execute_result"
    }
   ],
   "source": [
    "80/0.024"
   ]
  },
  {
   "cell_type": "code",
   "execution_count": 121,
   "id": "bf67124e",
   "metadata": {},
   "outputs": [
    {
     "data": {
      "text/plain": [
       "1.875523171609823"
      ]
     },
     "execution_count": 121,
     "metadata": {},
     "output_type": "execute_result"
    }
   ],
   "source": [
    "(73/48)**1.5"
   ]
  },
  {
   "cell_type": "code",
   "execution_count": 122,
   "id": "8a1696c1",
   "metadata": {},
   "outputs": [
    {
     "data": {
      "text/plain": [
       "2.6666666666666665"
      ]
     },
     "execution_count": 122,
     "metadata": {},
     "output_type": "execute_result"
    }
   ],
   "source": [
    "16/6"
   ]
  },
  {
   "cell_type": "code",
   "execution_count": 124,
   "id": "bf60d253",
   "metadata": {},
   "outputs": [
    {
     "data": {
      "text/plain": [
       "204.54545454545453"
      ]
     },
     "execution_count": 124,
     "metadata": {},
     "output_type": "execute_result"
    }
   ],
   "source": [
    "np.sqrt(288**2/352**2) * 1000 / 4"
   ]
  },
  {
   "cell_type": "code",
   "execution_count": 142,
   "id": "c20cb677",
   "metadata": {},
   "outputs": [
    {
     "name": "stdout",
     "output_type": "stream",
     "text": [
      "341.18181818181813\n",
      "98.99999999999999\n"
     ]
    }
   ],
   "source": [
    "print(np.sqrt(288**2/352**2) * 417)\n",
    "print(np.sqrt(288**2/352**2) * 121)"
   ]
  },
  {
   "cell_type": "code",
   "execution_count": 144,
   "id": "61f26d9b",
   "metadata": {},
   "outputs": [
    {
     "name": "stdout",
     "output_type": "stream",
     "text": [
      "146.6590909090909\n",
      "114.54545454545453\n"
     ]
    }
   ],
   "source": [
    "print(np.sqrt(288**2/352**2) * 717/4)\n",
    "print(np.sqrt(288**2/352**2) * 560/4)"
   ]
  },
  {
   "cell_type": "code",
   "execution_count": 125,
   "id": "02f46f02",
   "metadata": {},
   "outputs": [
    {
     "data": {
      "text/plain": [
       "277.64360128615056"
      ]
     },
     "execution_count": 125,
     "metadata": {},
     "output_type": "execute_result"
    }
   ],
   "source": [
    "204 * (47/73)**-0.7"
   ]
  },
  {
   "cell_type": "code",
   "execution_count": 126,
   "id": "2c097a42",
   "metadata": {},
   "outputs": [
    {
     "data": {
      "text/plain": [
       "191.33445277530876"
      ]
     },
     "execution_count": 126,
     "metadata": {},
     "output_type": "execute_result"
    }
   ],
   "source": [
    "204 * (80/73)**-0.7"
   ]
  },
  {
   "cell_type": "code",
   "execution_count": 140,
   "id": "3e362887",
   "metadata": {},
   "outputs": [
    {
     "data": {
      "text/plain": [
       "121.3741470566751"
      ]
     },
     "execution_count": 140,
     "metadata": {},
     "output_type": "execute_result"
    }
   ],
   "source": [
    "154*(80/73)**-2.6"
   ]
  },
  {
   "cell_type": "code",
   "execution_count": 143,
   "id": "26f586b9",
   "metadata": {},
   "outputs": [
    {
     "data": {
      "text/plain": [
       "560.8725625472287"
      ]
     },
     "execution_count": 143,
     "metadata": {},
     "output_type": "execute_result"
    }
   ],
   "source": [
    "598*(80/73)**-0.7"
   ]
  },
  {
   "cell_type": "code",
   "execution_count": null,
   "id": "e469d9ef",
   "metadata": {},
   "outputs": [],
   "source": []
  }
 ],
 "metadata": {
  "kernelspec": {
   "display_name": "Python 3 (ipykernel)",
   "language": "python",
   "name": "python3"
  },
  "language_info": {
   "codemirror_mode": {
    "name": "ipython",
    "version": 3
   },
   "file_extension": ".py",
   "mimetype": "text/x-python",
   "name": "python",
   "nbconvert_exporter": "python",
   "pygments_lexer": "ipython3",
   "version": "3.8.10"
  }
 },
 "nbformat": 4,
 "nbformat_minor": 5
}
