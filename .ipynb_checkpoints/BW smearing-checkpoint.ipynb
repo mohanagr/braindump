{
 "cells": [
  {
   "cell_type": "code",
   "execution_count": 142,
   "id": "a246ac49",
   "metadata": {},
   "outputs": [],
   "source": [
    "import numpy as np\n",
    "import matplotlib.pyplot as plt\n",
    "from scipy.special import sici"
   ]
  },
  {
   "cell_type": "code",
   "execution_count": 326,
   "id": "7ce9bb37",
   "metadata": {},
   "outputs": [],
   "source": [
    "nu = 10e6\n",
    "delnu = 1e6\n",
    "c = 3e8\n",
    "b = 10e3 #m\n",
    "u0 = b*nu/c\n",
    "l0 = 0.1"
   ]
  },
  {
   "cell_type": "code",
   "execution_count": 333,
   "id": "1eb77d5e",
   "metadata": {},
   "outputs": [
    {
     "data": {
      "text/plain": [
       "33.333333333333336"
      ]
     },
     "execution_count": 333,
     "metadata": {},
     "output_type": "execute_result"
    }
   ],
   "source": [
    "b*delnu/c"
   ]
  },
  {
   "cell_type": "code",
   "execution_count": 334,
   "id": "918db083",
   "metadata": {},
   "outputs": [
    {
     "data": {
      "text/plain": [
       "1.6666666666666667"
      ]
     },
     "execution_count": 334,
     "metadata": {},
     "output_type": "execute_result"
    }
   ],
   "source": [
    "uv_res"
   ]
  },
  {
   "cell_type": "code",
   "execution_count": 162,
   "id": "fd154012",
   "metadata": {},
   "outputs": [],
   "source": [
    "n=1024\n",
    "u0_arr = np.zeros(n,dtype='complex128')"
   ]
  },
  {
   "cell_type": "code",
   "execution_count": 168,
   "id": "cf6cb247",
   "metadata": {},
   "outputs": [],
   "source": [
    "im_size=c/nu/b*10 # image extent = 20x beam width"
   ]
  },
  {
   "cell_type": "code",
   "execution_count": 323,
   "id": "9fc11a15",
   "metadata": {},
   "outputs": [],
   "source": [
    "uv_res = 1/im_size\n",
    "im_res = im_size/n\n",
    "l_arr = np.fft.fftfreq(n)*n*im_res\n",
    "u0_arr = np.fft.fftfreq(n)*n*uv_res\n",
    "\n",
    "l_u = np.zeros((n,n),dtype='complex128')"
   ]
  },
  {
   "cell_type": "code",
   "execution_count": 329,
   "id": "3f4456f4",
   "metadata": {},
   "outputs": [],
   "source": [
    "w_arr = np.zeros(n,dtype='complex128')\n",
    "w_arr[:np.round(u0).astype(int)]=1\n",
    "w_arr[-np.round(u0).astype(int):]=1"
   ]
  },
  {
   "cell_type": "code",
   "execution_count": 332,
   "id": "352bd694",
   "metadata": {
    "scrolled": true
   },
   "outputs": [
    {
     "data": {
      "text/plain": [
       "(500.0, 600.0)"
      ]
     },
     "execution_count": 332,
     "metadata": {},
     "output_type": "execute_result"
    },
    {
     "data": {
      "image/png": "[encoded data removed]",
      "text/plain": [
       "<Figure size 432x288 with 1 Axes>"
      ]
     },
     "metadata": {
      "needs_background": "light"
     },
     "output_type": "display_data"
    }
   ],
   "source": [
    "plt.plot(np.fft.fftshift(np.abs(np.fft.ifft(w_arr))))\n",
    "plt.xlim(500,600)"
   ]
  },
  {
   "cell_type": "code",
   "execution_count": 548,
   "id": "5e69bc05",
   "metadata": {},
   "outputs": [],
   "source": [
    "us= np.fft.fftfreq(n)*n\n",
    "ls=np.fft.fftfreq(n)*n"
   ]
  },
  {
   "cell_type": "code",
   "execution_count": 559,
   "id": "f9de9acc",
   "metadata": {},
   "outputs": [
    {
     "data": {
      "text/plain": [
       "array([ 0.,  1.,  2., ..., -3., -2., -1.])"
      ]
     },
     "execution_count": 559,
     "metadata": {},
     "output_type": "execute_result"
    }
   ],
   "source": [
    "ls"
   ]
  },
  {
   "cell_type": "code",
   "execution_count": 569,
   "id": "3fb43656",
   "metadata": {},
   "outputs": [
    {
     "name": "stdout",
     "output_type": "stream",
     "text": [
      "-170.0 -170.0\n",
      "-169.0 -169.0\n",
      "-168.0 -168.0\n",
      "-167.0 -167.0\n",
      "-166.0 -166.0\n",
      "-165.0 -165.0\n",
      "-164.0 -164.0\n",
      "-163.0 -163.0\n",
      "-162.0 -162.0\n",
      "-161.0 -161.0\n",
      "-160.0 -160.0\n",
      "-159.0 -159.0\n",
      "-158.0 -158.0\n",
      "-157.0 -157.0\n",
      "-156.0 -156.0\n",
      "-155.0 -155.0\n",
      "-154.0 -154.0\n",
      "-153.0 -153.0\n",
      "-152.0 -152.0\n",
      "-151.0 -151.0\n",
      "-150.0 -150.0\n",
      "-149.0 -149.0\n",
      "-148.0 -148.0\n",
      "-147.0 -147.0\n",
      "-146.0 -146.0\n",
      "-145.0 -145.0\n",
      "-144.0 -144.0\n",
      "-143.0 -143.0\n",
      "-142.0 -142.0\n",
      "-141.0 -141.0\n",
      "-140.0 -140.0\n",
      "-139.0 -139.0\n",
      "-138.0 -138.0\n",
      "-137.0 -137.0\n",
      "-136.0 -136.0\n",
      "-135.0 -135.0\n",
      "-134.0 -134.0\n",
      "-133.0 -133.0\n",
      "-132.0 -132.0\n",
      "-131.0 -131.0\n",
      "-130.0 -130.0\n",
      "-129.0 -129.0\n",
      "-128.0 -128.0\n",
      "-127.0 -127.0\n",
      "-126.0 -126.0\n",
      "-125.0 -125.0\n",
      "-124.0 -124.0\n",
      "-123.0 -123.0\n",
      "-122.0 -122.0\n",
      "-121.0 -121.0\n",
      "-120.0 -120.0\n",
      "-119.0 -119.0\n",
      "-118.0 -118.0\n",
      "-117.0 -117.0\n",
      "-116.0 -116.0\n",
      "-115.0 -115.0\n",
      "-114.0 -114.0\n",
      "-113.0 -113.0\n",
      "-112.0 -112.0\n",
      "-111.0 -111.0\n",
      "-110.0 -110.0\n",
      "-109.0 -109.0\n",
      "-108.0 -108.0\n",
      "-107.0 -107.0\n",
      "-106.0 -106.0\n",
      "-105.0 -105.0\n",
      "-104.0 -104.0\n",
      "-103.0 -103.0\n",
      "-102.0 -102.0\n",
      "-101.0 -101.0\n",
      "-100.0 -100.0\n",
      "-99.0 -99.0\n",
      "-98.0 -98.0\n",
      "-97.0 -97.0\n",
      "-96.0 -96.0\n",
      "-95.0 -95.0\n",
      "-94.0 -94.0\n",
      "-93.0 -93.0\n",
      "-92.0 -92.0\n",
      "-91.0 -91.0\n",
      "-90.0 -90.0\n",
      "-89.0 -89.0\n",
      "-88.0 -88.0\n",
      "-87.0 -87.0\n",
      "-86.0 -86.0\n",
      "-85.0 -85.0\n",
      "-84.0 -84.0\n",
      "-83.0 -83.0\n",
      "-82.0 -82.0\n",
      "-81.0 -81.0\n",
      "-80.0 -80.0\n",
      "-79.0 -79.0\n",
      "-78.0 -78.0\n",
      "-77.0 -77.0\n",
      "-76.0 -76.0\n",
      "-75.0 -75.0\n",
      "-74.0 -74.0\n",
      "-73.0 -73.0\n",
      "-72.0 -72.0\n",
      "-71.0 -71.0\n",
      "-70.0 -70.0\n",
      "-69.0 -69.0\n",
      "-68.0 -68.0\n",
      "-67.0 -67.0\n",
      "-66.0 -66.0\n",
      "-65.0 -65.0\n",
      "-64.0 -64.0\n",
      "-63.0 -63.0\n",
      "-62.0 -62.0\n",
      "-61.0 -61.0\n",
      "-60.0 -60.0\n",
      "-59.0 -59.0\n",
      "-58.0 -58.0\n",
      "-57.0 -57.0\n",
      "-56.0 -56.0\n",
      "-55.0 -55.0\n",
      "-54.0 -54.0\n",
      "-53.0 -53.0\n",
      "-52.0 -52.0\n",
      "-51.0 -51.0\n",
      "-50.0 -50.0\n",
      "-49.0 -49.0\n",
      "-48.0 -48.0\n",
      "-47.0 -47.0\n",
      "-46.0 -46.0\n",
      "-45.0 -45.0\n",
      "-44.0 -44.0\n",
      "-43.0 -43.0\n",
      "-42.0 -42.0\n",
      "-41.0 -41.0\n",
      "-40.0 -40.0\n",
      "-39.0 -39.0\n",
      "-38.0 -38.0\n",
      "-37.0 -37.0\n",
      "-36.0 -36.0\n",
      "-35.0 -35.0\n",
      "-34.0 -34.0\n",
      "-33.0 -33.0\n",
      "-32.0 -32.0\n",
      "-31.0 -31.0\n",
      "-30.0 -30.0\n",
      "-29.0 -29.0\n",
      "-28.0 -28.0\n",
      "-27.0 -27.0\n",
      "-26.0 -26.0\n",
      "-25.0 -25.0\n",
      "-24.0 -24.0\n",
      "-23.0 -23.0\n",
      "-22.0 -22.0\n",
      "-21.0 -21.0\n",
      "-20.0 -20.0\n",
      "-19.0 -19.0\n",
      "-18.0 -18.0\n",
      "-17.0 -17.0\n",
      "-16.0 -16.0\n",
      "-15.0 -15.0\n",
      "-14.0 -14.0\n",
      "-13.0 -13.0\n",
      "-12.0 -12.0\n",
      "-11.0 -11.0\n",
      "-10.0 -10.0\n",
      "-9.0 -9.0\n",
      "-8.0 -8.0\n",
      "-7.0 -7.0\n",
      "-6.0 -6.0\n",
      "-5.0 -5.0\n",
      "-4.0 -4.0\n",
      "-3.0 -3.0\n",
      "-2.0 -2.0\n",
      "-1.0 -1.0\n",
      "0.0 0.0\n",
      "1.0 1.0\n",
      "2.0 2.0\n",
      "3.0 3.0\n",
      "4.0 4.0\n",
      "5.0 5.0\n",
      "6.0 6.0\n",
      "7.0 7.0\n",
      "8.0 8.0\n",
      "9.0 9.0\n",
      "10.0 10.0\n",
      "11.0 11.0\n",
      "12.0 12.0\n",
      "13.0 13.0\n",
      "14.0 14.0\n",
      "15.0 15.0\n",
      "16.0 16.0\n",
      "17.0 17.0\n",
      "18.0 18.0\n",
      "19.0 19.0\n",
      "20.0 20.0\n",
      "21.0 21.0\n",
      "22.0 22.0\n",
      "23.0 23.0\n",
      "24.0 24.0\n",
      "25.0 25.0\n",
      "26.0 26.0\n",
      "27.0 27.0\n",
      "28.0 28.0\n",
      "29.0 29.0\n",
      "30.0 30.0\n",
      "31.0 31.0\n",
      "32.0 32.0\n",
      "33.0 33.0\n",
      "34.0 34.0\n",
      "35.0 35.0\n",
      "36.0 36.0\n",
      "37.0 37.0\n",
      "38.0 38.0\n",
      "39.0 39.0\n",
      "40.0 40.0\n",
      "41.0 41.0\n",
      "42.0 42.0\n",
      "43.0 43.0\n",
      "44.0 44.0\n",
      "45.0 45.0\n",
      "46.0 46.0\n",
      "47.0 47.0\n",
      "48.0 48.0\n",
      "49.0 49.0\n",
      "50.0 50.0\n",
      "51.0 51.0\n",
      "52.0 52.0\n",
      "53.0 53.0\n",
      "54.0 54.0\n",
      "55.0 55.0\n",
      "56.0 56.0\n",
      "57.0 57.0\n",
      "58.0 58.0\n",
      "59.0 59.0\n",
      "60.0 60.0\n",
      "61.0 61.0\n",
      "62.0 62.0\n",
      "63.0 63.0\n",
      "64.0 64.0\n",
      "65.0 65.0\n",
      "66.0 66.0\n",
      "67.0 67.0\n",
      "68.0 68.0\n",
      "69.0 69.0\n",
      "70.0 70.0\n",
      "71.0 71.0\n",
      "72.0 72.0\n",
      "73.0 73.0\n",
      "74.0 74.0\n",
      "75.0 75.0\n",
      "76.0 76.0\n",
      "77.0 77.0\n",
      "78.0 78.0\n",
      "79.0 79.0\n",
      "80.0 80.0\n",
      "81.0 81.0\n",
      "82.0 82.0\n",
      "83.0 83.0\n",
      "84.0 84.0\n",
      "85.0 85.0\n",
      "86.0 86.0\n",
      "87.0 87.0\n",
      "88.0 88.0\n",
      "89.0 89.0\n",
      "90.0 90.0\n",
      "91.0 91.0\n",
      "92.0 92.0\n",
      "93.0 93.0\n",
      "94.0 94.0\n",
      "95.0 95.0\n",
      "96.0 96.0\n",
      "97.0 97.0\n",
      "98.0 98.0\n",
      "99.0 99.0\n",
      "100.0 100.0\n",
      "101.0 101.0\n",
      "102.0 102.0\n",
      "103.0 103.0\n",
      "104.0 104.0\n",
      "105.0 105.0\n",
      "106.0 106.0\n",
      "107.0 107.0\n",
      "108.0 108.0\n",
      "109.0 109.0\n",
      "110.0 110.0\n",
      "111.0 111.0\n",
      "112.0 112.0\n",
      "113.0 113.0\n",
      "114.0 114.0\n",
      "115.0 115.0\n",
      "116.0 116.0\n",
      "117.0 117.0\n",
      "118.0 118.0\n",
      "119.0 119.0\n",
      "120.0 120.0\n",
      "121.0 121.0\n",
      "122.0 122.0\n",
      "123.0 123.0\n",
      "124.0 124.0\n",
      "125.0 125.0\n",
      "126.0 126.0\n",
      "127.0 127.0\n",
      "128.0 128.0\n",
      "129.0 129.0\n",
      "130.0 130.0\n",
      "131.0 131.0\n",
      "132.0 132.0\n",
      "133.0 133.0\n",
      "134.0 134.0\n",
      "135.0 135.0\n",
      "136.0 136.0\n",
      "137.0 137.0\n",
      "138.0 138.0\n",
      "139.0 139.0\n",
      "140.0 140.0\n",
      "141.0 141.0\n",
      "142.0 142.0\n",
      "143.0 143.0\n",
      "144.0 144.0\n",
      "145.0 145.0\n",
      "146.0 146.0\n",
      "147.0 147.0\n",
      "148.0 148.0\n",
      "149.0 149.0\n",
      "150.0 150.0\n",
      "151.0 151.0\n",
      "152.0 152.0\n",
      "153.0 153.0\n",
      "154.0 154.0\n",
      "155.0 155.0\n",
      "156.0 156.0\n",
      "157.0 157.0\n",
      "158.0 158.0\n",
      "159.0 159.0\n",
      "160.0 160.0\n",
      "161.0 161.0\n",
      "162.0 162.0\n",
      "163.0 163.0\n",
      "164.0 164.0\n",
      "165.0 165.0\n",
      "166.0 166.0\n",
      "167.0 167.0\n",
      "168.0 168.0\n",
      "169.0 169.0\n",
      "170.0 170.0\n",
      "171.0 171.0\n",
      "172.0 172.0\n",
      "173.0 173.0\n",
      "174.0 174.0\n",
      "175.0 175.0\n",
      "176.0 176.0\n",
      "177.0 177.0\n",
      "178.0 178.0\n",
      "179.0 179.0\n",
      "180.0 180.0\n",
      "181.0 181.0\n",
      "182.0 182.0\n",
      "183.0 183.0\n",
      "184.0 184.0\n",
      "185.0 185.0\n",
      "186.0 186.0\n",
      "187.0 187.0\n",
      "188.0 188.0\n",
      "189.0 189.0\n",
      "190.0 190.0\n",
      "191.0 191.0\n",
      "192.0 192.0\n",
      "193.0 193.0\n",
      "194.0 194.0\n",
      "195.0 195.0\n",
      "196.0 196.0\n",
      "197.0 197.0\n",
      "198.0 198.0\n",
      "199.0 199.0\n",
      "200.0 200.0\n",
      "201.0 201.0\n",
      "202.0 202.0\n",
      "203.0 203.0\n",
      "204.0 204.0\n",
      "205.0 205.0\n",
      "206.0 206.0\n",
      "207.0 207.0\n",
      "208.0 208.0\n",
      "209.0 209.0\n",
      "210.0 210.0\n",
      "211.0 211.0\n",
      "212.0 212.0\n",
      "213.0 213.0\n",
      "214.0 214.0\n",
      "215.0 215.0\n",
      "216.0 216.0\n",
      "217.0 217.0\n",
      "218.0 218.0\n",
      "219.0 219.0\n",
      "220.0 220.0\n",
      "221.0 221.0\n",
      "222.0 222.0\n",
      "223.0 223.0\n",
      "224.0 224.0\n",
      "225.0 225.0\n",
      "226.0 226.0\n",
      "227.0 227.0\n",
      "228.0 228.0\n",
      "229.0 229.0\n",
      "230.0 230.0\n",
      "231.0 231.0\n",
      "232.0 232.0\n",
      "233.0 233.0\n",
      "234.0 234.0\n",
      "235.0 235.0\n",
      "236.0 236.0\n",
      "237.0 237.0\n",
      "238.0 238.0\n",
      "239.0 239.0\n",
      "240.0 240.0\n",
      "241.0 241.0\n",
      "242.0 242.0\n",
      "243.0 243.0\n",
      "244.0 244.0\n",
      "245.0 245.0\n",
      "246.0 246.0\n",
      "247.0 247.0\n",
      "248.0 248.0\n",
      "249.0 249.0\n",
      "250.0 250.0\n",
      "251.0 251.0\n",
      "252.0 252.0\n",
      "253.0 253.0\n",
      "254.0 254.0\n",
      "255.0 255.0\n",
      "256.0 256.0\n",
      "257.0 257.0\n",
      "258.0 258.0\n",
      "259.0 259.0\n",
      "260.0 260.0\n",
      "261.0 261.0\n",
      "262.0 262.0\n",
      "263.0 263.0\n",
      "264.0 264.0\n",
      "265.0 265.0\n",
      "266.0 266.0\n",
      "267.0 267.0\n",
      "268.0 268.0\n",
      "269.0 269.0\n",
      "270.0 270.0\n",
      "271.0 271.0\n",
      "272.0 272.0\n",
      "273.0 273.0\n",
      "274.0 274.0\n",
      "275.0 275.0\n",
      "276.0 276.0\n",
      "277.0 277.0\n",
      "278.0 278.0\n",
      "279.0 279.0\n",
      "280.0 280.0\n",
      "281.0 281.0\n",
      "282.0 282.0\n",
      "283.0 283.0\n",
      "284.0 284.0\n",
      "285.0 285.0\n",
      "286.0 286.0\n",
      "287.0 287.0\n",
      "288.0 288.0\n",
      "289.0 289.0\n",
      "290.0 290.0\n",
      "291.0 291.0\n",
      "292.0 292.0\n",
      "293.0 293.0\n",
      "294.0 294.0\n",
      "295.0 295.0\n",
      "296.0 296.0\n",
      "297.0 297.0\n",
      "298.0 298.0\n",
      "299.0 299.0\n",
      "300.0 300.0\n",
      "301.0 301.0\n",
      "302.0 302.0\n",
      "303.0 303.0\n",
      "304.0 304.0\n",
      "305.0 305.0\n",
      "306.0 306.0\n",
      "307.0 307.0\n",
      "308.0 308.0\n",
      "309.0 309.0\n",
      "310.0 310.0\n",
      "311.0 311.0\n",
      "312.0 312.0\n",
      "313.0 313.0\n",
      "314.0 314.0\n",
      "315.0 315.0\n",
      "316.0 316.0\n",
      "317.0 317.0\n",
      "318.0 318.0\n",
      "319.0 319.0\n",
      "320.0 320.0\n",
      "321.0 321.0\n",
      "322.0 322.0\n",
      "323.0 323.0\n",
      "324.0 324.0\n",
      "325.0 325.0\n",
      "326.0 326.0\n",
      "327.0 327.0\n",
      "328.0 328.0\n",
      "329.0 329.0\n",
      "330.0 330.0\n",
      "331.0 331.0\n",
      "332.0 332.0\n",
      "333.0 333.0\n",
      "334.0 334.0\n",
      "335.0 335.0\n",
      "336.0 336.0\n",
      "337.0 337.0\n",
      "338.0 338.0\n",
      "339.0 339.0\n",
      "340.0 340.0\n",
      "341.0 341.0\n",
      "-682.0 342.0\n",
      "-681.0 343.0\n",
      "-680.0 344.0\n",
      "-679.0 345.0\n",
      "-678.0 346.0\n",
      "-677.0 347.0\n",
      "-676.0 348.0\n",
      "-675.0 349.0\n",
      "-674.0 350.0\n",
      "-673.0 351.0\n",
      "-672.0 352.0\n",
      "-671.0 353.0\n",
      "-670.0 354.0\n",
      "-669.0 355.0\n",
      "-668.0 356.0\n",
      "-667.0 357.0\n",
      "-666.0 358.0\n",
      "-665.0 359.0\n",
      "-664.0 360.0\n",
      "-663.0 361.0\n",
      "-662.0 362.0\n",
      "-661.0 363.0\n",
      "-660.0 364.0\n",
      "-659.0 365.0\n",
      "-658.0 366.0\n",
      "-657.0 367.0\n",
      "-656.0 368.0\n",
      "-655.0 369.0\n",
      "-654.0 370.0\n",
      "-653.0 371.0\n",
      "-652.0 372.0\n",
      "-651.0 373.0\n",
      "-650.0 374.0\n",
      "-649.0 375.0\n",
      "-648.0 376.0\n",
      "-647.0 377.0\n",
      "-646.0 378.0\n",
      "-645.0 379.0\n",
      "-644.0 380.0\n",
      "-643.0 381.0\n",
      "-642.0 382.0\n",
      "-641.0 383.0\n",
      "-640.0 384.0\n",
      "-639.0 385.0\n",
      "-638.0 386.0\n",
      "-637.0 387.0\n",
      "-636.0 388.0\n",
      "-635.0 389.0\n",
      "-634.0 390.0\n",
      "-633.0 391.0\n",
      "-632.0 392.0\n",
      "-631.0 393.0\n",
      "-630.0 394.0\n",
      "-629.0 395.0\n",
      "-628.0 396.0\n",
      "-627.0 397.0\n",
      "-626.0 398.0\n",
      "-625.0 399.0\n",
      "-624.0 400.0\n",
      "-623.0 401.0\n",
      "-622.0 402.0\n",
      "-621.0 403.0\n",
      "-620.0 404.0\n",
      "-619.0 405.0\n",
      "-618.0 406.0\n",
      "-617.0 407.0\n",
      "-616.0 408.0\n",
      "-615.0 409.0\n",
      "-614.0 410.0\n",
      "-613.0 411.0\n",
      "-612.0 412.0\n",
      "-611.0 413.0\n",
      "-610.0 414.0\n",
      "-609.0 415.0\n",
      "-608.0 416.0\n",
      "-607.0 417.0\n",
      "-606.0 418.0\n",
      "-605.0 419.0\n",
      "-604.0 420.0\n",
      "-603.0 421.0\n",
      "-602.0 422.0\n",
      "-601.0 423.0\n",
      "-600.0 424.0\n",
      "-599.0 425.0\n",
      "-598.0 426.0\n",
      "-597.0 427.0\n",
      "-596.0 428.0\n",
      "-595.0 429.0\n",
      "-594.0 430.0\n",
      "-593.0 431.0\n",
      "-592.0 432.0\n",
      "-591.0 433.0\n",
      "-590.0 434.0\n",
      "-589.0 435.0\n",
      "-588.0 436.0\n",
      "-587.0 437.0\n",
      "-586.0 438.0\n",
      "-585.0 439.0\n",
      "-584.0 440.0\n",
      "-583.0 441.0\n",
      "-582.0 442.0\n",
      "-581.0 443.0\n",
      "-580.0 444.0\n",
      "-579.0 445.0\n",
      "-578.0 446.0\n",
      "-577.0 447.0\n",
      "-576.0 448.0\n",
      "-575.0 449.0\n",
      "-574.0 450.0\n",
      "-573.0 451.0\n",
      "-572.0 452.0\n",
      "-571.0 453.0\n",
      "-570.0 454.0\n",
      "-569.0 455.0\n",
      "-568.0 456.0\n",
      "-567.0 457.0\n",
      "-566.0 458.0\n",
      "-565.0 459.0\n",
      "-564.0 460.0\n",
      "-563.0 461.0\n",
      "-562.0 462.0\n",
      "-561.0 463.0\n",
      "-560.0 464.0\n",
      "-559.0 465.0\n",
      "-558.0 466.0\n",
      "-557.0 467.0\n",
      "-556.0 468.0\n",
      "-555.0 469.0\n",
      "-554.0 470.0\n",
      "-553.0 471.0\n",
      "-552.0 472.0\n",
      "-551.0 473.0\n",
      "-550.0 474.0\n",
      "-549.0 475.0\n",
      "-548.0 476.0\n",
      "-547.0 477.0\n",
      "-546.0 478.0\n",
      "-545.0 479.0\n",
      "-544.0 480.0\n",
      "-543.0 481.0\n",
      "-542.0 482.0\n",
      "-541.0 483.0\n",
      "-540.0 484.0\n",
      "-539.0 485.0\n",
      "-538.0 486.0\n",
      "-537.0 487.0\n",
      "-536.0 488.0\n",
      "-535.0 489.0\n",
      "-534.0 490.0\n",
      "-533.0 491.0\n",
      "-532.0 492.0\n",
      "-531.0 493.0\n",
      "-530.0 494.0\n",
      "-529.0 495.0\n",
      "-528.0 496.0\n",
      "-527.0 497.0\n",
      "-526.0 498.0\n",
      "-525.0 499.0\n",
      "-524.0 500.0\n",
      "-523.0 501.0\n",
      "-522.0 502.0\n",
      "-521.0 503.0\n",
      "-520.0 504.0\n",
      "-519.0 505.0\n",
      "-518.0 506.0\n",
      "-517.0 507.0\n",
      "-516.0 508.0\n",
      "-515.0 509.0\n",
      "-514.0 510.0\n",
      "-513.0 511.0\n",
      "-512.0 -512.0\n",
      "-511.0 -511.0\n",
      "-510.0 -510.0\n",
      "-509.0 -509.0\n",
      "-508.0 -508.0\n",
      "-507.0 -507.0\n",
      "-506.0 -506.0\n",
      "-505.0 -505.0\n",
      "-504.0 -504.0\n",
      "-503.0 -503.0\n",
      "-502.0 -502.0\n",
      "-501.0 -501.0\n",
      "-500.0 -500.0\n",
      "-499.0 -499.0\n",
      "-498.0 -498.0\n",
      "-497.0 -497.0\n",
      "-496.0 -496.0\n",
      "-495.0 -495.0\n",
      "-494.0 -494.0\n",
      "-493.0 -493.0\n",
      "-492.0 -492.0\n",
      "-491.0 -491.0\n",
      "-490.0 -490.0\n",
      "-489.0 -489.0\n",
      "-488.0 -488.0\n",
      "-487.0 -487.0\n",
      "-486.0 -486.0\n",
      "-485.0 -485.0\n",
      "-484.0 -484.0\n",
      "-483.0 -483.0\n",
      "-482.0 -482.0\n",
      "-481.0 -481.0\n",
      "-480.0 -480.0\n",
      "-479.0 -479.0\n",
      "-478.0 -478.0\n",
      "-477.0 -477.0\n",
      "-476.0 -476.0\n",
      "-475.0 -475.0\n",
      "-474.0 -474.0\n",
      "-473.0 -473.0\n",
      "-472.0 -472.0\n",
      "-471.0 -471.0\n",
      "-470.0 -470.0\n",
      "-469.0 -469.0\n",
      "-468.0 -468.0\n",
      "-467.0 -467.0\n",
      "-466.0 -466.0\n",
      "-465.0 -465.0\n",
      "-464.0 -464.0\n",
      "-463.0 -463.0\n",
      "-462.0 -462.0\n",
      "-461.0 -461.0\n",
      "-460.0 -460.0\n",
      "-459.0 -459.0\n",
      "-458.0 -458.0\n",
      "-457.0 -457.0\n",
      "-456.0 -456.0\n",
      "-455.0 -455.0\n",
      "-454.0 -454.0\n",
      "-453.0 -453.0\n",
      "-452.0 -452.0\n",
      "-451.0 -451.0\n",
      "-450.0 -450.0\n",
      "-449.0 -449.0\n",
      "-448.0 -448.0\n",
      "-447.0 -447.0\n",
      "-446.0 -446.0\n",
      "-445.0 -445.0\n",
      "-444.0 -444.0\n",
      "-443.0 -443.0\n",
      "-442.0 -442.0\n",
      "-441.0 -441.0\n",
      "-440.0 -440.0\n",
      "-439.0 -439.0\n",
      "-438.0 -438.0\n",
      "-437.0 -437.0\n",
      "-436.0 -436.0\n",
      "-435.0 -435.0\n",
      "-434.0 -434.0\n",
      "-433.0 -433.0\n",
      "-432.0 -432.0\n",
      "-431.0 -431.0\n",
      "-430.0 -430.0\n",
      "-429.0 -429.0\n",
      "-428.0 -428.0\n",
      "-427.0 -427.0\n",
      "-426.0 -426.0\n",
      "-425.0 -425.0\n",
      "-424.0 -424.0\n",
      "-423.0 -423.0\n",
      "-422.0 -422.0\n",
      "-421.0 -421.0\n",
      "-420.0 -420.0\n",
      "-419.0 -419.0\n",
      "-418.0 -418.0\n",
      "-417.0 -417.0\n",
      "-416.0 -416.0\n",
      "-415.0 -415.0\n",
      "-414.0 -414.0\n",
      "-413.0 -413.0\n",
      "-412.0 -412.0\n",
      "-411.0 -411.0\n",
      "-410.0 -410.0\n",
      "-409.0 -409.0\n",
      "-408.0 -408.0\n",
      "-407.0 -407.0\n",
      "-406.0 -406.0\n",
      "-405.0 -405.0\n",
      "-404.0 -404.0\n",
      "-403.0 -403.0\n",
      "-402.0 -402.0\n",
      "-401.0 -401.0\n",
      "-400.0 -400.0\n",
      "-399.0 -399.0\n",
      "-398.0 -398.0\n",
      "-397.0 -397.0\n",
      "-396.0 -396.0\n",
      "-395.0 -395.0\n",
      "-394.0 -394.0\n",
      "-393.0 -393.0\n",
      "-392.0 -392.0\n",
      "-391.0 -391.0\n",
      "-390.0 -390.0\n",
      "-389.0 -389.0\n",
      "-388.0 -388.0\n",
      "-387.0 -387.0\n",
      "-386.0 -386.0\n",
      "-385.0 -385.0\n",
      "-384.0 -384.0\n",
      "-383.0 -383.0\n",
      "-382.0 -382.0\n",
      "-381.0 -381.0\n",
      "-380.0 -380.0\n",
      "-379.0 -379.0\n",
      "-378.0 -378.0\n",
      "-377.0 -377.0\n",
      "-376.0 -376.0\n",
      "-375.0 -375.0\n",
      "-374.0 -374.0\n",
      "-373.0 -373.0\n",
      "-372.0 -372.0\n",
      "-371.0 -371.0\n",
      "-370.0 -370.0\n",
      "-369.0 -369.0\n",
      "-368.0 -368.0\n",
      "-367.0 -367.0\n",
      "-366.0 -366.0\n",
      "-365.0 -365.0\n",
      "-364.0 -364.0\n",
      "-363.0 -363.0\n",
      "-362.0 -362.0\n",
      "-361.0 -361.0\n",
      "-360.0 -360.0\n",
      "-359.0 -359.0\n",
      "-358.0 -358.0\n",
      "-357.0 -357.0\n",
      "-356.0 -356.0\n",
      "-355.0 -355.0\n",
      "-354.0 -354.0\n",
      "-353.0 -353.0\n",
      "-352.0 -352.0\n",
      "-351.0 -351.0\n",
      "-350.0 -350.0\n",
      "-349.0 -349.0\n",
      "-348.0 -348.0\n",
      "-347.0 -347.0\n",
      "-346.0 -346.0\n",
      "-345.0 -345.0\n",
      "-344.0 -344.0\n",
      "-343.0 -343.0\n",
      "-342.0 -342.0\n",
      "-341.0 -341.0\n",
      "-340.0 -340.0\n",
      "-339.0 -339.0\n",
      "-338.0 -338.0\n",
      "-337.0 -337.0\n",
      "-336.0 -336.0\n",
      "-335.0 -335.0\n",
      "-334.0 -334.0\n",
      "-333.0 -333.0\n",
      "-332.0 -332.0\n",
      "-331.0 -331.0\n",
      "-330.0 -330.0\n",
      "-329.0 -329.0\n",
      "-328.0 -328.0\n",
      "-327.0 -327.0\n",
      "-326.0 -326.0\n",
      "-325.0 -325.0\n",
      "-324.0 -324.0\n",
      "-323.0 -323.0\n",
      "-322.0 -322.0\n",
      "-321.0 -321.0\n",
      "-320.0 -320.0\n",
      "-319.0 -319.0\n",
      "-318.0 -318.0\n",
      "-317.0 -317.0\n",
      "-316.0 -316.0\n",
      "-315.0 -315.0\n",
      "-314.0 -314.0\n",
      "-313.0 -313.0\n",
      "-312.0 -312.0\n",
      "-311.0 -311.0\n",
      "-310.0 -310.0\n",
      "-309.0 -309.0\n",
      "-308.0 -308.0\n",
      "-307.0 -307.0\n",
      "-306.0 -306.0\n",
      "-305.0 -305.0\n",
      "-304.0 -304.0\n",
      "-303.0 -303.0\n",
      "-302.0 -302.0\n",
      "-301.0 -301.0\n",
      "-300.0 -300.0\n",
      "-299.0 -299.0\n",
      "-298.0 -298.0\n",
      "-297.0 -297.0\n",
      "-296.0 -296.0\n",
      "-295.0 -295.0\n",
      "-294.0 -294.0\n",
      "-293.0 -293.0\n",
      "-292.0 -292.0\n",
      "-291.0 -291.0\n",
      "-290.0 -290.0\n",
      "-289.0 -289.0\n",
      "-288.0 -288.0\n",
      "-287.0 -287.0\n",
      "-286.0 -286.0\n",
      "-285.0 -285.0\n",
      "-284.0 -284.0\n",
      "-283.0 -283.0\n",
      "-282.0 -282.0\n",
      "-281.0 -281.0\n",
      "-280.0 -280.0\n",
      "-279.0 -279.0\n",
      "-278.0 -278.0\n",
      "-277.0 -277.0\n",
      "-276.0 -276.0\n",
      "-275.0 -275.0\n",
      "-274.0 -274.0\n",
      "-273.0 -273.0\n",
      "-272.0 -272.0\n",
      "-271.0 -271.0\n",
      "-270.0 -270.0\n",
      "-269.0 -269.0\n",
      "-268.0 -268.0\n",
      "-267.0 -267.0\n",
      "-266.0 -266.0\n",
      "-265.0 -265.0\n",
      "-264.0 -264.0\n",
      "-263.0 -263.0\n",
      "-262.0 -262.0\n",
      "-261.0 -261.0\n",
      "-260.0 -260.0\n",
      "-259.0 -259.0\n",
      "-258.0 -258.0\n",
      "-257.0 -257.0\n",
      "-256.0 -256.0\n",
      "-255.0 -255.0\n",
      "-254.0 -254.0\n",
      "-253.0 -253.0\n",
      "-252.0 -252.0\n",
      "-251.0 -251.0\n",
      "-250.0 -250.0\n",
      "-249.0 -249.0\n",
      "-248.0 -248.0\n",
      "-247.0 -247.0\n",
      "-246.0 -246.0\n",
      "-245.0 -245.0\n",
      "-244.0 -244.0\n",
      "-243.0 -243.0\n",
      "-242.0 -242.0\n",
      "-241.0 -241.0\n",
      "-240.0 -240.0\n",
      "-239.0 -239.0\n",
      "-238.0 -238.0\n",
      "-237.0 -237.0\n",
      "-236.0 -236.0\n",
      "-235.0 -235.0\n",
      "-234.0 -234.0\n",
      "-233.0 -233.0\n",
      "-232.0 -232.0\n",
      "-231.0 -231.0\n",
      "-230.0 -230.0\n",
      "-229.0 -229.0\n",
      "-228.0 -228.0\n",
      "-227.0 -227.0\n",
      "-226.0 -226.0\n",
      "-225.0 -225.0\n",
      "-224.0 -224.0\n",
      "-223.0 -223.0\n",
      "-222.0 -222.0\n",
      "-221.0 -221.0\n",
      "-220.0 -220.0\n",
      "-219.0 -219.0\n",
      "-218.0 -218.0\n",
      "-217.0 -217.0\n",
      "-216.0 -216.0\n",
      "-215.0 -215.0\n",
      "-214.0 -214.0\n",
      "-213.0 -213.0\n",
      "-212.0 -212.0\n",
      "-211.0 -211.0\n",
      "-210.0 -210.0\n",
      "-209.0 -209.0\n",
      "-208.0 -208.0\n",
      "-207.0 -207.0\n",
      "-206.0 -206.0\n",
      "-205.0 -205.0\n",
      "-204.0 -204.0\n",
      "-203.0 -203.0\n",
      "-202.0 -202.0\n",
      "-201.0 -201.0\n",
      "-200.0 -200.0\n",
      "-199.0 -199.0\n",
      "-198.0 -198.0\n",
      "-197.0 -197.0\n",
      "-196.0 -196.0\n",
      "-195.0 -195.0\n",
      "-194.0 -194.0\n",
      "-193.0 -193.0\n",
      "-192.0 -192.0\n",
      "-191.0 -191.0\n",
      "-190.0 -190.0\n",
      "-189.0 -189.0\n",
      "-188.0 -188.0\n",
      "-187.0 -187.0\n",
      "-186.0 -186.0\n",
      "-185.0 -185.0\n",
      "-184.0 -184.0\n",
      "-183.0 -183.0\n",
      "-182.0 -182.0\n",
      "-181.0 -181.0\n",
      "-180.0 -180.0\n",
      "-179.0 -179.0\n",
      "-178.0 -178.0\n",
      "-177.0 -177.0\n",
      "-176.0 -176.0\n",
      "-175.0 -175.0\n",
      "-174.0 -174.0\n",
      "-173.0 -173.0\n",
      "-172.0 -172.0\n",
      "-171.0 -171.0\n"
     ]
    }
   ],
   "source": [
    "l0=170\n",
    "for i,l in enumerate(ls):\n",
    "#     l_u[i,:] = np.exp(-2J*np.pi*u0_arr*l0)*np.sinc(u0_arr*(l-l0)*1*delnu/nu)\n",
    "#     l_u[i,:] = w_arr*np.exp(-2J*np.pi*us*l0/n)*np.sinc(us*(l0-n/2)*0.001*delnu/nu/n)\n",
    "    if(l-l0<-n/2):\n",
    "        diff=n+l-l0\n",
    "    else:\n",
    "        diff = l-l0\n",
    "    print(l-l0, diff)\n",
    "    l_u[i,:] = w_arr*np.sinc(us*diff*3*delnu/nu/n)\n",
    "    \n",
    "ft=np.fft.ifft(l_u, axis=1)\n",
    "# ft=np.fft.ifft(l_u[0,:])\n",
    "img=np.diag(ft)\n",
    "# img=ft"
   ]
  },
  {
   "cell_type": "code",
   "execution_count": 570,
   "id": "90acb4bf",
   "metadata": {},
   "outputs": [
    {
     "data": {
      "text/plain": [
       "[<matplotlib.lines.Line2D at 0x7f1fe8f07a30>]"
      ]
     },
     "execution_count": 570,
     "metadata": {},
     "output_type": "execute_result"
    },
    {
     "data": {
      "image/png": "[encoded data removed]",
      "text/plain": [
       "<Figure size 432x288 with 1 Axes>"
      ]
     },
     "metadata": {
      "needs_background": "light"
     },
     "output_type": "display_data"
    }
   ],
   "source": [
    "plt.plot(np.fft.fftshift(np.abs(img)))\n",
    "# plt.xlim(500,525)"
   ]
  },
  {
   "cell_type": "code",
   "execution_count": 509,
   "id": "cf493c50",
   "metadata": {},
   "outputs": [],
   "source": [
    "l0=0.1\n",
    "for i, l in enumerate(l_arr):\n",
    "    l_u[i,:] = w_arr*np.sinc(u0_arr*(l0)*2*delnu/nu)\n",
    "#     l_u[i,:] = w_arr*np.exp(-2J*np.pi*us*l0/n)*np.sinc(us*(l0-n/2)*0.001*delnu/nu/n)\n",
    "\n",
    "# ft=np.fft.ifft(l_u, axis=1)\n",
    "ft=np.fft.ifft(l_u[0,:])\n",
    "img=ft\n",
    "# img=np.diag(ft)"
   ]
  },
  {
   "cell_type": "code",
   "execution_count": 510,
   "id": "354e3860",
   "metadata": {},
   "outputs": [
    {
     "data": {
      "text/plain": [
       "(400.0, 600.0)"
      ]
     },
     "execution_count": 510,
     "metadata": {},
     "output_type": "execute_result"
    },
    {
     "data": {
      "image/png": "[encoded data removed]",
      "text/plain": [
       "<Figure size 432x288 with 1 Axes>"
      ]
     },
     "metadata": {
      "needs_background": "light"
     },
     "output_type": "display_data"
    }
   ],
   "source": [
    "plt.plot(np.fft.fftshift(np.abs(img)))\n",
    "# plt.plot(np.abs(img))\n",
    "plt.xlim(400,600)"
   ]
  },
  {
   "cell_type": "code",
   "execution_count": 528,
   "id": "db5cd697",
   "metadata": {},
   "outputs": [
    {
     "data": {
      "text/plain": [
       "170.66666666666669"
      ]
     },
     "execution_count": 528,
     "metadata": {},
     "output_type": "execute_result"
    }
   ],
   "source": [
    "0.1/im_res"
   ]
  },
  {
   "cell_type": "code",
   "execution_count": 533,
   "id": "46122ff7",
   "metadata": {},
   "outputs": [
    {
     "data": {
      "text/plain": [
       "[<matplotlib.lines.Line2D at 0x7f1fe954b760>]"
      ]
     },
     "execution_count": 533,
     "metadata": {},
     "output_type": "execute_result"
    },
    {
     "data": {
      "image/png": "[encoded data removed]",
      "text/plain": [
       "<Figure size 432x288 with 1 Axes>"
      ]
     },
     "metadata": {
      "needs_background": "light"
     },
     "output_type": "display_data"
    }
   ],
   "source": [
    "plt.plot(np.sinc(us*200*delnu/nu/n))\n",
    "# plt.plot(np.sinc(u0_arr*(0.1)*1*delnu/nu))"
   ]
  },
  {
   "cell_type": "code",
   "execution_count": 531,
   "id": "64aea71e",
   "metadata": {},
   "outputs": [
    {
     "data": {
      "text/plain": [
       "array([ 0.        ,  0.00097656,  0.00195312, ..., -0.00292969,\n",
       "       -0.00195312, -0.00097656])"
      ]
     },
     "execution_count": 531,
     "metadata": {},
     "output_type": "execute_result"
    }
   ],
   "source": [
    "us"
   ]
  },
  {
   "cell_type": "code",
   "execution_count": 194,
   "id": "6bcfa063",
   "metadata": {},
   "outputs": [
    {
     "data": {
      "text/plain": [
       "(-100.0, 100.0)"
      ]
     },
     "execution_count": 194,
     "metadata": {},
     "output_type": "execute_result"
    },
    {
     "data": {
      "image/png": "[encoded data removed]",
      "text/plain": [
       "<Figure size 432x288 with 1 Axes>"
      ]
     },
     "metadata": {
      "needs_background": "light"
     },
     "output_type": "display_data"
    }
   ],
   "source": [
    "plt.plot(u0_arr,np.angle(l_u[0,:]))\n",
    "plt.xlim(-100,100)"
   ]
  },
  {
   "cell_type": "code",
   "execution_count": 160,
   "id": "e40bccba",
   "metadata": {},
   "outputs": [
    {
     "data": {
      "text/plain": [
       "[<matplotlib.lines.Line2D at 0x7f1feddb4fa0>]"
      ]
     },
     "execution_count": 160,
     "metadata": {},
     "output_type": "execute_result"
    },
    {
     "data": {
      "image/png": "[encoded data removed]",
      "text/plain": [
       "<Figure size 432x288 with 1 Axes>"
      ]
     },
     "metadata": {
      "needs_background": "light"
     },
     "output_type": "display_data"
    }
   ],
   "source": [
    "plt.plot(np.abs(np.fft.ifft(vis)),'.')"
   ]
  },
  {
   "cell_type": "code",
   "execution_count": 63,
   "id": "a5c705ac",
   "metadata": {},
   "outputs": [
    {
     "name": "stdout",
     "output_type": "stream",
     "text": [
      "[ 0. +0.j         0. +0.j         0. +0.j         0. +0.j\n",
      " -0.5+0.8660254j  0. +0.j         0. +0.j         0. +0.j\n",
      "  0. +0.j         0. +0.j         0. +0.j         0. +0.j\n",
      "  0. +0.j         0. +0.j         0. +0.j         0. +0.j\n",
      "  0. +0.j         0. +0.j         0. +0.j         0. +0.j\n",
      "  0. +0.j         0. +0.j         0. +0.j         0. +0.j\n",
      "  0. +0.j         0. +0.j         0. +0.j         0. +0.j\n",
      " -0.5-0.8660254j  0. +0.j         0. +0.j         0. +0.j       ]\n",
      "[ 0.        +0.j          0.        +0.j          0.        +0.j\n",
      "  0.        +0.j         -0.47290803+0.81910073j  0.        +0.j\n",
      "  0.        +0.j          0.        +0.j          0.        +0.j\n",
      "  0.        +0.j          0.        +0.j          0.        +0.j\n",
      "  0.        +0.j          0.        +0.j          0.        +0.j\n",
      "  0.        +0.j          0.        +0.j          0.        +0.j\n",
      "  0.        +0.j          0.        +0.j          0.        +0.j\n",
      "  0.        +0.j          0.        +0.j          0.        +0.j\n",
      "  0.        +0.j          0.        +0.j          0.        +0.j\n",
      "  0.        +0.j         -0.47290803-0.81910073j  0.        +0.j\n",
      "  0.        +0.j          0.        +0.j        ]\n"
     ]
    }
   ],
   "source": [
    "l=l0\n",
    "intg1=u0_arr*np.sinc(np.fft.fftfreq(32)*32*uv_res*(l-l0)*delnu/nu)\n",
    "print(intg1)\n",
    "l=l0+0.9\n",
    "intg2=u0_arr*np.sinc(np.fft.fftfreq(32)*32*uv_res*(l-l0)*delnu/nu)\n",
    "print(intg2)"
   ]
  },
  {
   "cell_type": "code",
   "execution_count": 64,
   "id": "bb06703f",
   "metadata": {},
   "outputs": [],
   "source": [
    "I1=np.abs(np.fft.ifft(intg1))\n",
    "I2=np.abs(np.fft.ifft(intg2))"
   ]
  },
  {
   "cell_type": "code",
   "execution_count": 65,
   "id": "305b6193",
   "metadata": {},
   "outputs": [
    {
     "data": {
      "text/plain": [
       "[<matplotlib.lines.Line2D at 0x7f20185fb160>]"
      ]
     },
     "execution_count": 65,
     "metadata": {},
     "output_type": "execute_result"
    },
    {
     "data": {
      "image/png": "[encoded data removed]",
      "text/plain": [
       "<Figure size 432x288 with 1 Axes>"
      ]
     },
     "metadata": {
      "needs_background": "light"
     },
     "output_type": "display_data"
    }
   ],
   "source": [
    "plt.plot(I1)\n",
    "plt.plot(I2)"
   ]
  },
  {
   "cell_type": "code",
   "execution_count": 66,
   "id": "82642066",
   "metadata": {},
   "outputs": [
    {
     "data": {
      "text/plain": [
       "array([0.00169325, 0.0032711 , 0.00293279, 0.00087649, 0.00169325,\n",
       "       0.0032711 , 0.00293279, 0.00087649, 0.00169325, 0.0032711 ,\n",
       "       0.00293279, 0.00087649, 0.00169325, 0.0032711 , 0.00293279,\n",
       "       0.00087649, 0.00169325, 0.0032711 , 0.00293279, 0.00087649,\n",
       "       0.00169325, 0.0032711 , 0.00293279, 0.00087649, 0.00169325,\n",
       "       0.0032711 , 0.00293279, 0.00087649, 0.00169325, 0.0032711 ,\n",
       "       0.00293279, 0.00087649])"
      ]
     },
     "execution_count": 66,
     "metadata": {},
     "output_type": "execute_result"
    }
   ],
   "source": [
    "I1-I2"
   ]
  },
  {
   "cell_type": "code",
   "execution_count": 90,
   "id": "05bc5cc6",
   "metadata": {},
   "outputs": [
    {
     "data": {
      "text/plain": [
       "[<matplotlib.lines.Line2D at 0x7f20182abe20>]"
      ]
     },
     "execution_count": 90,
     "metadata": {},
     "output_type": "execute_result"
    },
    {
     "data": {
      "image/png": "[encoded data removed]",
      "text/plain": [
       "<Figure size 432x288 with 1 Axes>"
      ]
     },
     "metadata": {
      "needs_background": "light"
     },
     "output_type": "display_data"
    }
   ],
   "source": [
    "plt.plot(np.sinc(u0_arr*l0*delnu/nu))"
   ]
  },
  {
   "cell_type": "code",
   "execution_count": 93,
   "id": "b7d54983",
   "metadata": {},
   "outputs": [
    {
     "data": {
      "text/plain": [
       "[<matplotlib.lines.Line2D at 0x7f20181609a0>]"
      ]
     },
     "execution_count": 93,
     "metadata": {},
     "output_type": "execute_result"
    },
    {
     "data": {
      "image/png": "[encoded data removed]",
      "text/plain": [
       "<Figure size 432x288 with 1 Axes>"
      ]
     },
     "metadata": {
      "needs_background": "light"
     },
     "output_type": "display_data"
    }
   ],
   "source": [
    "plt.plot(np.sinc(np.linspace(0,10,100)))"
   ]
  },
  {
   "cell_type": "code",
   "execution_count": 96,
   "id": "91e5e5f4",
   "metadata": {},
   "outputs": [
    {
     "data": {
      "text/plain": [
       "array([ 0.        ,  0.00254167,  0.00508333,  0.007625  ,  0.01016667,\n",
       "        0.01270833,  0.01525   ,  0.01779167,  0.02033333,  0.022875  ,\n",
       "        0.02541667,  0.02795833,  0.0305    ,  0.03304167,  0.03558333,\n",
       "        0.038125  , -0.04066667, -0.038125  , -0.03558333, -0.03304167,\n",
       "       -0.0305    , -0.02795833, -0.02541667, -0.022875  , -0.02033333,\n",
       "       -0.01779167, -0.01525   , -0.01270833, -0.01016667, -0.007625  ,\n",
       "       -0.00508333, -0.00254167])"
      ]
     },
     "execution_count": 96,
     "metadata": {},
     "output_type": "execute_result"
    }
   ],
   "source": [
    "u0_arr*l0*delnu/nu"
   ]
  },
  {
   "cell_type": "code",
   "execution_count": 103,
   "id": "e257d8ce",
   "metadata": {},
   "outputs": [
    {
     "ename": "ValueError",
     "evalue": "Input must be 1- or 2-d.",
     "output_type": "error",
     "traceback": [
      "\u001b[0;31m---------------------------------------------------------------------------\u001b[0m",
      "\u001b[0;31mValueError\u001b[0m                                Traceback (most recent call last)",
      "\u001b[0;32m/tmp/ipykernel_5722/631909628.py\u001b[0m in \u001b[0;36m<module>\u001b[0;34m\u001b[0m\n\u001b[0;32m----> 1\u001b[0;31m \u001b[0mnp\u001b[0m\u001b[0;34m.\u001b[0m\u001b[0mdiag\u001b[0m\u001b[0;34m(\u001b[0m\u001b[0;36m4\u001b[0m\u001b[0;34m)\u001b[0m\u001b[0;34m\u001b[0m\u001b[0;34m\u001b[0m\u001b[0m\n\u001b[0m",
      "\u001b[0;32m<__array_function__ internals>\u001b[0m in \u001b[0;36mdiag\u001b[0;34m(*args, **kwargs)\u001b[0m\n",
      "\u001b[0;32m~/Projects/env/base/lib/python3.8/site-packages/numpy/lib/twodim_base.py\u001b[0m in \u001b[0;36mdiag\u001b[0;34m(v, k)\u001b[0m\n\u001b[1;32m    301\u001b[0m         \u001b[0;32mreturn\u001b[0m \u001b[0mdiagonal\u001b[0m\u001b[0;34m(\u001b[0m\u001b[0mv\u001b[0m\u001b[0;34m,\u001b[0m \u001b[0mk\u001b[0m\u001b[0;34m)\u001b[0m\u001b[0;34m\u001b[0m\u001b[0;34m\u001b[0m\u001b[0m\n\u001b[1;32m    302\u001b[0m     \u001b[0;32melse\u001b[0m\u001b[0;34m:\u001b[0m\u001b[0;34m\u001b[0m\u001b[0;34m\u001b[0m\u001b[0m\n\u001b[0;32m--> 303\u001b[0;31m         \u001b[0;32mraise\u001b[0m \u001b[0mValueError\u001b[0m\u001b[0;34m(\u001b[0m\u001b[0;34m\"Input must be 1- or 2-d.\"\u001b[0m\u001b[0;34m)\u001b[0m\u001b[0;34m\u001b[0m\u001b[0;34m\u001b[0m\u001b[0m\n\u001b[0m\u001b[1;32m    304\u001b[0m \u001b[0;34m\u001b[0m\u001b[0m\n\u001b[1;32m    305\u001b[0m \u001b[0;34m\u001b[0m\u001b[0m\n",
      "\u001b[0;31mValueError\u001b[0m: Input must be 1- or 2-d."
     ]
    }
   ],
   "source": [
    "np.diag(4)"
   ]
  },
  {
   "cell_type": "code",
   "execution_count": 158,
   "id": "921f291a",
   "metadata": {},
   "outputs": [],
   "source": [
    "A=b\n",
    "tht0 = 0.1\n",
    "delnu=1e6\n",
    "deltht = np.linspace(-1,1,1000)\n",
    "\n",
    "a1 = sici(np.pi*A*(deltht + 0.5*delnu*tht0/nu))[0] - sici(np.pi*A*(deltht - 0.5*delnu*tht0/nu))[0]\n",
    "\n",
    "B = nu/(np.pi * A * delnu * tht0) * a1"
   ]
  },
  {
   "cell_type": "code",
   "execution_count": 159,
   "id": "1b3bcef2",
   "metadata": {},
   "outputs": [
    {
     "data": {
      "text/plain": [
       "(-0.1, 0.1)"
      ]
     },
     "execution_count": 159,
     "metadata": {},
     "output_type": "execute_result"
    },
    {
     "data": {
      "image/png": "[encoded data removed]",
      "text/plain": [
       "<Figure size 432x288 with 1 Axes>"
      ]
     },
     "metadata": {
      "needs_background": "light"
     },
     "output_type": "display_data"
    }
   ],
   "source": [
    "plt.plot(deltht,B)\n",
    "plt.xlim(-0.1,0.1)"
   ]
  },
  {
   "cell_type": "code",
   "execution_count": 462,
   "id": "51bea669",
   "metadata": {},
   "outputs": [
    {
     "data": {
      "text/plain": [
       "[<matplotlib.lines.Line2D at 0x7f1fea24b490>]"
      ]
     },
     "execution_count": 462,
     "metadata": {},
     "output_type": "execute_result"
    },
    {
     "data": {
      "image/png": "[encoded data removed]",
      "text/plain": [
       "<Figure size 432x288 with 1 Axes>"
      ]
     },
     "metadata": {
      "needs_background": "light"
     },
     "output_type": "display_data"
    }
   ],
   "source": [
    "N=256\n",
    "x=np.arange(0,N)\n",
    "y=np.sinc((x-N/2)*0.1)\n",
    "yf = np.fft.ifft(np.fft.fftshift(y))\n",
    "plt.plot(np.fft.fftshift(np.real(yf)))\n"
   ]
  },
  {
   "cell_type": "code",
   "execution_count": 565,
   "id": "1e0d6584",
   "metadata": {},
   "outputs": [
    {
     "data": {
      "text/plain": [
       "67"
      ]
     },
     "execution_count": 565,
     "metadata": {},
     "output_type": "execute_result"
    }
   ],
   "source": [
    "-133%100"
   ]
  },
  {
   "cell_type": "code",
   "execution_count": null,
   "id": "c23a8cd7",
   "metadata": {},
   "outputs": [],
   "source": []
  }
 ],
 "metadata": {
  "kernelspec": {
   "display_name": "Python 3 (ipykernel)",
   "language": "python",
   "name": "python3"
  },
  "language_info": {
   "codemirror_mode": {
    "name": "ipython",
    "version": 3
   },
   "file_extension": ".py",
   "mimetype": "text/x-python",
   "name": "python",
   "nbconvert_exporter": "python",
   "pygments_lexer": "ipython3",
   "version": "3.8.10"
  }
 },
 "nbformat": 4,
 "nbformat_minor": 5
}
