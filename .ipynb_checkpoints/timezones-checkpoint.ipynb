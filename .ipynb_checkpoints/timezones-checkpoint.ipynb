{
 "cells": [
  {
   "cell_type": "code",
   "execution_count": 21,
   "id": "394c9d35",
   "metadata": {},
   "outputs": [],
   "source": [
    "import numpy as np\n",
    "import matplotlib.pyplot as plt\n",
    "from astropy.coordinates import EarthLocation\n",
    "from astropy.time import Time\n",
    "from astropy import units as u\n",
    "import datetime\n",
    "import pandas as pd"
   ]
  },
  {
   "cell_type": "code",
   "execution_count": 129,
   "id": "652cac11",
   "metadata": {},
   "outputs": [],
   "source": [
    "observing_location = EarthLocation(lat=51.4934*u.deg, lon=0*u.deg)\n",
    "# observing_time = Time(datetime.datetime.now(), scale='local', location=observing_location)\n",
    "# LST = observing_time.sidereal_time('mean')\n",
    "# print(LST.value)\n"
   ]
  },
  {
   "cell_type": "code",
   "execution_count": 13,
   "id": "9cda75f9",
   "metadata": {},
   "outputs": [
    {
     "name": "stdout",
     "output_type": "stream",
     "text": [
      "2022-06-06 18:59:49.805770 2022-06-06 19:59:49.805770\n"
     ]
    }
   ],
   "source": [
    "a=datetime.datetime.now()\n",
    "print(a,a+datetime.timedelta(hours=1))"
   ]
  },
  {
   "cell_type": "code",
   "execution_count": 121,
   "id": "601e0572",
   "metadata": {},
   "outputs": [],
   "source": [
    "dx=pd.date_range(start='2022-06-01', end='2023-05-31')\n",
    "newdx=np.zeros(365*13,dtype='datetime64[ns]')\n",
    "for i,d in enumerate(dx):\n",
    "    a=str(d.date())\n",
    "    st=a+' 00:00'\n",
    "    e=a+' 07:00'\n",
    "    newdx[i*13:i*13+8]=pd.date_range(start=st, end=e,freq='H').values\n",
    "    st=a+' 19:00'\n",
    "    e=a+' 23:00'\n",
    "    newdx[i*13+8:(i+1)*13] = pd.date_range(start=st, end=e,freq='H').values\n",
    "#     print(newdx[i*8:i+8])"
   ]
  },
  {
   "cell_type": "code",
   "execution_count": 122,
   "id": "1701f495",
   "metadata": {},
   "outputs": [
    {
     "data": {
      "text/plain": [
       "array(['2022-06-02T00:00:00.000000000', '2022-06-02T01:00:00.000000000',\n",
       "       '2022-06-02T02:00:00.000000000', '2022-06-02T03:00:00.000000000',\n",
       "       '2022-06-02T04:00:00.000000000', '2022-06-02T05:00:00.000000000',\n",
       "       '2022-06-02T06:00:00.000000000', '2022-06-02T07:00:00.000000000',\n",
       "       '2022-06-02T19:00:00.000000000', '2022-06-02T20:00:00.000000000',\n",
       "       '2022-06-02T21:00:00.000000000', '2022-06-02T22:00:00.000000000',\n",
       "       '2022-06-02T23:00:00.000000000'], dtype='datetime64[ns]')"
      ]
     },
     "execution_count": 122,
     "metadata": {},
     "output_type": "execute_result"
    }
   ],
   "source": [
    "newdx[13:13+13]"
   ]
  },
  {
   "cell_type": "code",
   "execution_count": 130,
   "id": "5b233472",
   "metadata": {},
   "outputs": [],
   "source": [
    "# a=pd.to_datetime(newdx,utc=False)\n",
    "# b=a.tz_localize('America/Montreal',ambiguous=True,nonexistent='NaT')\n",
    "# print(b)\n",
    "# c=b.tz_convert('utc')\n",
    "# print(c[:13])\n",
    "observing_location = EarthLocation(lat=51.4934*u.deg, lon=0*u.deg)\n",
    "observing_time = Time(newdx, scale='utc', location=observing_location)\n",
    "LST=observing_time.sidereal_time('mean').value"
   ]
  },
  {
   "cell_type": "code",
   "execution_count": 137,
   "id": "4e9b376f",
   "metadata": {},
   "outputs": [
    {
     "data": {
      "text/plain": [
       "[<matplotlib.lines.Line2D at 0x7fa458d83e20>]"
      ]
     },
     "execution_count": 137,
     "metadata": {},
     "output_type": "execute_result"
    },
    {
     "data": {
      "image/png": "[encoded data removed]",
      "text/plain": [
       "<Figure size 432x288 with 1 Axes>"
      ]
     },
     "metadata": {
      "needs_background": "light"
     },
     "output_type": "display_data"
    }
   ],
   "source": [
    "plt.plot(newdx,LST,'.')\n",
    "# plt.xticks(rotation=90)\n"
   ]
  },
  {
   "cell_type": "code",
   "execution_count": 132,
   "id": "47facbc4",
   "metadata": {},
   "outputs": [
    {
     "data": {
      "text/plain": [
       "array([16.63082575, 17.63356367, 18.63630159, 19.63903951, 20.64177743,\n",
       "       21.64451536, 22.64725328, 23.6499912 , 11.68284627, 12.68558419,\n",
       "       13.68832211, 14.69106003, 15.69379796])"
      ]
     },
     "execution_count": 132,
     "metadata": {},
     "output_type": "execute_result"
    }
   ],
   "source": [
    "LST[:13]"
   ]
  },
  {
   "cell_type": "code",
   "execution_count": 136,
   "id": "0ce11c1a",
   "metadata": {},
   "outputs": [
    {
     "data": {
      "text/plain": [
       "array(['2022-06-01T00:00:00.000000000', '2022-06-01T01:00:00.000000000',\n",
       "       '2022-06-01T02:00:00.000000000', '2022-06-01T03:00:00.000000000',\n",
       "       '2022-06-01T04:00:00.000000000', '2022-06-01T05:00:00.000000000',\n",
       "       '2022-06-01T06:00:00.000000000', '2022-06-01T07:00:00.000000000',\n",
       "       '2022-06-01T19:00:00.000000000', '2022-06-01T20:00:00.000000000',\n",
       "       '2022-06-01T21:00:00.000000000', '2022-06-01T22:00:00.000000000',\n",
       "       '2022-06-01T23:00:00.000000000'], dtype='datetime64[ns]')"
      ]
     },
     "execution_count": 136,
     "metadata": {},
     "output_type": "execute_result"
    }
   ],
   "source": [
    "newdx[:13]"
   ]
  },
  {
   "cell_type": "code",
   "execution_count": null,
   "id": "ae8f3225",
   "metadata": {},
   "outputs": [],
   "source": []
  }
 ],
 "metadata": {
  "kernelspec": {
   "display_name": "Python 3 (ipykernel)",
   "language": "python",
   "name": "python3"
  },
  "language_info": {
   "codemirror_mode": {
    "name": "ipython",
    "version": 3
   },
   "file_extension": ".py",
   "mimetype": "text/x-python",
   "name": "python",
   "nbconvert_exporter": "python",
   "pygments_lexer": "ipython3",
   "version": "3.8.10"
  }
 },
 "nbformat": 4,
 "nbformat_minor": 5
}
