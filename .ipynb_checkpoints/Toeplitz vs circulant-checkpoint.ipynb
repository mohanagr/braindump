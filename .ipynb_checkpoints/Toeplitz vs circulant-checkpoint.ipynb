{
 "cells": [
  {
   "cell_type": "code",
   "execution_count": 1,
   "id": "3bece386",
   "metadata": {},
   "outputs": [],
   "source": [
    "import numpy as np\n",
    "import matplotlib.pyplot as plt"
   ]
  },
  {
   "cell_type": "code",
   "execution_count": 24,
   "id": "95f89004",
   "metadata": {},
   "outputs": [],
   "source": [
    "y=np.fft.fftfreq(8)*8\n",
    "x=np.arange(8)"
   ]
  },
  {
   "cell_type": "code",
   "execution_count": 12,
   "id": "952367c6",
   "metadata": {},
   "outputs": [],
   "source": [
    "X,Y=np.meshgrid(x,x)"
   ]
  },
  {
   "cell_type": "code",
   "execution_count": 14,
   "id": "ba79ca95",
   "metadata": {},
   "outputs": [],
   "source": [
    "Z=np.abs(X-Y)"
   ]
  },
  {
   "cell_type": "code",
   "execution_count": 20,
   "id": "86130ec3",
   "metadata": {},
   "outputs": [
    {
     "data": {
      "text/plain": [
       "array([[0, 1, 2, 3, 4, 5, 6, 7],\n",
       "       [7, 0, 1, 2, 3, 4, 5, 6],\n",
       "       [6, 7, 0, 1, 2, 3, 4, 5],\n",
       "       [5, 6, 7, 0, 1, 2, 3, 4],\n",
       "       [4, 5, 6, 7, 0, 1, 2, 3],\n",
       "       [3, 4, 5, 6, 7, 0, 1, 2],\n",
       "       [2, 3, 4, 5, 6, 7, 0, 1],\n",
       "       [1, 2, 3, 4, 5, 6, 7, 0]])"
      ]
     },
     "execution_count": 20,
     "metadata": {},
     "output_type": "execute_result"
    }
   ],
   "source": [
    "(X-Y)%8"
   ]
  },
  {
   "cell_type": "code",
   "execution_count": 21,
   "id": "d3a2d7f7",
   "metadata": {},
   "outputs": [
    {
     "data": {
      "text/plain": [
       "array([[ 0,  1,  2,  3,  4,  5,  6,  7],\n",
       "       [-1,  0,  1,  2,  3,  4,  5,  6],\n",
       "       [-2, -1,  0,  1,  2,  3,  4,  5],\n",
       "       [-3, -2, -1,  0,  1,  2,  3,  4],\n",
       "       [-4, -3, -2, -1,  0,  1,  2,  3],\n",
       "       [-5, -4, -3, -2, -1,  0,  1,  2],\n",
       "       [-6, -5, -4, -3, -2, -1,  0,  1],\n",
       "       [-7, -6, -5, -4, -3, -2, -1,  0]])"
      ]
     },
     "execution_count": 21,
     "metadata": {},
     "output_type": "execute_result"
    }
   ],
   "source": [
    "X-Y"
   ]
  },
  {
   "cell_type": "code",
   "execution_count": 25,
   "id": "af702be1",
   "metadata": {},
   "outputs": [],
   "source": [
    "X,Y=np.meshgrid(y,y)"
   ]
  },
  {
   "cell_type": "code",
   "execution_count": 26,
   "id": "6dd67ea1",
   "metadata": {},
   "outputs": [
    {
     "data": {
      "text/plain": [
       "array([[ 0.,  1.,  2.,  3., -4., -3., -2., -1.],\n",
       "       [-1.,  0.,  1.,  2., -5., -4., -3., -2.],\n",
       "       [-2., -1.,  0.,  1., -6., -5., -4., -3.],\n",
       "       [-3., -2., -1.,  0., -7., -6., -5., -4.],\n",
       "       [ 4.,  5.,  6.,  7.,  0.,  1.,  2.,  3.],\n",
       "       [ 3.,  4.,  5.,  6., -1.,  0.,  1.,  2.],\n",
       "       [ 2.,  3.,  4.,  5., -2., -1.,  0.,  1.],\n",
       "       [ 1.,  2.,  3.,  4., -3., -2., -1.,  0.]])"
      ]
     },
     "execution_count": 26,
     "metadata": {},
     "output_type": "execute_result"
    }
   ],
   "source": [
    "(X-Y)"
   ]
  },
  {
   "cell_type": "code",
   "execution_count": 27,
   "id": "6256e641",
   "metadata": {},
   "outputs": [
    {
     "data": {
      "text/plain": [
       "array([[0., 1., 2., 3., 4., 5., 6., 7.],\n",
       "       [7., 0., 1., 2., 3., 4., 5., 6.],\n",
       "       [6., 7., 0., 1., 2., 3., 4., 5.],\n",
       "       [5., 6., 7., 0., 1., 2., 3., 4.],\n",
       "       [4., 5., 6., 7., 0., 1., 2., 3.],\n",
       "       [3., 4., 5., 6., 7., 0., 1., 2.],\n",
       "       [2., 3., 4., 5., 6., 7., 0., 1.],\n",
       "       [1., 2., 3., 4., 5., 6., 7., 0.]])"
      ]
     },
     "execution_count": 27,
     "metadata": {},
     "output_type": "execute_result"
    }
   ],
   "source": [
    "(X-Y)%8"
   ]
  },
  {
   "cell_type": "code",
   "execution_count": null,
   "id": "3aae611d",
   "metadata": {},
   "outputs": [],
   "source": []
  }
 ],
 "metadata": {
  "kernelspec": {
   "display_name": "Python 3 (ipykernel)",
   "language": "python",
   "name": "python3"
  },
  "language_info": {
   "codemirror_mode": {
    "name": "ipython",
    "version": 3
   },
   "file_extension": ".py",
   "mimetype": "text/x-python",
   "name": "python",
   "nbconvert_exporter": "python",
   "pygments_lexer": "ipython3",
   "version": "3.8.10"
  }
 },
 "nbformat": 4,
 "nbformat_minor": 5
}
