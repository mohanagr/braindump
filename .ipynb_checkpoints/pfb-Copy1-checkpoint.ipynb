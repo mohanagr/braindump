{
 "cells": [
  {
   "cell_type": "code",
   "execution_count": 1,
   "id": "7e81451d",
   "metadata": {},
   "outputs": [],
   "source": [
    "import matplotlib.pyplot as plt\n",
    "import numpy as np"
   ]
  },
  {
   "cell_type": "code",
   "execution_count": 2,
   "id": "f5d873e7",
   "metadata": {},
   "outputs": [],
   "source": [
    "\n",
    "# # x = np.sin(2*np.pi*nu*t)\n",
    "\n",
    "def sinc_win(P,N):\n",
    "    M=N*P\n",
    "    x = np.pi*(np.arange(0,M)-M/2)/N\n",
    "    return np.sinc(x)\n",
    "\n",
    "def get_pow(N, win):\n",
    "    delta = np.linspace(-4,4,10001)\n",
    "    pos = np.zeros(10001)\n",
    "    nu=10+delta\n",
    "    t = np.linspace(0,1,N)\n",
    "    for i,n in enumerate(nu):\n",
    "        x = win(N)*np.exp(2j*np.pi*n*t)\n",
    "        X = np.fft.fft(x)\n",
    "        pos[i]=np.abs(X)[10]**2\n",
    "    return pos\n",
    "\n",
    "def pfb(x,N,ntap):\n",
    "    M=N*ntap\n",
    "    s = sinc_win(ntap,N)\n",
    "    h = np.hanning(M)\n",
    "    #print(ntap)\n",
    "    y = s*h*x\n",
    "    y = y.reshape(-1,N,order='c')\n",
    "    y = np.sum(y, axis=0)\n",
    "    X = np.fft.fft(y)\n",
    "#     X = np.fft.fft(s*h*x)\n",
    "#     print(X)\n",
    "#     X = X[::ntap].copy()\n",
    "\n",
    "    return X\n",
    "\n",
    "def get_pow_pfb(N, ntap, chan):\n",
    "    delta = np.linspace(-4,4,10001)\n",
    "    pos = np.zeros(10001)\n",
    "    nu=chan+delta\n",
    "    M = N*ntap\n",
    "    t = np.linspace(0,1,M)\n",
    "    \n",
    "    for i,n in enumerate(nu):\n",
    "#         if(i>2):\n",
    "#             break\n",
    "#         print(x.shape)\n",
    "        x = np.exp(2j*np.pi*n*t)\n",
    "        X = pfb(x,N,ntap)\n",
    "#         print(X.shape)\n",
    "        pos[i]=np.abs(X)[16]**2\n",
    "    return pos"
   ]
  },
  {
   "cell_type": "code",
   "execution_count": 23,
   "id": "1adb71e0",
   "metadata": {},
   "outputs": [
    {
     "data": {
      "text/plain": [
       "(-10.0, 10.0)"
      ]
     },
     "execution_count": 23,
     "metadata": {},
     "output_type": "execute_result"
    },
    {
     "data": {
      "image/png": "[encoded data removed]",
      "text/plain": [
       "<Figure size 432x288 with 1 Axes>"
      ]
     },
     "metadata": {
      "needs_background": "light"
     },
     "output_type": "display_data"
    }
   ],
   "source": [
    "ss = sinc_win(4,1024)\n",
    "fs = np.fft.fft(ss)\n",
    "plt.plot(np.fft.fftshift(4096*np.fft.fftfreq(4096)),np.fft.fftshift(np.abs(fs)), '--')\n",
    "plt.xlim(-10,10)"
   ]
  },
  {
   "cell_type": "code",
   "execution_count": 21,
   "id": "3fbf9c11",
   "metadata": {},
   "outputs": [
    {
     "data": {
      "text/plain": [
       "array([-2048., -2047., -2046., ...,  2045.,  2046.,  2047.])"
      ]
     },
     "execution_count": 21,
     "metadata": {},
     "output_type": "execute_result"
    }
   ],
   "source": [
    "np.fft.fftshift(4096*np.fft.fftfreq(4096))"
   ]
  },
  {
   "cell_type": "code",
   "execution_count": 17,
   "id": "034166fe",
   "metadata": {},
   "outputs": [],
   "source": [
    "han = lambda N: np.hanning(N)\n",
    "flat = lambda N: np.ones(N)\n",
    "pos = get_pow(1024,flat)\n",
    "pos2 = get_pow(1024,han)"
   ]
  },
  {
   "cell_type": "code",
   "execution_count": 172,
   "id": "c86d0af2",
   "metadata": {},
   "outputs": [],
   "source": [
    "pos3 = get_pow_pfb(1024,8,128)"
   ]
  },
  {
   "cell_type": "code",
   "execution_count": 163,
   "id": "cfa6d981",
   "metadata": {},
   "outputs": [],
   "source": [
    "n=4096\n",
    "nu=131.99\n",
    "t = np.linspace(0,1,n)\n",
    "# x = np.exp(2j*np.pi*nu*t)\n",
    "x = np.sin(2*np.pi*nu*t)\n",
    "Xf = pfb(x,1024,4)\n",
    "# t = np.linspace(0,1,1024)\n",
    "# x = np.sin(2*np.pi*nu*t)\n",
    "Xfnormal = np.fft.rfft(x)"
   ]
  },
  {
   "cell_type": "code",
   "execution_count": null,
   "id": "ce5a2f02",
   "metadata": {},
   "outputs": [],
   "source": []
  },
  {
   "cell_type": "code",
   "execution_count": 164,
   "id": "8f408f26",
   "metadata": {},
   "outputs": [
    {
     "data": {
      "text/plain": [
       "(25.0, 35.0)"
      ]
     },
     "execution_count": 164,
     "metadata": {},
     "output_type": "execute_result"
    },
    {
     "data": {
      "image/png": "[encoded data removed]",
      "text/plain": [
       "<Figure size 432x288 with 1 Axes>"
      ]
     },
     "metadata": {
      "needs_background": "light"
     },
     "output_type": "display_data"
    }
   ],
   "source": [
    "plt.plot(np.abs(Xf),'*')\n",
    "plt.xlim(25,35)"
   ]
  },
  {
   "cell_type": "code",
   "execution_count": 119,
   "id": "862799ef",
   "metadata": {},
   "outputs": [
    {
     "data": {
      "text/plain": [
       "(120.0, 135.0)"
      ]
     },
     "execution_count": 119,
     "metadata": {},
     "output_type": "execute_result"
    },
    {
     "data": {
      "image/png": "[encoded data removed]",
      "text/plain": [
       "<Figure size 432x288 with 1 Axes>"
      ]
     },
     "metadata": {
      "needs_background": "light"
     },
     "output_type": "display_data"
    }
   ],
   "source": [
    "plt.plot(np.abs(Xfnormal),'.')\n",
    "plt.xlim(120,135)"
   ]
  },
  {
   "cell_type": "code",
   "execution_count": 93,
   "id": "68eefbc2",
   "metadata": {},
   "outputs": [
    {
     "data": {
      "text/plain": [
       "(5.0, 15.0)"
      ]
     },
     "execution_count": 93,
     "metadata": {},
     "output_type": "execute_result"
    },
    {
     "data": {
      "image/png": "[encoded data removed]",
      "text/plain": [
       "<Figure size 432x288 with 1 Axes>"
      ]
     },
     "metadata": {
      "needs_background": "light"
     },
     "output_type": "display_data"
    }
   ],
   "source": [
    "plt.plot(np.abs(Xf)**2,'--.',label='pfb')\n",
    "plt.plot(np.abs(Xfnormal)**2,'*',label='normal')\n",
    "plt.legend()\n",
    "plt.xlim(5,15)"
   ]
  }
 ],
 "metadata": {
  "kernelspec": {
   "display_name": "Python 3 (ipykernel)",
   "language": "python",
   "name": "python3"
  },
  "language_info": {
   "codemirror_mode": {
    "name": "ipython",
    "version": 3
   },
   "file_extension": ".py",
   "mimetype": "text/x-python",
   "name": "python",
   "nbconvert_exporter": "python",
   "pygments_lexer": "ipython3",
   "version": "3.8.10"
  }
 },
 "nbformat": 4,
 "nbformat_minor": 5
}
