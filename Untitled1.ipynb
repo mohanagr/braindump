{
 "cells": [
  {
   "cell_type": "code",
   "execution_count": 2,
   "id": "da2ae4a5",
   "metadata": {},
   "outputs": [],
   "source": [
    "import numpy as np"
   ]
  },
  {
   "cell_type": "code",
   "execution_count": 100,
   "id": "601c2841",
   "metadata": {},
   "outputs": [],
   "source": [
    "def get_errors(nu,n_ant,bw,t_int,beam):\n",
    "    c=3e8\n",
    "    k=1.38e-23\n",
    "    lmbda = c/nu\n",
    "    eta=0.5\n",
    "    gain = 49/(2*k) * 1e-26\n",
    "    print(\"gain is \",gain)\n",
    "    print(\"wavelength\", lmbda)\n",
    "    \n",
    "    T = 300*(nu/150e6)**(-2.6)\n",
    "    print(T)\n",
    "    \n",
    "    denom = 2*bw * t_int * n_ant*(n_ant-1)\n",
    "    \n",
    "    dT = T/np.sqrt(denom) # uncertainty in antenna temp\n",
    "    \n",
    "    dS = dT/gain # this per beam\n",
    "    \n",
    "    beam_size = np.pi * np.deg2rad(beam[0]/60) * np.deg2rad(beam[1]/60)/4\n",
    "    beams_per_sr = 1/beam_size\n",
    "    \n",
    "    dI = dS * beams_per_sr\n",
    "    \n",
    "    dTb = dI * lmbda**2 * 1e-3 /2\n",
    "    \n",
    "    print(\"Flux uncertainty:\", dS*1000, \"mJy\")\n",
    "    print(\"Brightness temp uncertainty:\", dTb, \"K\")"
   ]
  },
  {
   "cell_type": "code",
   "execution_count": 198,
   "id": "45e5aed5",
   "metadata": {},
   "outputs": [],
   "source": [
    "def get_errors_LOFAR(nu,n_ant,bw,t_int,beam):\n",
    "    c=3e8\n",
    "    k=1.38e-23\n",
    "    lmbda = c/nu\n",
    "    eta=0.5\n",
    "    gain = 0.7*400/(2*k) * 1e-26\n",
    "    print(\"gain is \",gain)\n",
    "    print(\"wavelength\", lmbda)\n",
    "    \n",
    "    T = 300*(nu/150e6)**(-2.6)\n",
    "    print(T)\n",
    "    \n",
    "    denom = 2*bw * t_int * n_ant*(n_ant-1)\n",
    "    \n",
    "    dT = T/np.sqrt(denom) # uncertainty in antenna temp\n",
    "    \n",
    "    dS = 1.5*1.3*dT/gain # this per beam\n",
    "    \n",
    "    beam_size = np.pi * np.deg2rad(beam[0]/60) * np.deg2rad(beam[1]/60)/4\n",
    "    beams_per_sr = 1/beam_size\n",
    "    \n",
    "    dI = dS * beams_per_sr\n",
    "    \n",
    "    dTb = dI * lmbda**2 * 1e-3 /2\n",
    "    \n",
    "    print(\"Flux uncertainty:\", dS*1000, \"mJy\")\n",
    "    print(\"Brightness temp uncertainty:\", dTb, \"K\")"
   ]
  },
  {
   "cell_type": "code",
   "execution_count": 112,
   "id": "2998bb72",
   "metadata": {},
   "outputs": [
    {
     "name": "stdout",
     "output_type": "stream",
     "text": [
      "gain is  0.017753623188405798\n",
      "wavelength 6.382978723404255\n",
      "6130.615764476247\n",
      "Flux uncertainty: 1243.654984565306 mJy\n",
      "Brightness temp uncertainty: 1441.3908497862885 K\n"
     ]
    }
   ],
   "source": [
    "get_errors(47e6,288+64,24e3,13,[17.4,15.2])"
   ]
  },
  {
   "cell_type": "code",
   "execution_count": 233,
   "id": "fc214863",
   "metadata": {},
   "outputs": [
    {
     "name": "stdout",
     "output_type": "stream",
     "text": [
      "gain is  0.10144927536231885\n",
      "wavelength 5.555555555555555\n",
      "4273.018299569021\n",
      "Flux uncertainty: 1.8629915793265344 mJy\n",
      "Brightness temp uncertainty: 6921.71563039608 K\n"
     ]
    }
   ],
   "source": [
    "get_errors_LOFAR(54e6,38,24e6,8*3600,[15/60,15/60])"
   ]
  },
  {
   "cell_type": "code",
   "execution_count": 111,
   "id": "ab2ff4be",
   "metadata": {},
   "outputs": [
    {
     "name": "stdout",
     "output_type": "stream",
     "text": [
      "gain is  0.017753623188405798\n",
      "wavelength 4.101049868766404\n",
      "1940.7535841271906\n",
      "Flux uncertainty: 393.7007245990673 mJy\n",
      "Brightness temp uncertainty: 203.1056785448231 K\n"
     ]
    }
   ],
   "source": [
    "get_errors(73.152e6,288+64,24e3,13,[16.8,14.6])"
   ]
  },
  {
   "cell_type": "code",
   "execution_count": 46,
   "id": "eaf280ef",
   "metadata": {},
   "outputs": [
    {
     "data": {
      "text/plain": [
       "7.5"
      ]
     },
     "execution_count": 46,
     "metadata": {},
     "output_type": "execute_result"
    }
   ],
   "source": [
    "I = 2 k T /lmbda**2"
   ]
  },
  {
   "cell_type": "code",
   "execution_count": 65,
   "id": "613e322d",
   "metadata": {},
   "outputs": [
    {
     "name": "stdout",
     "output_type": "stream",
     "text": [
      "1.701304618946492e-05\n",
      "beams per steradian: 58778.42150450608\n"
     ]
    }
   ],
   "source": [
    "FWHM = np.deg2rad(16/60)\n",
    "beam_size = np.pi*(FWHM/2)**2\n",
    "print(beam_size)\n",
    "print(\"beams per steradian:\", 1/beam_size)"
   ]
  },
  {
   "cell_type": "code",
   "execution_count": 115,
   "id": "4b9722cd",
   "metadata": {},
   "outputs": [
    {
     "data": {
      "text/plain": [
       "13.22739180574328"
      ]
     },
     "execution_count": 115,
     "metadata": {},
     "output_type": "execute_result"
    }
   ],
   "source": [
    "np.rad2deg(1.22*4.1/1300)*60"
   ]
  },
  {
   "cell_type": "code",
   "execution_count": 134,
   "id": "3d363553",
   "metadata": {},
   "outputs": [
    {
     "data": {
      "text/plain": [
       "6.629163952093193"
      ]
     },
     "execution_count": 134,
     "metadata": {},
     "output_type": "execute_result"
    }
   ],
   "source": [
    "np.rad2deg(1.22*3e8/2600/73e6)*60"
   ]
  },
  {
   "cell_type": "code",
   "execution_count": 130,
   "id": "9c35185b",
   "metadata": {},
   "outputs": [
    {
     "data": {
      "text/plain": [
       "25.09957446808511"
      ]
     },
     "execution_count": 130,
     "metadata": {},
     "output_type": "execute_result"
    }
   ],
   "source": [
    "16.16 * 73/47"
   ]
  },
  {
   "cell_type": "code",
   "execution_count": 109,
   "id": "8913455c",
   "metadata": {},
   "outputs": [
    {
     "ename": "SyntaxError",
     "evalue": "can't use starred expression here (1185507009.py, line 2)",
     "output_type": "error",
     "traceback": [
      "\u001b[0;36m  File \u001b[0;32m\"/tmp/ipykernel_147414/1185507009.py\"\u001b[0;36m, line \u001b[0;32m2\u001b[0m\n\u001b[0;31m    *np.pi*(FWHM/2)**2\u001b[0m\n\u001b[0m    ^\u001b[0m\n\u001b[0;31mSyntaxError\u001b[0m\u001b[0;31m:\u001b[0m can't use starred expression here\n"
     ]
    }
   ],
   "source": [
    "FWHM = np.deg2rad(1/3600)\n",
    "*np.pi*(FWHM/2)**2"
   ]
  },
  {
   "cell_type": "code",
   "execution_count": 110,
   "id": "3352785b",
   "metadata": {},
   "outputs": [
    {
     "data": {
      "text/plain": [
       "46.992000000000004"
      ]
     },
     "execution_count": 110,
     "metadata": {},
     "output_type": "execute_result"
    }
   ],
   "source": [
    "1958*0.024"
   ]
  },
  {
   "cell_type": "code",
   "execution_count": 119,
   "id": "9bd91792",
   "metadata": {},
   "outputs": [
    {
     "data": {
      "text/plain": [
       "3333.3333333333335"
      ]
     },
     "execution_count": 119,
     "metadata": {},
     "output_type": "execute_result"
    }
   ],
   "source": [
    "80/0.024"
   ]
  },
  {
   "cell_type": "code",
   "execution_count": 121,
   "id": "047321cc",
   "metadata": {},
   "outputs": [
    {
     "data": {
      "text/plain": [
       "1.875523171609823"
      ]
     },
     "execution_count": 121,
     "metadata": {},
     "output_type": "execute_result"
    }
   ],
   "source": [
    "(73/48)**1.5"
   ]
  },
  {
   "cell_type": "code",
   "execution_count": 122,
   "id": "63342b39",
   "metadata": {},
   "outputs": [
    {
     "data": {
      "text/plain": [
       "2.6666666666666665"
      ]
     },
     "execution_count": 122,
     "metadata": {},
     "output_type": "execute_result"
    }
   ],
   "source": [
    "16/6"
   ]
  },
  {
   "cell_type": "code",
   "execution_count": 124,
   "id": "3a9dec70",
   "metadata": {},
   "outputs": [
    {
     "data": {
      "text/plain": [
       "204.54545454545453"
      ]
     },
     "execution_count": 124,
     "metadata": {},
     "output_type": "execute_result"
    }
   ],
   "source": [
    "np.sqrt(288**2/352**2) * 1000 / 4"
   ]
  },
  {
   "cell_type": "code",
   "execution_count": 142,
   "id": "0b703ed7",
   "metadata": {},
   "outputs": [
    {
     "name": "stdout",
     "output_type": "stream",
     "text": [
      "341.18181818181813\n",
      "98.99999999999999\n"
     ]
    }
   ],
   "source": [
    "print(np.sqrt(288**2/352**2) * 417)\n",
    "print(np.sqrt(288**2/352**2) * 121)"
   ]
  },
  {
   "cell_type": "code",
   "execution_count": 144,
   "id": "cdeacf06",
   "metadata": {},
   "outputs": [
    {
     "name": "stdout",
     "output_type": "stream",
     "text": [
      "146.6590909090909\n",
      "114.54545454545453\n"
     ]
    }
   ],
   "source": [
    "print(np.sqrt(288**2/352**2) * 717/4)\n",
    "print(np.sqrt(288**2/352**2) * 560/4)"
   ]
  },
  {
   "cell_type": "code",
   "execution_count": 125,
   "id": "2a3566ce",
   "metadata": {},
   "outputs": [
    {
     "data": {
      "text/plain": [
       "277.64360128615056"
      ]
     },
     "execution_count": 125,
     "metadata": {},
     "output_type": "execute_result"
    }
   ],
   "source": [
    "204 * (47/73)**-0.7"
   ]
  },
  {
   "cell_type": "code",
   "execution_count": 126,
   "id": "3151e48c",
   "metadata": {},
   "outputs": [
    {
     "data": {
      "text/plain": [
       "191.33445277530876"
      ]
     },
     "execution_count": 126,
     "metadata": {},
     "output_type": "execute_result"
    }
   ],
   "source": [
    "204 * (80/73)**-0.7"
   ]
  },
  {
   "cell_type": "code",
   "execution_count": 140,
   "id": "de422719",
   "metadata": {},
   "outputs": [
    {
     "data": {
      "text/plain": [
       "121.3741470566751"
      ]
     },
     "execution_count": 140,
     "metadata": {},
     "output_type": "execute_result"
    }
   ],
   "source": [
    "154*(80/73)**-2.6"
   ]
  },
  {
   "cell_type": "code",
   "execution_count": 186,
   "id": "fc421c4a",
   "metadata": {},
   "outputs": [
    {
     "data": {
      "text/plain": [
       "1.9412804622510513"
      ]
     },
     "execution_count": 186,
     "metadata": {},
     "output_type": "execute_result"
    }
   ],
   "source": [
    "(42/73)**-1.2"
   ]
  },
  {
   "cell_type": "code",
   "execution_count": 182,
   "id": "b77c5c55",
   "metadata": {},
   "outputs": [
    {
     "name": "stdout",
     "output_type": "stream",
     "text": [
      "0.09502124151243818\n"
     ]
    }
   ],
   "source": [
    "dnu=48.828*4e3\n",
    "nu=42e6\n",
    "eta=3.79\n",
    "x = (2*3600/15) * (dnu/nu)\n",
    "print(np.sinc(x))\n",
    "x=x*eta/2"
   ]
  },
  {
   "cell_type": "code",
   "execution_count": 181,
   "id": "cf8630c6",
   "metadata": {},
   "outputs": [
    {
     "data": {
      "text/plain": [
       "0.40476957320751894"
      ]
     },
     "execution_count": 181,
     "metadata": {},
     "output_type": "execute_result"
    }
   ],
   "source": [
    "from scipy.special import sici\n",
    "\n",
    "sici(x)[0]/x"
   ]
  },
  {
   "cell_type": "code",
   "execution_count": 235,
   "id": "7982d8c9",
   "metadata": {},
   "outputs": [
    {
     "data": {
      "text/plain": [
       "2318.616419586803"
      ]
     },
     "execution_count": 235,
     "metadata": {},
     "output_type": "execute_result"
    }
   ],
   "source": [
    "29*(15)**1.54 * (54/73)**-0.7"
   ]
  },
  {
   "cell_type": "code",
   "execution_count": 246,
   "id": "6c100e3c",
   "metadata": {},
   "outputs": [
    {
     "data": {
      "text/plain": [
       "1.0"
      ]
     },
     "execution_count": 246,
     "metadata": {},
     "output_type": "execute_result"
    }
   ],
   "source": [
    "180/54 *0.3"
   ]
  },
  {
   "cell_type": "code",
   "execution_count": 192,
   "id": "d1ed0ce9",
   "metadata": {},
   "outputs": [
    {
     "data": {
      "text/plain": [
       "12.5"
      ]
     },
     "execution_count": 192,
     "metadata": {},
     "output_type": "execute_result"
    }
   ],
   "source": [
    "55/66 * 15"
   ]
  },
  {
   "cell_type": "code",
   "execution_count": 205,
   "id": "bf768863",
   "metadata": {},
   "outputs": [
    {
     "data": {
      "text/plain": [
       "54.0"
      ]
     },
     "execution_count": 205,
     "metadata": {},
     "output_type": "execute_result"
    }
   ],
   "source": [
    "42*0.5+66*0.5"
   ]
  },
  {
   "cell_type": "code",
   "execution_count": 207,
   "id": "475e8da1",
   "metadata": {},
   "outputs": [
    {
     "data": {
      "text/plain": [
       "11.095890410958905"
      ]
     },
     "execution_count": 207,
     "metadata": {},
     "output_type": "execute_result"
    }
   ],
   "source": [
    "# LOFAR beam at 73\n",
    "\n",
    "15 * 54/73"
   ]
  },
  {
   "cell_type": "code",
   "execution_count": 209,
   "id": "d9d3d831",
   "metadata": {},
   "outputs": [
    {
     "data": {
      "text/plain": [
       "2.55"
      ]
     },
     "execution_count": 209,
     "metadata": {},
     "output_type": "execute_result"
    }
   ],
   "source": [
    "0.85*3"
   ]
  },
  {
   "cell_type": "code",
   "execution_count": 247,
   "id": "5f72a1f5",
   "metadata": {},
   "outputs": [
    {
     "data": {
      "text/plain": [
       "10.4"
      ]
     },
     "execution_count": 247,
     "metadata": {},
     "output_type": "execute_result"
    }
   ],
   "source": [
    "2.6*60/15\n"
   ]
  },
  {
   "cell_type": "code",
   "execution_count": 240,
   "id": "0c11efbb",
   "metadata": {},
   "outputs": [
    {
     "data": {
      "text/plain": [
       "0.16666666666666666"
      ]
     },
     "execution_count": 240,
     "metadata": {},
     "output_type": "execute_result"
    }
   ],
   "source": [
    "600/3600"
   ]
  },
  {
   "cell_type": "code",
   "execution_count": 243,
   "id": "d527b5a8",
   "metadata": {},
   "outputs": [
    {
     "data": {
      "text/plain": [
       "5.0"
      ]
     },
     "execution_count": 243,
     "metadata": {},
     "output_type": "execute_result"
    }
   ],
   "source": [
    "0.03 / 0.002"
   ]
  },
  {
   "cell_type": "code",
   "execution_count": 271,
   "id": "05f7e2fd",
   "metadata": {},
   "outputs": [
    {
     "data": {
      "text/plain": [
       "0.04903829782712818"
      ]
     },
     "execution_count": 271,
     "metadata": {},
     "output_type": "execute_result"
    }
   ],
   "source": [
    "3.33*0.3*np.pi*(15/60)**2/4"
   ]
  },
  {
   "cell_type": "code",
   "execution_count": null,
   "id": "1cdbd8a5",
   "metadata": {},
   "outputs": [],
   "source": [
    "*(15/60)**2"
   ]
  },
  {
   "cell_type": "code",
   "execution_count": 260,
   "id": "4d3f3117",
   "metadata": {},
   "outputs": [
    {
     "data": {
      "text/plain": [
       "0.00208125"
      ]
     },
     "execution_count": 260,
     "metadata": {},
     "output_type": "execute_result"
    }
   ],
   "source": [
    "3.33*0.01*(15/60)**2"
   ]
  },
  {
   "cell_type": "code",
   "execution_count": 273,
   "id": "55696186",
   "metadata": {},
   "outputs": [
    {
     "data": {
      "text/plain": [
       "25.0"
      ]
     },
     "execution_count": 273,
     "metadata": {},
     "output_type": "execute_result"
    }
   ],
   "source": [
    "0.05/0.002"
   ]
  },
  {
   "cell_type": "code",
   "execution_count": 266,
   "id": "905c89e6",
   "metadata": {},
   "outputs": [
    {
     "data": {
      "text/plain": [
       "0.01990049751243781"
      ]
     },
     "execution_count": 266,
     "metadata": {},
     "output_type": "execute_result"
    }
   ],
   "source": [
    "4/201"
   ]
  },
  {
   "cell_type": "code",
   "execution_count": 265,
   "id": "66e00a01",
   "metadata": {},
   "outputs": [
    {
     "data": {
      "text/plain": [
       "201.06192982974676"
      ]
     },
     "execution_count": 265,
     "metadata": {},
     "output_type": "execute_result"
    }
   ],
   "source": [
    "np.pi*64"
   ]
  },
  {
   "cell_type": "code",
   "execution_count": 275,
   "id": "d40ed031",
   "metadata": {},
   "outputs": [
    {
     "data": {
      "text/plain": [
       "0.024657534246575345"
      ]
     },
     "execution_count": 275,
     "metadata": {},
     "output_type": "execute_result"
    }
   ],
   "source": [
    "180/73 * 0.01"
   ]
  },
  {
   "cell_type": "code",
   "execution_count": null,
   "id": "e529a647",
   "metadata": {},
   "outputs": [],
   "source": [
    "\\footnote{MWA beam size is 2.6 arcmin at 180 MHz. Assuming a spectral index of ~ -1.0, $4.0$ mJy beam$^{-1}$ for OVRO-LWA corresponds to $0.246$ mJy beam$^{-1}$ for MWA-I,  which is within the reported upper-limit of $0.3$ mJy beam$^{-1}$.}. "
   ]
  }
 ],
 "metadata": {
  "kernelspec": {
   "display_name": "Python 3 (ipykernel)",
   "language": "python",
   "name": "python3"
  },
  "language_info": {
   "codemirror_mode": {
    "name": "ipython",
    "version": 3
   },
   "file_extension": ".py",
   "mimetype": "text/x-python",
   "name": "python",
   "nbconvert_exporter": "python",
   "pygments_lexer": "ipython3",
   "version": "3.8.10"
  }
 },
 "nbformat": 4,
 "nbformat_minor": 5
}
