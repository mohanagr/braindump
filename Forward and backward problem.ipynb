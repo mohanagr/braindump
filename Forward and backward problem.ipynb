{
 "cells": [
  {
   "cell_type": "code",
   "execution_count": 1,
   "id": "375bf5e5",
   "metadata": {},
   "outputs": [],
   "source": [
    "import numpy as np\n",
    "import matplotlib.pyplot as plt\n",
    "from pfbmod import forward_pfb as pfb\n",
    "from scipy.interpolate import CubicSpline"
   ]
  },
  {
   "cell_type": "code",
   "execution_count": null,
   "id": "5e17a842",
   "metadata": {},
   "outputs": [],
   "source": [
    "def mycorr(a,b):\n",
    "    myxcorr=np.zeros(len(a),dtype=a.dtype)\n",
    "    print(\"len is\", len(a))\n",
    "    for i in range(len(a)):\n",
    "        s=0\n",
    "        for j in range(len(a)):\n",
    "            s+=a[j]*np.conj(b[j-i])\n",
    "        myxcorr[i]=s\n",
    "    return myxcorr"
   ]
  },
  {
   "cell_type": "code",
   "execution_count": 10,
   "id": "b2ca1756",
   "metadata": {},
   "outputs": [
    {
     "data": {
      "text/plain": [
       "6553.6"
      ]
     },
     "execution_count": 10,
     "metadata": {},
     "output_type": "execute_result"
    }
   ],
   "source": [
    "4096*1.6"
   ]
  },
  {
   "cell_type": "code",
   "execution_count": 23,
   "id": "5e274448",
   "metadata": {},
   "outputs": [],
   "source": [
    "N=4096\n",
    "bigN=4096*100\n",
    "np.random.seed(42)\n",
    "n=np.arange(0,bigN)\n",
    "k1=1835.2\n",
    "k2=1845.1\n",
    "delay=-6560\n",
    "# print(delay%(2*np.pi))\n",
    "d=200000\n",
    "dk = 0.02 # BW of 6 kHz\n",
    "y=np.sinc(dk*(n-d)/N)*np.cos(2*np.pi*k1*(n-d)/N)+np.sinc(dk*(n-d)/N)*np.cos(2*np.pi*k2*(n-d)/N)+0.2*np.random.randn(len(n))\n",
    "y2=np.sinc(dk*(n-delay-d)/N)*np.cos(2*np.pi*k1*(n-delay-d)/N)+np.sinc(dk*(n-delay-d)/N)*np.cos(2*np.pi*k2*(n-delay-d)/N)+0.2*np.random.randn(len(n))\n",
    "\n",
    "\n",
    "# z=np.zeros(2*N,dtype=y.dtype)\n",
    "# z2=np.zeros(2*N,dtype=y.dtype)\n",
    "# z[:N]=y\n",
    "# z2[:N]=y2\n",
    "# ft = np.fft.fft(z)\n",
    "# ft2=np.fft.fft(z2)\n",
    "\n",
    "# k=510\n",
    "# y=np.cos(2*np.pi*k*n/N)+np.random.randn(N)\n",
    "# y2=np.cos(2*np.pi*k*n/N - dphase)+np.random.randn(N)\n",
    "# ft1=np.fft.fft(y)\n",
    "# ft3=np.fft.fft(y2)\n"
   ]
  },
  {
   "cell_type": "code",
   "execution_count": null,
   "id": "7c0211a4",
   "metadata": {},
   "outputs": [],
   "source": [
    "plt.plot(y2.real,label='y2')\n",
    "plt.plot(y,label='y')# plt.xlim(0,200)\n",
    "plt.legend()"
   ]
  },
  {
   "cell_type": "code",
   "execution_count": 24,
   "id": "e87f3c56",
   "metadata": {},
   "outputs": [],
   "source": [
    "yy=y.reshape(-1,4096)\n",
    "yy2=y2.reshape(-1,4096)\n",
    "f1=np.fft.rfft(yy,axis=1)\n",
    "f2=np.fft.rfft(yy2,axis=1)\n",
    "# f1=pfb(y)\n",
    "# f2=pfb(y2)"
   ]
  },
  {
   "cell_type": "code",
   "execution_count": null,
   "id": "17f26fe5",
   "metadata": {},
   "outputs": [],
   "source": [
    "xcorrtemp=f1*np.conj(f2)"
   ]
  },
  {
   "cell_type": "code",
   "execution_count": null,
   "id": "2337894a",
   "metadata": {},
   "outputs": [],
   "source": [
    "plt.imshow(np.log10(np.abs(xcorrtemp)),aspect='auto')\n",
    "# plt.xlim(1800,1900)"
   ]
  },
  {
   "cell_type": "code",
   "execution_count": null,
   "id": "03ce8178",
   "metadata": {},
   "outputs": [],
   "source": [
    "plt.plot(np.abs(f1[51,:]),'-*')\n",
    "np.argmax(np.abs(f1[51,:]))\n",
    "plt.xlim(1800,1900)"
   ]
  },
  {
   "cell_type": "code",
   "execution_count": null,
   "id": "9ae75a76",
   "metadata": {},
   "outputs": [],
   "source": [
    "## Correlate the whole thing\n",
    "\n",
    "a=np.zeros(2*len(y),dtype=y.dtype)\n",
    "a2=np.zeros(2*len(y2),dtype=y.dtype)\n",
    "a[:len(y)]=y.copy()\n",
    "a2[:len(y2)]=y2.copy()\n",
    "xcorrtime1=np.fft.irfft(np.fft.rfft(a)*np.conj(np.fft.rfft(a2)))"
   ]
  },
  {
   "cell_type": "code",
   "execution_count": null,
   "id": "78ef37b0",
   "metadata": {},
   "outputs": [],
   "source": [
    "plt.plot(xcorrtime1)\n",
    "m=np.argmax(xcorrtime1)\n",
    "print(m)\n",
    "plt.xlim(m-500,m+500)"
   ]
  },
  {
   "cell_type": "code",
   "execution_count": null,
   "id": "288d6238",
   "metadata": {},
   "outputs": [],
   "source": [
    "plt.plot(xcorrtime1[::4096])\n",
    "m=np.argmax(xcorrtime1[::4096])\n",
    "print(m)\n",
    "# plt.xlim(m-10,m+10)"
   ]
  },
  {
   "cell_type": "code",
   "execution_count": 25,
   "id": "9e578d0d",
   "metadata": {},
   "outputs": [
    {
     "name": "stdout",
     "output_type": "stream",
     "text": [
      "100\n"
     ]
    }
   ],
   "source": [
    "Nsmall=f1.shape[0]\n",
    "print(Nsmall)\n",
    "xcorrtime2=np.zeros((2*Nsmall,2),dtype='complex128')\n",
    "for i,chan in enumerate([1835,1845]):\n",
    "    p0=np.zeros(2*Nsmall,dtype=f1.dtype)\n",
    "    p1=np.zeros(2*Nsmall,dtype=f2.dtype)\n",
    "    p0[:Nsmall]=f1[:Nsmall,chan].flatten()\n",
    "    p1[:Nsmall]=f2[:Nsmall,chan].flatten()\n",
    "    ft1=np.fft.fft(p0)\n",
    "    ft2=np.fft.fft(p1)\n",
    "    xcorr=ft1*np.conj(ft2)\n",
    "    xcorrtime2[:,i]=np.fft.ifft(xcorr)"
   ]
  },
  {
   "cell_type": "code",
   "execution_count": 26,
   "id": "9a30328a",
   "metadata": {},
   "outputs": [],
   "source": [
    "xcorr2sum = np.sum(xcorrtime2,axis=1)"
   ]
  },
  {
   "cell_type": "code",
   "execution_count": 28,
   "id": "d67028df",
   "metadata": {},
   "outputs": [
    {
     "data": {
      "text/plain": [
       "1"
      ]
     },
     "execution_count": 28,
     "metadata": {},
     "output_type": "execute_result"
    }
   ],
   "source": [
    "np.argmax(np.abs(xcorr2sum))"
   ]
  },
  {
   "cell_type": "code",
   "execution_count": null,
   "id": "fd749fae",
   "metadata": {},
   "outputs": [],
   "source": [
    "plt.plot(np.abs(xcorr2sum))"
   ]
  },
  {
   "cell_type": "code",
   "execution_count": null,
   "id": "989f8af5",
   "metadata": {},
   "outputs": [],
   "source": [
    "amp=np.sum(np.real(xcorr2sum)*xcorrtime1[::4096])/np.sum(np.real(xcorr2sum)**2)"
   ]
  },
  {
   "cell_type": "code",
   "execution_count": null,
   "id": "1f2e0d89",
   "metadata": {},
   "outputs": [],
   "source": [
    "f=plt.gcf()\n",
    "f.set_size_inches(10,4)\n",
    "\n",
    "plt.plot(xcorrtime1[::4096],'-o',label='raw data xcorr sampled every 4096 sample')\n",
    "plt.plot(amp*np.real(xcorr2sum),'-*',label='FFTed channel xcorr, real part')\n",
    "plt.legend()\n",
    "plt.title('Forward problem')\n",
    "plt.xlabel('spec num')"
   ]
  },
  {
   "cell_type": "code",
   "execution_count": null,
   "id": "e047d884",
   "metadata": {},
   "outputs": [],
   "source": [
    "f=plt.gcf()\n",
    "f.set_size_inches(10,4)\n",
    "plt.suptitle('phase of coarse xcorr with time')\n",
    "plt.subplot(121)\n",
    "plt.plot(np.angle(xcorrtime2[:,0]),'-*')\n",
    "plt.subplot(122)\n",
    "plt.plot(np.unwrap(np.angle(xcorrtime2[:,0])))\n",
    "plt.title('unwrapped')\n",
    "\n",
    "# plt.xlim(40,90)"
   ]
  },
  {
   "cell_type": "code",
   "execution_count": null,
   "id": "8e8205c3",
   "metadata": {},
   "outputs": [],
   "source": [
    "y=np.unwrap(np.angle(xcorrtime2[40:90,0]))\n",
    "m,c=np.polyfit(np.arange(0,len(y))*4096,y,1)\n",
    "print(m*4096/(2*np.pi))"
   ]
  },
  {
   "cell_type": "code",
   "execution_count": null,
   "id": "52eeccae",
   "metadata": {},
   "outputs": [],
   "source": [
    "y=np.unwrap(np.angle(xcorrtime2[:50,0]))\n",
    "m,c=np.polyfit(np.arange(0,len(y))*4096,y,1)\n",
    "print(m*4096/(2*np.pi))\n",
    "x=np.arange(0,xcorrtime2.shape[0]*4096)\n",
    "newphase=(m+2*np.pi*1835/4096)*x+c#-2*np.pi*1150*60\n",
    "cs=CubicSpline(np.arange(0,xcorrtime2.shape[0])*4096,np.abs(xcorrtime2[:,0]))\n",
    "newmag=cs(x)\n",
    "# newmag = np.interp(x,np.arange(0,len(y))*4096,np.abs(c1full))\n",
    "zz1=newmag*np.exp(1J*newphase)"
   ]
  },
  {
   "cell_type": "code",
   "execution_count": null,
   "id": "db665c9e",
   "metadata": {},
   "outputs": [],
   "source": [
    "y=np.unwrap(np.angle(xcorrtime2[:50,1]))\n",
    "m,c=np.polyfit(np.arange(0,len(y))*4096,y,1)\n",
    "print(m*4096/(2*np.pi))\n",
    "x=np.arange(0,xcorrtime2.shape[0]*4096)\n",
    "newphase=(m+2*np.pi*1845/4096)*x+c#-2*np.pi*1150*60\n",
    "cs=CubicSpline(np.arange(0,xcorrtime2.shape[0])*4096,np.abs(xcorrtime2[:,1]))\n",
    "newmag=cs(x)\n",
    "# newmag = np.interp(x,np.arange(0,len(y))*4096,np.abs(c1full))\n",
    "zz2=newmag*np.exp(1J*newphase)"
   ]
  },
  {
   "cell_type": "code",
   "execution_count": null,
   "id": "243ffbdd",
   "metadata": {},
   "outputs": [],
   "source": [
    "plt.plot(np.real(zz1))\n",
    "plt.plot(np.real(zz2))\n",
    "m=31000\n",
    "plt.xlim(m-100,m+100)"
   ]
  },
  {
   "cell_type": "code",
   "execution_count": null,
   "id": "f41313cf",
   "metadata": {},
   "outputs": [],
   "source": [
    "plt.plot(np.real(zz1)+np.real(zz2))\n",
    "m=31000\n",
    "plt.xlim(m-4000,m+4000)"
   ]
  },
  {
   "cell_type": "code",
   "execution_count": null,
   "id": "6f3a6a21",
   "metadata": {},
   "outputs": [],
   "source": [
    "np.argmax()"
   ]
  },
  {
   "cell_type": "code",
   "execution_count": null,
   "id": "67ce4bd4",
   "metadata": {},
   "outputs": [],
   "source": []
  },
  {
   "cell_type": "code",
   "execution_count": null,
   "id": "72c53d59",
   "metadata": {},
   "outputs": [],
   "source": [
    "bigz=zz1+zz2\n",
    "bb=np.real(bigz)"
   ]
  },
  {
   "cell_type": "code",
   "execution_count": null,
   "id": "af1b7741",
   "metadata": {},
   "outputs": [],
   "source": [
    "np.argmax(np.abs(bigz))"
   ]
  },
  {
   "cell_type": "code",
   "execution_count": null,
   "id": "c0a712e7",
   "metadata": {},
   "outputs": [],
   "source": [
    "plt.plot(np.real(bigz))\n",
    "plt.xlim(31000-4096,31000+4096)"
   ]
  },
  {
   "cell_type": "code",
   "execution_count": null,
   "id": "8d498408",
   "metadata": {},
   "outputs": [],
   "source": [
    "np.angle(zz2[31000])*4096/(2*np.pi)/1845"
   ]
  },
  {
   "cell_type": "code",
   "execution_count": null,
   "id": "fad777a3",
   "metadata": {},
   "outputs": [],
   "source": [
    "zeropts=np.where(np.abs(np.angle(bigz))<1e-2)[0]"
   ]
  },
  {
   "cell_type": "code",
   "execution_count": null,
   "id": "cda0016e",
   "metadata": {},
   "outputs": [],
   "source": [
    "zeropts[100:]"
   ]
  },
  {
   "cell_type": "code",
   "execution_count": null,
   "id": "308aaf03",
   "metadata": {},
   "outputs": [],
   "source": [
    "amp2=np.sum(bb*xcorrtime1)/np.sum(bb**2)\n",
    "\n",
    "f=plt.gcf()\n",
    "f.set_size_inches(10,8)\n",
    "f.set_facecolor('white')\n",
    "plt.subplot(121)\n",
    "plt.plot(np.unwrap(np.angle(xcorrtime2[:,0])))\n",
    "plt.title(\"Unwrapped coarse phase\")\n",
    "plt.text(0,50,'slope inferred from\\n this stretch')\n",
    "plt.text(0,200,'Original input: k=1839.2, dk=0.025')\n",
    "plt.text(0,170,'dk inferred from slope = 0.1999\\n (expected 0.2)')\n",
    "\n",
    "plt.subplot(122)\n",
    "plt.title('Random 20 sample zoom-in')\n",
    "plt.plot(amp2*bb,label='interpolated coarse')\n",
    "plt.plot(xcorrtime1,label='raw/original xcorr')\n",
    "plt.legend()\n",
    "plt.xlim(29000,29020)\n",
    "plt.xticks(rotation=30)\n",
    "plt.tight_layout()"
   ]
  },
  {
   "cell_type": "code",
   "execution_count": null,
   "id": "39c2508b",
   "metadata": {},
   "outputs": [],
   "source": [
    "plt.title('Random 20 sample zoom-in')\n",
    "plt.plot(amp2*bb,label='interpolated coarse')\n",
    "plt.plot(xcorrtime1,label='raw/original xcorr')\n",
    "plt.legend()\n",
    "plt.xlim(29400,29450)\n",
    "plt.xticks(rotation=30)"
   ]
  },
  {
   "cell_type": "code",
   "execution_count": null,
   "id": "aafa282d",
   "metadata": {},
   "outputs": [],
   "source": [
    "-np.angle(zz1[31000])*4096/1835.2/(2*np.pi)"
   ]
  },
  {
   "cell_type": "code",
   "execution_count": null,
   "id": "1375d195",
   "metadata": {},
   "outputs": [],
   "source": [
    "8-31000/4096"
   ]
  },
  {
   "cell_type": "code",
   "execution_count": null,
   "id": "414fed79",
   "metadata": {},
   "outputs": [],
   "source": [
    "(8-31000.3/4096)*4096"
   ]
  },
  {
   "cell_type": "code",
   "execution_count": null,
   "id": "3867c20b",
   "metadata": {},
   "outputs": [],
   "source": [
    "xx=mycorr(p0,p1)"
   ]
  },
  {
   "cell_type": "code",
   "execution_count": null,
   "id": "727cd084",
   "metadata": {},
   "outputs": [],
   "source": [
    "plt.plot(np.real(xcorrtime2))\n",
    "# plt.plot()"
   ]
  },
  {
   "cell_type": "code",
   "execution_count": null,
   "id": "718364f7",
   "metadata": {},
   "outputs": [],
   "source": [
    "plt.plot(np.angle(xcorrtime2))"
   ]
  }
 ],
 "metadata": {
  "kernelspec": {
   "display_name": "Python 3 (ipykernel)",
   "language": "python",
   "name": "python3"
  },
  "language_info": {
   "codemirror_mode": {
    "name": "ipython",
    "version": 3
   },
   "file_extension": ".py",
   "mimetype": "text/x-python",
   "name": "python",
   "nbconvert_exporter": "python",
   "pygments_lexer": "ipython3",
   "version": "3.8.10"
  }
 },
 "nbformat": 4,
 "nbformat_minor": 5
}
