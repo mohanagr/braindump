{
 "cells": [
  {
   "cell_type": "code",
   "execution_count": 1,
   "id": "e4a6cc58-9025-4ddb-bb5b-99fe17ca7b39",
   "metadata": {},
   "outputs": [],
   "source": [
    "import numpy as np\n",
    "from matplotlib import pyplot as plt\n",
    "import numba as nb"
   ]
  },
  {
   "cell_type": "code",
   "execution_count": 77,
   "id": "c0eca69d-84dc-45a3-a7ed-4379b660c509",
   "metadata": {},
   "outputs": [],
   "source": [
    "def get_samples(delay,mult,k,dk,N=4096,snr=10,plot=True):\n",
    "    N=N*mult\n",
    "    dk=int(dk*mult)\n",
    "    num_k = len(k)\n",
    "    rns=np.random.randn(2*dk*num_k+4*(N//2+1))\n",
    "#     rr=np.sqrt(100)*np.random.randn(dk*num_k)\n",
    "#     ir=np.sqrt(100)*np.random.randn(dk*num_k)\n",
    "    fr=np.zeros(N//2+1)\n",
    "    fi=np.zeros(N//2+1)\n",
    "    bb=num_k*dk\n",
    "    x_new = np.zeros(N,dtype=\"complex128\")\n",
    "    x2_new = x_new.copy()\n",
    "    for i,j in enumerate(k):\n",
    "        j= int(j*mult)\n",
    "        fr[j-dk//2:j+dk//2]=np.sqrt(snr)*rns[i*dk:(i+1)*dk]\n",
    "        fi[j-dk//2:j+dk//2]=np.sqrt(snr)*rns[bb+i*dk:bb+(i+1)*dk]\n",
    "    bb+=num_k*dk\n",
    "    size=N//2+1\n",
    "    x_new[:N//2+1]=fr+rns[bb:bb+size]+1J*(fi+rns[bb+size:bb+2*size])\n",
    "    x_new = N*np.fft.ifft(x_new)\n",
    "\n",
    "    bb+=2*size\n",
    "    x2_new[:N//2+1] = (fr+1J*fi)*np.exp(-2J*np.pi*np.arange(0,N//2+1)*delay/N) + rns[bb:bb+size]+1J*rns[bb+size:bb+2*size]\n",
    "    x2_new = N*np.fft.ifft(x2_new)\n",
    "    \n",
    "    if plot:\n",
    "        plt.plot(np.abs(np.fft.fft(x2_new)))\n",
    "    return x_new, x2_new"
   ]
  },
  {
   "cell_type": "code",
   "execution_count": 86,
   "id": "e9790bbb-d182-417c-ad60-bdd2cccfa9ac",
   "metadata": {},
   "outputs": [
    {
     "name": "stdout",
     "output_type": "stream",
     "text": [
      "0.0490234375\n"
     ]
    }
   ],
   "source": [
    "mult=5000\n",
    "delay=200.8\n",
    "print(delay/4096)\n",
    "# k=np.arange(1834,)+0.1\n",
    "# dk=0.3\n",
    "k = np.asarray([182, 250]) + 0.1\n",
    "\n",
    "# x1,x2=get_samples(-500000.5,mult,k=(1839.2,1835.2,1845.2,1849.2),dk=0.4,plot=True)\n",
    "x1,x2=get_samples(delay,mult,k=k,dk=25,snr=2,plot=False)"
   ]
  },
  {
   "cell_type": "code",
   "execution_count": 58,
   "id": "d4f0daa7-ed75-4144-979b-abb1dd68b362",
   "metadata": {},
   "outputs": [
    {
     "data": {
      "text/plain": [
       "[<matplotlib.lines.Line2D at 0x73ac6c6c8a60>]"
      ]
     },
     "execution_count": 58,
     "metadata": {},
     "output_type": "execute_result"
    },
    {
     "data": {
      "image/png": "[encoded data removed]",
      "text/plain": [
       "<Figure size 640x480 with 1 Axes>"
      ]
     },
     "metadata": {},
     "output_type": "display_data"
    }
   ],
   "source": [
    "plt.plot(np.abs(np.fft.fft(x1)))\n",
    "# plt.xlim(182000-1000,185000+1000)"
   ]
  },
  {
   "cell_type": "code",
   "execution_count": 12,
   "id": "0f931f8f-ea51-4d60-b43e-c2660893e915",
   "metadata": {},
   "outputs": [],
   "source": [
    "@nb.njit()\n",
    "def qq(x):\n",
    "    return 2*(x>0)-1\n",
    "@nb.njit()\n",
    "def quantize(ts):\n",
    "    return qq(np.real(ts)) + 1j*qq(np.imag(ts))\n",
    "def get_quant_parts(Qts,Qts2):\n",
    "    r0,im0 = np.real(Qts), np.imag(Qts)\n",
    "    r1,im1 = np.real(Qts2), np.imag(Qts2)\n",
    "    return np.mean(r0*r1), np.mean(im0*im1), np.mean(im0*r1), np.mean(r0*im1)\n",
    "@nb.njit()\n",
    "def get_quant_parts_phased(Qts,Qts2,phase,power):\n",
    "    r0,im0 = np.real(Qts), np.imag(Qts)\n",
    "    r1,im1 = np.real(Qts2), np.imag(Qts2)\n",
    "    cc=np.cos(phase)\n",
    "    ss=np.sin(phase)\n",
    "    cph,sph=qq(cc),qq(ss)\n",
    "    aa=np.mean(r0*r1*cph)\n",
    "    bb=np.mean(r0*im1*sph)\n",
    "    RR=np.sin(np.pi*aa/2)*power*np.abs(cc)-np.sin(np.pi*bb/2)*power*np.abs(ss)\n",
    "    aa=np.mean(im0*r1*sph)\n",
    "    bb=np.mean(im0*im1*cph)\n",
    "    II=np.sin(np.pi*aa/2)*power*np.abs(ss)+np.sin(np.pi*bb/2)*power*np.abs(cc)\n",
    "    aa=np.mean(im0*r1*cph)\n",
    "    bb=np.mean(im0*im1*sph)\n",
    "    IR=np.sin(np.pi*aa/2)*power*np.abs(cc)-np.sin(np.pi*bb/2)*power*np.abs(ss)\n",
    "    aa=np.mean(r0*r1*sph)\n",
    "    bb=np.mean(r0*im1*cph)\n",
    "    RI=np.sin(np.pi*aa/2)*power*np.abs(ss)+np.sin(np.pi*bb/2)*power*np.abs(cc)\n",
    "    return RR,II,IR,RI"
   ]
  },
  {
   "cell_type": "code",
   "execution_count": 2,
   "id": "ec9e8e01-9886-495d-ab1b-9d37717d1f01",
   "metadata": {},
   "outputs": [],
   "source": [
    "#this is real timestream\n",
    "niter=1\n",
    "osamp=30000\n",
    "N=4096*osamp\n",
    "nchan=N//2\n",
    "mean_vals = np.zeros(niter,dtype=\"complex128\")\n",
    "std_vals = np.zeros(niter,dtype=\"complex128\")\n",
    "snr = 3\n",
    "wnoise = 2\n",
    "k=50*osamp\n",
    "dk=3*osamp\n",
    "std_vals = []\n",
    "cx_vals = []\n",
    "auto_vals = []\n",
    "cx0 = []\n",
    "cx1 = []\n",
    "cx2 = []\n",
    "cx3 = []\n",
    "delay=25\n",
    "for i in range(niter):\n",
    "    f=np.zeros(N//2+1,dtype=\"complex128\")\n",
    "    # rng=prng.MultithreadedRNG(N+2)\n",
    "    # rng.fill()\n",
    "#     f[:]=(rng.values[:N//2+1] + 1j*rng.values[N//2+1:])\n",
    "    f[k-dk//2:k+dk//2] = f[k-dk//2:k+dk//2] + np.sqrt(snr*N/dk) * (np.random.randn(dk) + 1j * np.random.randn(dk)) # sqrtN here gets rid of one N\n",
    "    f2=f.copy()\n",
    "    f2[:]+=np.sqrt(wnoise)*(np.random.randn(len(f))+ 1j * np.random.randn(len(f)))\n",
    "    #add delay\n",
    "    f2[:]=f2*np.exp(-2J*np.pi*np.arange(0,N//2+1)*delay/N)\n",
    "    ts2 = np.sqrt(N)*np.fft.ifft(np.hstack([f2,np.zeros(N//2-1)]))\n",
    "    f[:]+=np.sqrt(wnoise)*(np.random.randn(len(f))+ 1j * np.random.randn(len(f)))\n",
    "    ts = np.sqrt(N)*np.fft.ifft(np.hstack([f,np.zeros(N//2-1)])) # sqrtN here gets rid of one more N in denom\n",
    "    cx_vals.append(np.mean(ts[:]*np.conj(ts2[:])))\n",
    "    auto_vals.append(np.mean(ts*np.conj(ts)))\n",
    "    # Qts = quantize(ts)\n",
    "    # Qts2 = quantize(ts2)\n",
    "    # r0,im0 = np.real(Qts), np.imag(Qts)\n",
    "    # r1,im1 = np.real(Qts2), np.imag(Qts2)\n",
    "    # cx0.append(np.mean(r0*r1))\n",
    "    # cx1.append(np.mean(im0*im1))\n",
    "    # cx2.append(np.mean(im0*r1))\n",
    "    # cx3.append(np.mean(im1*r0))\n",
    "    # ts = np.sqrt(N)*np.fft.irfft(f)\n",
    "    # std_vals.append(np.std(ts))"
   ]
  },
  {
   "cell_type": "code",
   "execution_count": 69,
   "id": "13a1ef41-c920-4834-ba6a-aba5ed94c52c",
   "metadata": {},
   "outputs": [
    {
     "name": "stdout",
     "output_type": "stream",
     "text": [
      "expected stddev of timestream =  15.491933384829668\n"
     ]
    }
   ],
   "source": [
    "#with signal - for real timestream multiply whole thing by 2\n",
    "print(\"expected stddev of timestream = \", np.sqrt(dk * snr * 2))"
   ]
  },
  {
   "cell_type": "code",
   "execution_count": 3,
   "id": "0dd378a4-da23-4551-a565-8344298b92cb",
   "metadata": {},
   "outputs": [
    {
     "name": "stdout",
     "output_type": "stream",
     "text": [
      "stddev of timestream =  nan\n",
      "expected stddev of timestream =  7.0710678118654755\n"
     ]
    },
    {
     "name": "stderr",
     "output_type": "stream",
     "text": [
      "/home/mohan/.envs/xcorr/lib/python3.10/site-packages/numpy/core/fromnumeric.py:3504: RuntimeWarning: Mean of empty slice.\n",
      "  return _methods._mean(a, axis=axis, dtype=dtype,\n",
      "/home/mohan/.envs/xcorr/lib/python3.10/site-packages/numpy/core/_methods.py:129: RuntimeWarning: invalid value encountered in scalar divide\n",
      "  ret = ret.dtype.type(ret / rcount)\n"
     ]
    }
   ],
   "source": [
    "#without signal\n",
    "print(\"stddev of timestream = \", np.mean(std_vals))\n",
    "print(\"expected stddev of timestream = \", np.sqrt(25*2))"
   ]
  },
  {
   "cell_type": "code",
   "execution_count": 169,
   "id": "34486c86-4210-4b6e-9a9d-089bfbd35b0c",
   "metadata": {},
   "outputs": [
    {
     "name": "stdout",
     "output_type": "stream",
     "text": [
      "stddev of timestream =  2.8404606235075764\n",
      "expected stddev of timestream =  424.2664257279852\n",
      "signal only stddev of timestream =  424.26406871192853\n"
     ]
    }
   ],
   "source": [
    "#without signal\n",
    "print(\"stddev of timestream = \", np.sqrt(np.mean(auto_vals).real))\n",
    "print(\"expected stddev of timestream = \", np.sqrt(wnoise + dk * snr * 2))\n",
    "print(\"signal only stddev of timestream = \", np.sqrt(dk * snr * 2))"
   ]
  },
  {
   "cell_type": "code",
   "execution_count": 4,
   "id": "0d9b4f24-7ad4-4ec8-9325-2ab632b64eff",
   "metadata": {},
   "outputs": [
    {
     "name": "stdout",
     "output_type": "stream",
     "text": [
      "stddev of timestream =  2.830602060389696\n",
      "expected stddev of timestream =  2.8284271247461903\n",
      "signal only stddev of timestream =  2.449489742783178\n"
     ]
    }
   ],
   "source": [
    "#without signal\n",
    "print(\"stddev of timestream = \", np.sqrt(np.mean(auto_vals).real))\n",
    "print(\"expected stddev of timestream = \", np.sqrt(wnoise + snr * 2))\n",
    "print(\"signal only stddev of timestream = \", np.sqrt(snr * 2))"
   ]
  },
  {
   "cell_type": "code",
   "execution_count": 6,
   "id": "ae1b2b2a-1580-4a94-be46-ea561ae344c6",
   "metadata": {},
   "outputs": [
    {
     "name": "stdout",
     "output_type": "stream",
     "text": [
      "xcorr [(-2.0399875530349143+5.640668265021631j)]\n",
      "acorr [(8.001378680109138-1.1036026752408083e-20j)]\n"
     ]
    }
   ],
   "source": [
    "print(\"xcorr\",cx_vals) # depends on amount of delay\n",
    "print(\"acorr\",auto_vals)"
   ]
  },
  {
   "cell_type": "code",
   "execution_count": 6,
   "id": "0f8fe5e9-6208-4480-b798-53a01841671f",
   "metadata": {},
   "outputs": [
    {
     "data": {
      "text/plain": [
       "6"
      ]
     },
     "execution_count": 6,
     "metadata": {},
     "output_type": "execute_result"
    }
   ],
   "source": [
    "snr * 2 #no delay"
   ]
  },
  {
   "cell_type": "code",
   "execution_count": 4,
   "id": "5902859c-4e33-43e1-938e-e5ac76ccb5d9",
   "metadata": {},
   "outputs": [
    {
     "data": {
      "text/plain": [
       "(-2.0375371562185047+5.639924763652772j)"
      ]
     },
     "execution_count": 4,
     "metadata": {},
     "output_type": "execute_result"
    }
   ],
   "source": [
    "snr * 2 * np.sinc(dk * delay/N) * np.exp(2J*np.pi*k*delay/N) # normalized my simulation by the BW"
   ]
  },
  {
   "cell_type": "markdown",
   "id": "5a321b50-e398-45e1-b9b3-35741c52dadc",
   "metadata": {},
   "source": [
    "print(RR,II,IR,RI) # this is unquantized for comparison\n",
    "\n",
    "-1.0184209470435346 -1.018421001631916 2.82004716125337 -2.820047214230537"
   ]
  },
  {
   "cell_type": "code",
   "execution_count": 5,
   "id": "53ea854e-bdc9-4873-957b-f1c68b1c45e4",
   "metadata": {},
   "outputs": [
    {
     "data": {
      "text/plain": [
       "(-1.019993795242553,\n",
       " -1.0199937577923568,\n",
       " 2.820334122864781,\n",
       " -2.820334142156841)"
      ]
     },
     "execution_count": 5,
     "metadata": {},
     "output_type": "execute_result"
    }
   ],
   "source": [
    "get_quant_parts(ts,ts2)"
   ]
  },
  {
   "cell_type": "code",
   "execution_count": 7,
   "id": "bd1b5f0d-82d6-4930-9fc6-a3664cc5bffb",
   "metadata": {},
   "outputs": [
    {
     "data": {
      "text/plain": [
       "(1500000, 122880000, (122880000,))"
      ]
     },
     "execution_count": 7,
     "metadata": {},
     "output_type": "execute_result"
    }
   ],
   "source": [
    "k,N,ts2.shape\n"
   ]
  },
  {
   "cell_type": "code",
   "execution_count": 32,
   "id": "9d683d9f-4d9e-4964-b97a-a7862d28bc02",
   "metadata": {},
   "outputs": [],
   "source": [
    "alpha=1e-7 #seconds per sample\n",
    "ts2_new = ts2*np.exp(-2J*np.pi*k*alpha*np.arange(len(ts))/N)"
   ]
  },
  {
   "cell_type": "code",
   "execution_count": 33,
   "id": "70d92c3d-3725-4916-9b27-82be6b49c5a0",
   "metadata": {},
   "outputs": [
    {
     "name": "stdout",
     "output_type": "stream",
     "text": [
      "8.02776053121765\n"
     ]
    }
   ],
   "source": [
    "print(np.mean(np.abs(ts2_new)**2)) #matches the autocorr we'd expect"
   ]
  },
  {
   "cell_type": "code",
   "execution_count": 34,
   "id": "4b615265-e576-430b-a600-1595808b47bd",
   "metadata": {},
   "outputs": [
    {
     "data": {
      "text/plain": [
       "(9.065974284108862-2.0022595935067127j)"
      ]
     },
     "execution_count": 34,
     "metadata": {},
     "output_type": "execute_result"
    }
   ],
   "source": [
    "np.max(ts2_new[:]-ts2[:])"
   ]
  },
  {
   "cell_type": "code",
   "execution_count": 44,
   "id": "52dfd7e7-37f7-4ce7-98e8-7f03585ed318",
   "metadata": {},
   "outputs": [
    {
     "data": {
      "text/plain": [
       "12.288"
      ]
     },
     "execution_count": 44,
     "metadata": {},
     "output_type": "execute_result"
    }
   ],
   "source": [
    "N*1e-7 #these many extra sec of delay"
   ]
  },
  {
   "cell_type": "code",
   "execution_count": 54,
   "id": "a799dca6-5094-4e8c-a046-7d8c0d98bdfd",
   "metadata": {},
   "outputs": [
    {
     "name": "stdout",
     "output_type": "stream",
     "text": [
      "-0.163870703125 -0.16390869140625 0.49874021809895835 -0.498658544921875\n"
     ]
    }
   ],
   "source": [
    "RR,II,IR,RI = get_quant_parts(quantize(ts),quantize(ts2))\n",
    "print(RR,II,IR,RI)"
   ]
  },
  {
   "cell_type": "code",
   "execution_count": 15,
   "id": "7114f099-d5f5-4097-aeb8-f491ed04fa66",
   "metadata": {},
   "outputs": [
    {
     "data": {
      "text/plain": [
       "(-1.0182972933622556, 2.8228245269822287)"
      ]
     },
     "execution_count": 15,
     "metadata": {},
     "output_type": "execute_result"
    }
   ],
   "source": [
    "np.sin(np.pi*RR/2)*(wnoise + snr * 2)/2, np.sin(np.pi*IR/2)*(wnoise + snr * 2)/2"
   ]
  },
  {
   "cell_type": "code",
   "execution_count": 55,
   "id": "d8d2e6cc-bf3c-48ca-97e3-79f740dbe03f",
   "metadata": {},
   "outputs": [
    {
     "name": "stdout",
     "output_type": "stream",
     "text": [
      "3.0005355129303237\n",
      "3.000955913433709\n",
      "0.001292192375199952\n",
      "-0.0011986478002172785\n"
     ]
    }
   ],
   "source": [
    "phi=2*np.pi*k*delay/N\n",
    "print((np.sin(np.pi*RR/2)*np.cos(phi)-np.sin(np.pi*RI/2)*np.sin(phi))*(wnoise + snr * 2)/2)\n",
    "print((np.sin(np.pi*IR/2)*np.sin(phi)+np.sin(np.pi*II/2)*np.cos(phi))*(wnoise + snr * 2)/2)\n",
    "#above two terms are the real part\n",
    "print((np.sin(np.pi*RR/2)*np.sin(phi)+np.sin(np.pi*RI/2)*np.cos(phi))*(wnoise + snr * 2)/2)\n",
    "print((np.sin(np.pi*IR/2)*np.cos(phi)-np.sin(np.pi*II/2)*np.sin(phi))*(wnoise + snr * 2)/2)\n",
    "#above two terms are the imag part\n",
    "\n",
    "# we see that net = 6 + 0j\n",
    "#dont have d"
   ]
  },
  {
   "cell_type": "code",
   "execution_count": 51,
   "id": "22f5b05e-155c-42de-8b37-1de8efc3cb04",
   "metadata": {},
   "outputs": [
    {
     "data": {
      "text/plain": [
       "(3.0124963883111175,\n",
       " 3.012496413602335,\n",
       " -0.0009690317985463599,\n",
       " 0.0009689620573099914)"
      ]
     },
     "execution_count": 51,
     "metadata": {},
     "output_type": "execute_result"
    }
   ],
   "source": [
    "get_quant_parts(ts,ts2*np.exp(2J*np.pi*k*delay/N))"
   ]
  },
  {
   "cell_type": "code",
   "execution_count": 14,
   "id": "86ba9e57-416f-409a-8de9-9dd97116f2e8",
   "metadata": {},
   "outputs": [],
   "source": [
    "cx_phased = np.mean(ts*np.conj(ts2*np.exp(2J*np.pi*k*delay/N)))"
   ]
  },
  {
   "cell_type": "code",
   "execution_count": 15,
   "id": "35142135-7913-4fba-880c-9e366d797ea3",
   "metadata": {},
   "outputs": [
    {
     "data": {
      "text/plain": [
       "(6.009781178469388+0.0002483530805673692j)"
      ]
     },
     "execution_count": 15,
     "metadata": {},
     "output_type": "execute_result"
    }
   ],
   "source": [
    "cx_phased #phasing works without quantization"
   ]
  },
  {
   "cell_type": "markdown",
   "id": "229945dd-f629-4227-93bf-8a7e5cd193d3",
   "metadata": {},
   "source": [
    "1. try removing phase from the new method\n",
    "2. check the VV works with a varying phase normally\n",
    "3. try removing the varying phase by new method"
   ]
  },
  {
   "cell_type": "code",
   "execution_count": 58,
   "id": "f29d5433-91da-47a2-8803-83ea5dfbbc7b",
   "metadata": {},
   "outputs": [],
   "source": [
    "Qts=quantize(ts)\n",
    "Qts2=quantize(ts2)\n",
    "Qts2_new=quantize(ts2_new)\n",
    "Qts2_phased=Qts2*np.exp(-2J*np.pi*k*1e-7*np.arange(len(ts))/N)\n",
    "# Qts2_new_phased = Qts2_new*np.exp(2J*np.pi*k*alpha*np.arange(len(ts))/N)"
   ]
  },
  {
   "cell_type": "code",
   "execution_count": 41,
   "id": "fe68778a-37e8-42db-9835-ec12dc7cd28c",
   "metadata": {},
   "outputs": [
    {
     "name": "stdout",
     "output_type": "stream",
     "text": [
      "-0.163870703125 -0.16390869140625 0.49874021809895835 -0.498658544921875\n"
     ]
    }
   ],
   "source": [
    "RR,II,IR,RI = get_quant_parts(quantize(ts),quantize(ts2))\n",
    "print(RR,II,IR,RI)"
   ]
  },
  {
   "cell_type": "code",
   "execution_count": 43,
   "id": "19dfe735-5146-4666-85be-cece05a2c7e8",
   "metadata": {},
   "outputs": [
    {
     "name": "stdout",
     "output_type": "stream",
     "text": [
      "-0.3589353515625 -0.35898370768229165 0.3339959147135417 -0.333959375\n"
     ]
    }
   ],
   "source": [
    "RR,II,IR,RI = get_quant_parts(quantize(ts),quantize(ts2_new))\n",
    "print(RR,II,IR,RI)"
   ]
  },
  {
   "cell_type": "code",
   "execution_count": 57,
   "id": "36b3fbed-3e49-406f-b8a3-9d6f04ed9e08",
   "metadata": {},
   "outputs": [
    {
     "name": "stdout",
     "output_type": "stream",
     "text": [
      "-0.16410604197965703 -0.16414407693742125 0.4986627974462737 -0.4985811274535046\n"
     ]
    }
   ],
   "source": [
    "RR,II,IR,RI = get_quant_parts(quantize(ts),Qts2_phased)\n",
    "print(RR,II,IR,RI)"
   ]
  },
  {
   "cell_type": "code",
   "execution_count": 59,
   "id": "d5dff798-e685-4f8c-bc39-74171a18c74e",
   "metadata": {},
   "outputs": [
    {
     "data": {
      "text/plain": [
       "(array([-1.01829729, -1.01829727, -1.01829725, ...,  1.6848786 ,\n",
       "         1.68487862,  1.68487864]),\n",
       " array([-1.01852811, -1.01852809, -1.01852807, ...,  1.68503709,\n",
       "         1.68503711,  1.68503713]),\n",
       " array([2.82282453, 2.82282453, 2.82282454, ..., 2.48322114, 2.48322113,\n",
       "        2.48322111]),\n",
       " array([-2.82246092, -2.82246093, -2.82246094, ..., -2.48282084,\n",
       "        -2.48282083, -2.48282081]))"
      ]
     },
     "execution_count": 59,
     "metadata": {},
     "output_type": "execute_result"
    }
   ],
   "source": [
    "phase=2*np.pi*k*alpha*np.arange(len(ts))/N\n",
    "power=(wnoise + snr * 2)/2\n",
    "get_quant_parts_phased(Qts,Qts2,phase,power)"
   ]
  },
  {
   "cell_type": "code",
   "execution_count": 48,
   "id": "75ae4462-dcf8-4e99-87cd-3be310a396ed",
   "metadata": {},
   "outputs": [
    {
     "data": {
      "text/plain": [
       "(-0.3589353515625, -0.35898370768229165, 0.3339959147135417, -0.333959375)"
      ]
     },
     "execution_count": 48,
     "metadata": {},
     "output_type": "execute_result"
    }
   ],
   "source": [
    "get_quant_parts(quantize(ts),quantize(ts2*np.exp(-2J*np.pi*k*alpha*np.arange(len(ts))/N)))"
   ]
  },
  {
   "cell_type": "code",
   "execution_count": 51,
   "id": "4327078e-7938-4001-bb12-4c1ab650dff1",
   "metadata": {},
   "outputs": [
    {
     "data": {
      "text/plain": [
       "(-2.1358551926892297, 2.003371584828504)"
      ]
     },
     "execution_count": 51,
     "metadata": {},
     "output_type": "execute_result"
    }
   ],
   "source": [
    "np.sin(np.pi*RR/2)*(wnoise + snr * 2)/2, np.sin(np.pi*IR/2)*(wnoise + snr * 2)/2"
   ]
  },
  {
   "cell_type": "markdown",
   "id": "c323c1bd-420d-411a-9737-ca66e20be8a6",
   "metadata": {},
   "source": [
    "Above doesn't match. most probably because this extra phase is not random."
   ]
  },
  {
   "cell_type": "code",
   "execution_count": 45,
   "id": "b97e2107-e67f-4cbd-b1cd-a39a519de563",
   "metadata": {},
   "outputs": [
    {
     "data": {
      "text/plain": [
       "[<matplotlib.lines.Line2D at 0x7c26844995a0>]"
      ]
     },
     "execution_count": 45,
     "metadata": {},
     "output_type": "execute_result"
    },
    {
     "data": {
      "image/png": "[encoded data removed]",
      "text/plain": [
       "<Figure size 640x480 with 1 Axes>"
      ]
     },
     "metadata": {},
     "output_type": "display_data"
    }
   ],
   "source": [
    "cos_phi_t = np.cos(2*np.pi*3*np.arange(100)/100)\n",
    "Qts_cos_phi = np.sign(Qts.real[:100]*cos_phi_t)\n",
    "# plt.plot(ts.real[:100])\n",
    "plt.plot(Qts.real[:100])\n",
    "# plt.plot(Qts_cos_phi)\n",
    "plt.plot(Qts_cos_phi*np.sign(cos_phi_t))\n",
    "# plt.plot(cos_phi_t)\n",
    "# plt.plot(ts.real[:100]*cos_phi_t)"
   ]
  },
  {
   "cell_type": "markdown",
   "id": "d7435ce3-b574-49a0-8ddc-ccdc9b9deda2",
   "metadata": {},
   "source": [
    "Let's do a simple exercise. calculate r0r1cosphi and r0im1sinphi"
   ]
  },
  {
   "cell_type": "code",
   "execution_count": 13,
   "id": "2e48b83f-35d3-47e8-a7ee-68535a432aba",
   "metadata": {},
   "outputs": [],
   "source": []
  },
  {
   "cell_type": "code",
   "execution_count": null,
   "id": "17483ae9-5b13-4a85-b194-4708728d1e3d",
   "metadata": {},
   "outputs": [],
   "source": [
    "Qts"
   ]
  },
  {
   "cell_type": "code",
   "execution_count": null,
   "id": "c467af72-9178-4c76-a9a0-1efeee07f0bb",
   "metadata": {},
   "outputs": [],
   "source": []
  },
  {
   "cell_type": "code",
   "execution_count": null,
   "id": "3f3cd1b9-814e-4af9-b962-8e764fade94e",
   "metadata": {},
   "outputs": [],
   "source": []
  },
  {
   "cell_type": "code",
   "execution_count": 63,
   "id": "0a49e180-d02c-4614-87b5-073a7412b21b",
   "metadata": {},
   "outputs": [
    {
     "data": {
      "text/plain": [
       "(-0.163980908203125,\n",
       " -0.16395109049479167,\n",
       " 0.4982280110677083,\n",
       " -0.4982826334635417)"
      ]
     },
     "execution_count": 63,
     "metadata": {},
     "output_type": "execute_result"
    }
   ],
   "source": [
    "get_quant_parts(Qts,Qts2) #just verifying that new quantize function is correct"
   ]
  },
  {
   "cell_type": "code",
   "execution_count": 98,
   "id": "a70bfa5e-81ce-47e8-a3d6-828c73540929",
   "metadata": {},
   "outputs": [
    {
     "data": {
      "text/plain": [
       "4.006708438680447"
      ]
     },
     "execution_count": 98,
     "metadata": {},
     "output_type": "execute_result"
    }
   ],
   "source": [
    "np.var(np.imag(ts2_new))"
   ]
  },
  {
   "cell_type": "markdown",
   "id": "a5536c8f-2c2d-4e25-9ae4-274bf8d2c4c7",
   "metadata": {},
   "source": [
    "Imaginary or real part of Z*exp(j$\\phi$) is composed of two parts.\n",
    "E.g. $Z_{im} = r_1sin(\\phi)+im_1cos(\\phi)$\n",
    "\n",
    "If you compute the variance, of $Z_{im}$ sin and cos will add to one. Even if the phase is varying in time, and you estimate the variance like (not showing the cross terms since r and im are IID)\n",
    "\n",
    "$\\hat{\\sigma}^2 = \\frac{1}{N}\\sum_i r_i^2 sin^2(\\phi_i) + im_i^2 cos^2(\\phi_i) $\n",
    "\n",
    "sin and cos pairs will always disappear.Hence variance doesn't change. But if you were looking at variance of just $r_1 cos(\\phi)$, it'll be different from that of $r_1$."
   ]
  },
  {
   "cell_type": "code",
   "execution_count": 9,
   "id": "2a942b9b-a4e8-471d-87d5-370d8fb2607f",
   "metadata": {},
   "outputs": [
    {
     "data": {
      "text/plain": [
       "(2.997995556584062,\n",
       " 2.998156923947658,\n",
       " 0.0012414713741079053,\n",
       " -0.0013144882959890136)"
      ]
     },
     "execution_count": 9,
     "metadata": {},
     "output_type": "execute_result"
    }
   ],
   "source": [
    "phi=2*np.pi*k*delay/N\n",
    "power=(wnoise + snr * 2)/2\n",
    "get_quant_parts_phased(Qts,Qts2,phi,power)"
   ]
  },
  {
   "cell_type": "code",
   "execution_count": 99,
   "id": "e0678c42-2db9-48f9-96ba-631ffd1c94b8",
   "metadata": {},
   "outputs": [],
   "source": [
    "#do same thing but with changing delay"
   ]
  },
  {
   "cell_type": "code",
   "execution_count": 20,
   "id": "574c6a74-dd5d-45ae-982f-a0d5e9bb9a36",
   "metadata": {},
   "outputs": [],
   "source": [
    "alpha=1e-6 #seconds per second\n",
    "ts2_new = ts2*np.exp(-2J*np.pi*k*alpha*np.arange(len(ts))/N)\n",
    "phi=2*np.pi*k*(delay+alpha*np.arange(len(ts)))/N\n",
    "Qts2_new=quantize(ts2_new)"
   ]
  },
  {
   "cell_type": "code",
   "execution_count": 28,
   "id": "f41ace50-25f8-4208-97a9-c3a3faa1e4b0",
   "metadata": {},
   "outputs": [],
   "source": [
    "power=(wnoise + snr * 2)/2"
   ]
  },
  {
   "cell_type": "code",
   "execution_count": 45,
   "id": "6444a19c-8b69-46ee-b616-6752d783ee63",
   "metadata": {},
   "outputs": [],
   "source": [
    "block=5000\n",
    "new_parts = np.zeros((N//block,4),dtype=\"float64\")\n",
    "for i in range(new_parts.shape[0]):\n",
    "    new_parts[i,:] = get_quant_parts_phased(Qts[i*block:(i+1)*block],Qts2_new[i*block:(i+1)*block],np.mean(phi[i*block:(i+1)*block]),power)"
   ]
  },
  {
   "cell_type": "code",
   "execution_count": 46,
   "id": "f5c5b970-cd01-49a2-913f-ff40eb42683c",
   "metadata": {},
   "outputs": [
    {
     "data": {
      "text/plain": [
       "array([ 2.97170243e+00,  2.97169234e+00,  1.26217763e-03, -1.32511540e-03])"
      ]
     },
     "execution_count": 46,
     "metadata": {},
     "output_type": "execute_result"
    }
   ],
   "source": [
    "np.mean(new_parts,axis=0)"
   ]
  },
  {
   "cell_type": "markdown",
   "id": "17ba822e-6b06-4970-b041-911fe60b31e0",
   "metadata": {},
   "source": [
    "This is very close to real answer. good. bias of about 0.06 in real part"
   ]
  }
 ],
 "metadata": {
  "kernelspec": {
   "display_name": "Python 3 (ipykernel)",
   "language": "python",
   "name": "python3"
  },
  "language_info": {
   "codemirror_mode": {
    "name": "ipython",
    "version": 3
   },
   "file_extension": ".py",
   "mimetype": "text/x-python",
   "name": "python",
   "nbconvert_exporter": "python",
   "pygments_lexer": "ipython3",
   "version": "3.10.12"
  }
 },
 "nbformat": 4,
 "nbformat_minor": 5
}
