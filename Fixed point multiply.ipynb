{
 "cells": [
  {
   "cell_type": "code",
   "execution_count": 1,
   "id": "0152108a",
   "metadata": {},
   "outputs": [],
   "source": [
    "import numpy as np"
   ]
  },
  {
   "cell_type": "code",
   "execution_count": 43,
   "id": "3e16ae78",
   "metadata": {},
   "outputs": [],
   "source": [
    "def FIX_MPY(a:int, b:int):\n",
    "    c = (a*b)>>15\n",
    "    return c\n",
    "\n",
    "def print_bin(a,nbits=16):\n",
    "    f=1<<nbits\n",
    "    rep=''\n",
    "    for i in range(nbits):\n",
    "        f=f>>1\n",
    "        rep+=str((a&f)>>(nbits-i-1))\n",
    "    return rep\n",
    "\n",
    "def FIX2FLOAT(a:int,nbits=16):\n",
    "    return a/(1<<(nbits-1))\n",
    "\n",
    "def CMP_MUL(a:complex,b:complex):\n",
    "    ar=np.real(a).astype(int)\n",
    "    ai=np.imag(a).astype(int)\n",
    "    br=np.real(b).astype(int)\n",
    "    bi=np.imag(b).astype(int)\n",
    "    r1=FIX_MPY(ar,br)\n",
    "    r2=FIX_MPY(ai,bi)\n",
    "    r=r1-r2\n",
    "    im1=FIX_MPY(ai,br)\n",
    "    im2=FIX_MPY(ar,bi)\n",
    "    im=im1+im2\n",
    "    print(r1,r2,im1,im2)\n",
    "    return r+1J*im"
   ]
  },
  {
   "cell_type": "code",
   "execution_count": 36,
   "id": "e53833c0",
   "metadata": {},
   "outputs": [
    {
     "name": "stdout",
     "output_type": "stream",
     "text": [
      "0011111111111111\n",
      "0.499969482421875\n"
     ]
    }
   ],
   "source": [
    "print(print_bin(16383))\n",
    "print(FIX2FLOAT(16383))"
   ]
  },
  {
   "cell_type": "code",
   "execution_count": 44,
   "id": "bfbe82c1",
   "metadata": {},
   "outputs": [],
   "source": [
    "a=np.asarray(32767+1J*16384)\n",
    "b=np.asarray(32767+1J*16384)"
   ]
  },
  {
   "cell_type": "code",
   "execution_count": 45,
   "id": "3a44814f",
   "metadata": {},
   "outputs": [
    {
     "name": "stdout",
     "output_type": "stream",
     "text": [
      "32766 8192 16383 16383\n"
     ]
    },
    {
     "data": {
      "text/plain": [
       "(24574+32766j)"
      ]
     },
     "execution_count": 45,
     "metadata": {},
     "output_type": "execute_result"
    }
   ],
   "source": [
    "CMP_MUL(a,b)"
   ]
  },
  {
   "cell_type": "code",
   "execution_count": 46,
   "id": "491b7961",
   "metadata": {},
   "outputs": [
    {
     "name": "stdout",
     "output_type": "stream",
     "text": [
      "0111111111111110 0010000000000000 0101111111111110\n"
     ]
    }
   ],
   "source": [
    "print(print_bin(32766),print_bin(8192), print_bin(24574))"
   ]
  },
  {
   "cell_type": "code",
   "execution_count": 4,
   "id": "4c766f92",
   "metadata": {},
   "outputs": [
    {
     "data": {
      "text/plain": [
       "16383"
      ]
     },
     "execution_count": 4,
     "metadata": {},
     "output_type": "execute_result"
    }
   ],
   "source": [
    "FIX_MPY(32767,16384)"
   ]
  },
  {
   "cell_type": "code",
   "execution_count": 47,
   "id": "fd85a77a",
   "metadata": {},
   "outputs": [
    {
     "data": {
      "text/plain": [
       "'0101111111111110'"
      ]
     },
     "execution_count": 47,
     "metadata": {},
     "output_type": "execute_result"
    }
   ],
   "source": [
    "print_bin(32766-8192)"
   ]
  },
  {
   "cell_type": "code",
   "execution_count": 48,
   "id": "9fe0b290",
   "metadata": {},
   "outputs": [
    {
     "data": {
      "text/plain": [
       "32767.0"
      ]
     },
     "execution_count": 48,
     "metadata": {},
     "output_type": "execute_result"
    }
   ],
   "source": [
    "65534/2"
   ]
  },
  {
   "cell_type": "code",
   "execution_count": null,
   "id": "03b336b2",
   "metadata": {},
   "outputs": [],
   "source": []
  },
  {
   "cell_type": "code",
   "execution_count": null,
   "id": "33346374",
   "metadata": {},
   "outputs": [],
   "source": []
  },
  {
   "cell_type": "code",
   "execution_count": null,
   "id": "2872b7e5",
   "metadata": {},
   "outputs": [],
   "source": []
  }
 ],
 "metadata": {
  "kernelspec": {
   "display_name": "Python 3 (ipykernel)",
   "language": "python",
   "name": "python3"
  },
  "language_info": {
   "codemirror_mode": {
    "name": "ipython",
    "version": 3
   },
   "file_extension": ".py",
   "mimetype": "text/x-python",
   "name": "python",
   "nbconvert_exporter": "python",
   "pygments_lexer": "ipython3",
   "version": "3.8.10"
  }
 },
 "nbformat": 4,
 "nbformat_minor": 5
}
