{
 "cells": [
  {
   "cell_type": "code",
   "execution_count": 1,
   "id": "42a17248",
   "metadata": {},
   "outputs": [],
   "source": [
    "import numpy as np\n",
    "import matplotlib.pyplot as plt\n",
    "from scipy.optimize import curve_fit\n",
    "import pandas as pd"
   ]
  },
  {
   "cell_type": "code",
   "execution_count": 2,
   "id": "4dbcc944",
   "metadata": {},
   "outputs": [],
   "source": [
    "re=6378100"
   ]
  },
  {
   "cell_type": "code",
   "execution_count": 3,
   "id": "606b9744",
   "metadata": {},
   "outputs": [],
   "source": [
    "coords=pd.read_csv(\"/home/mohan/coords.csv\")"
   ]
  },
  {
   "cell_type": "code",
   "execution_count": 4,
   "id": "50e868ba",
   "metadata": {},
   "outputs": [],
   "source": [
    "xyz=np.zeros(coords.shape)\n",
    "xyz[:,0] = np.cos(np.deg2rad(coords['lat']))*np.cos(np.deg2rad(coords['lon']))\n",
    "xyz[:,1] = np.cos(np.deg2rad(coords['lat']))*np.sin(np.deg2rad(coords['lon']))\n",
    "xyz[:,2] = np.sin(np.deg2rad(coords['lat']))"
   ]
  },
  {
   "cell_type": "code",
   "execution_count": null,
   "id": "12574619",
   "metadata": {},
   "outputs": [],
   "source": [
    "plt.scatter(xyz[:,0]*re/1e3,xyz[:,1]*re/1e3)"
   ]
  },
  {
   "cell_type": "code",
   "execution_count": 5,
   "id": "66690f5e",
   "metadata": {},
   "outputs": [
    {
     "name": "stdout",
     "output_type": "stream",
     "text": [
      "Num baselines =  45\n",
      "Max baseline for array is 23952.35 m\n",
      "[[  -774.30160486   8146.25834852   1501.89958454]\n",
      " [  5086.27461788  12169.11988978   2265.33780797]\n",
      " [ -3474.86568538   6151.07801287   1126.68915597]\n",
      " [ -1201.33491377  10068.30420488   1857.29685864]\n",
      " [  -817.28197215   5245.19013886    965.00424205]\n",
      " [ 10758.09813146   5912.51267608   1126.68915597]\n",
      " [ -5553.2634047   22909.64881803   4245.49101548]\n",
      " [ -2515.29427652  12280.49595908   2265.33780797]\n",
      " [  3833.49008182  17479.11508585   3250.93567122]\n",
      " [  5860.57622274   4022.86154125    763.43822342]\n",
      " [ -2700.56408053  -1995.18033566   -375.21042858]\n",
      " [  -427.03330892   1922.04585635    355.3972741 ]\n",
      " [   -42.98036729  -2901.06820966   -536.8953425 ]\n",
      " [ 11532.39973632  -2233.74567245   -375.21042858]\n",
      " [ -4778.96179984  14763.39046951   2743.59143094]\n",
      " [ -1740.99267166   4134.23761056    763.43822342]\n",
      " [  4607.79168668   9332.85673733   1749.03608668]\n",
      " [ -8561.14030327  -6018.04187691  -1138.648652  ]\n",
      " [ -6287.60953166  -2100.8156849    -408.04094933]\n",
      " [ -5903.55659003  -6923.92975091  -1300.33356592]\n",
      " [  5671.82351358  -6256.6072137   -1138.648652  ]\n",
      " [-10639.53802258  10740.52892826   1980.15320751]\n",
      " [ -7601.5688944     111.3760693       0.        ]\n",
      " [ -1252.78453606   5309.99519608    985.59786326]\n",
      " [  2273.53077161   3917.22619201    730.60770268]\n",
      " [  2657.58371323   -905.887874     -161.68491392]\n",
      " [ 14232.96381685   -238.56533679      0.        ]\n",
      " [ -2078.39771932  16758.57080517   3118.80185951]\n",
      " [   959.57140887   6129.41794622   1138.648652  ]\n",
      " [  7308.35576721  11328.03707299   2124.24651526]\n",
      " [   384.05294162  -4823.11406601   -892.29261659]\n",
      " [ 11959.43304524  -4155.7915288    -730.60770268]\n",
      " [ -4351.92849093  12841.34461316   2388.19415684]\n",
      " [ -1313.95936274   2212.1917542     408.04094933]\n",
      " [  5034.8249956    7410.81088098   1393.63881258]\n",
      " [ 11575.38010361    667.32253721    161.68491392]\n",
      " [ -4735.98143255  17664.45867917   3280.48677343]\n",
      " [ -1698.01230437   7035.30582022   1300.33356592]\n",
      " [  4650.77205397  12233.92494699   2285.93142918]\n",
      " [-16311.36153616  16997.13614196   3118.80185951]\n",
      " [-13273.39240798   6367.98328301   1138.648652  ]\n",
      " [ -6924.60804964  11566.60240978   2124.24651526]\n",
      " [  3037.96912818 -10629.15285895  -1980.15320751]\n",
      " [  9386.75348652  -5430.53373218   -994.55534426]\n",
      " [  6348.78435834   5198.61912677    985.59786326]]\n"
     ]
    }
   ],
   "source": [
    "N=xyz.shape[0]\n",
    "east=[0,1,0]\n",
    "zen = np.mean(xyz,axis=0)\n",
    "north=np.cross(zen,east)\n",
    "\n",
    "proj_mat = np.vstack([east,north,zen]).T\n",
    "\n",
    "nb = N*(N-1)//2\n",
    "\n",
    "print(\"Num baselines = \", nb)\n",
    "\n",
    "uvw=np.zeros((nb,3))\n",
    "xyz[:]=xyz*re\n",
    "count=0\n",
    "for i in range(N):\n",
    "    for j in range(i+1,N):\n",
    "        uvw[count,:] = xyz[i,:]-xyz[j,:] #Baselines in m, in Earth Center ref frame. will project later\n",
    "        count+=1\n",
    "print(f\"Max baseline for array is {np.max(np.sqrt(np.sum(uvw**2,axis=1))):4.2f} m\")\n",
    "# uvw=np.vstack([uvw,-uvw])*freq/3e8\n",
    "print(uvw)"
   ]
  },
  {
   "cell_type": "code",
   "execution_count": 6,
   "id": "c1af9c9a",
   "metadata": {},
   "outputs": [],
   "source": [
    "freq = np.linspace(3.5,7,101)*1e6\n",
    "c=3e8\n",
    "u=uvw[:,0]\n",
    "v=uvw[:,1]\n",
    "w=uvw[:,2]\n",
    "# xx[:,1] = xx[:,1]+1\n",
    "uu=np.outer(freq/c,u).flatten()\n",
    "vv=np.outer(freq/c,v).flatten()\n",
    "ww=np.outer(freq/c,w).flatten()\n",
    "uvw=np.zeros((uu.shape[0],3))\n",
    "uvw[:,0]=uu\n",
    "uvw[:,1]=vv\n",
    "uvw[:,2]=ww\n",
    "\n"
   ]
  },
  {
   "cell_type": "code",
   "execution_count": 7,
   "id": "138990ec",
   "metadata": {},
   "outputs": [],
   "source": [
    "uvw = np.vstack([uvw,-uvw])\n",
    "uvw_local = uvw@proj_mat"
   ]
  },
  {
   "cell_type": "code",
   "execution_count": null,
   "id": "8b89768e",
   "metadata": {},
   "outputs": [],
   "source": [
    "uvw_local"
   ]
  },
  {
   "cell_type": "code",
   "execution_count": 27,
   "id": "c219d2f3",
   "metadata": {},
   "outputs": [],
   "source": [
    "def grid_uv(uv,res,npix):\n",
    "    \n",
    "    #\n",
    "    fov = res*npix\n",
    "    delu = 1/fov\n",
    "    \n",
    "    # umax = 1/res since our resolution is smaller than what's needed for better plotting, we'll never reach npix\n",
    "    # so no risk of exceeding array indices. Max uv will be around 830 as shown below\n",
    "    \n",
    "    S = np.zeros((npix,npix),dtype='float64')\n",
    "    \n",
    "#     print(delu)\n",
    "    uv_int=np.round(uv/delu).astype(int)\n",
    "#     uv_int=np.asarray(uv/delu,dtype='int')\n",
    "    print(uv_int)\n",
    "    for i in range(uv.shape[0]):\n",
    "        S[uv_int[i,0],uv_int[i,1]] = S[uv_int[i,0],uv_int[i,1]] + 1   #rows are U, columns are V\n",
    "    \n",
    "    return S"
   ]
  },
  {
   "cell_type": "code",
   "execution_count": 9,
   "id": "42d30185",
   "metadata": {},
   "outputs": [
    {
     "name": "stdout",
     "output_type": "stream",
     "text": [
      "Array A\n",
      "Synth. resol\t: 515.66\"\n",
      "FOV\t\t: 36000.00\"\n",
      "Max UV\t\t: 69\n",
      "Pixel resol \t: 17.58\"\n"
     ]
    }
   ],
   "source": [
    "# Array a\n",
    "lm = 3e8/5e6 #m\n",
    "res = lm/24000 #max baseline\n",
    "fov = np.deg2rad(10)\n",
    "print(\"Array A\")\n",
    "print(f\"Synth. resol\\t: {np.rad2deg(res)*3600:4.2f}\\\"\\nFOV\\t\\t: {np.rad2deg(fov)*3600:4.2f}\\\"\\nMax UV\\t\\t: {int(fov/res):d}\")\n",
    "\n",
    "#let's keep pixel resolution more than FWHM of synthesized image so we can see the FWHM clearly in the plot.\n",
    "#this basically means max_npix >= max_u, so that we don't saturate the grid.\n",
    "\n",
    "npix=2048\n",
    "myres=fov/npix\n",
    "print(f\"Pixel resol \\t: {np.rad2deg(myres)*3600:4.2f}\\\"\")"
   ]
  },
  {
   "cell_type": "code",
   "execution_count": 17,
   "id": "fef0cfba",
   "metadata": {},
   "outputs": [
    {
     "data": {
      "text/plain": [
       "0.29296875"
      ]
     },
     "execution_count": 17,
     "metadata": {},
     "output_type": "execute_result"
    }
   ],
   "source": [
    "np.rad2deg(myres)*60"
   ]
  },
  {
   "cell_type": "code",
   "execution_count": null,
   "id": "7d7f3b2d",
   "metadata": {},
   "outputs": [],
   "source": [
    "np.max(uvw_local[:,:2])*fov"
   ]
  },
  {
   "cell_type": "code",
   "execution_count": null,
   "id": "b7c1f4e1",
   "metadata": {},
   "outputs": [],
   "source": [
    "uvw_local[:,:2]"
   ]
  },
  {
   "cell_type": "code",
   "execution_count": 28,
   "id": "dddd4fef",
   "metadata": {},
   "outputs": [
    {
     "name": "stdout",
     "output_type": "stream",
     "text": [
      "[[ 17   2]\n",
      " [ 25 -10]\n",
      " [ 13   7]\n",
      " ...\n",
      " [ 43  12]\n",
      " [ 22  38]\n",
      " [-21  25]]\n"
     ]
    }
   ],
   "source": [
    "uv_grid = grid_uv(uvw_local[:,:2],myres,npix)"
   ]
  },
  {
   "cell_type": "code",
   "execution_count": null,
   "id": "710e84a1",
   "metadata": {},
   "outputs": [],
   "source": [
    "x,y=np.where(uv_grid[:2048,:2048]!=0)"
   ]
  },
  {
   "cell_type": "code",
   "execution_count": 29,
   "id": "da3c1a14",
   "metadata": {},
   "outputs": [],
   "source": [
    "img = np.real(np.fft.fft2(uv_grid))\n",
    "img=img/img.max()"
   ]
  },
  {
   "cell_type": "code",
   "execution_count": 33,
   "id": "26ba10fd",
   "metadata": {},
   "outputs": [
    {
     "data": {
      "text/plain": [
       "<matplotlib.colorbar.Colorbar at 0x7ff7dd082fa0>"
      ]
     },
     "execution_count": 33,
     "metadata": {},
     "output_type": "execute_result"
    },
    {
     "data": {
      "image/png": "[encoded data removed]",
      "text/plain": [
       "<Figure size 360x360 with 2 Axes>"
      ]
     },
     "metadata": {
      "needs_background": "light"
     },
     "output_type": "display_data"
    }
   ],
   "source": [
    "f=plt.gcf()\n",
    "f.set_size_inches(5,5)\n",
    "plt.clf();\n",
    "w=100\n",
    "x0=img.shape[0]//2\n",
    "pixres = np.rad2deg(myres)*60\n",
    "myext = [-w*pixres,w*pixres,w*pixres,-w*pixres]\n",
    "plt.imshow(np.fft.fftshift(img)[x0-w:x0+w,x0-w:x0+w],extent=myext,interpolation='none',cmap='gray')\n",
    "plt.xlabel(\"Declination (deg)\")\n",
    "plt.ylabel(\"RA (deg)\")\n",
    "plt.colorbar()\n",
    "# plt.xlim()\n",
    "# plt.ylim(x0-25,x0+25)"
   ]
  },
  {
   "cell_type": "code",
   "execution_count": 26,
   "id": "0cfab78e",
   "metadata": {},
   "outputs": [
    {
     "data": {
      "text/plain": [
       "(4096, 4096)"
      ]
     },
     "execution_count": 26,
     "metadata": {},
     "output_type": "execute_result"
    }
   ],
   "source": [
    "uv_grid.shape"
   ]
  },
  {
   "cell_type": "code",
   "execution_count": null,
   "id": "0881aed3",
   "metadata": {},
   "outputs": [],
   "source": [
    "f=plt.gcf()\n",
    "f.set_size_inches(10,4)\n",
    "xx=np.fft.fftshift(img)[x0-50:x0+50,x0].copy()\n",
    "xx=xx/xx.max()\n",
    "plt.subplot(121)\n",
    "plt.plot(xx)\n",
    "plt.title(\"RA\")\n",
    "mygauss = lambda x,amp,mu,sig: amp*np.exp(-0.5*(x-mu)**2/sig**2)\n",
    "fitp,cov=curve_fit(mygauss,np.arange(0,100),xx,[1,50,10])\n",
    "print(f\"FWHM along RA {np.rad2deg(fitp[2]*2.355*myres)*60:4.2f} arcmin\")\n",
    "\n",
    "xx=np.fft.fftshift(img)[x0,x0-50:x0+50].copy()\n",
    "xx=xx/xx.max()\n",
    "plt.subplot(122)\n",
    "plt.plot(xx)\n",
    "plt.title(\"Declination\")\n",
    "mygauss = lambda x,amp,mu,sig: amp*np.exp(-0.5*(x-mu)**2/sig**2)\n",
    "fitp,cov=curve_fit(mygauss,np.arange(0,100),xx,[1,50,10])\n",
    "print(f\"FWHM along dec {np.rad2deg(fitp[2]*myres)*60:4.2f} arcmin\")"
   ]
  },
  {
   "cell_type": "markdown",
   "id": "8f4fd30c",
   "metadata": {},
   "source": [
    "### VLA website states that in case of natural weighting (all visiblities having the same weight, as is the case here), FWHM must be multiplied by 1.5.  https://science.nrao.edu/facilities/vla/docs/manuals/oss/performance/resolution\n",
    "\n",
    "#### Stated FWHM = 1.3''. Therefore, for natural weighting we expect FWHM ~ 1.95''. Thus, approximately, the my FWHM matches very well with what's stated on the website."
   ]
  },
  {
   "cell_type": "markdown",
   "id": "6bf1ec6a",
   "metadata": {},
   "source": [
    "### Rotation synthesis"
   ]
  },
  {
   "cell_type": "markdown",
   "id": "605348f2",
   "metadata": {},
   "source": [
    "Zenith"
   ]
  },
  {
   "cell_type": "code",
   "execution_count": null,
   "id": "315b3da7",
   "metadata": {},
   "outputs": [],
   "source": [
    "t=np.linspace(-4,4,51)\n",
    "phi = t*np.pi/12\n",
    "#2*pi in 24 hrs.\n",
    "xyz,uvw,proj_mat=get_uvw(arr='a')\n",
    "\n",
    "nn=uvw.shape[0]\n",
    "uv_big = np.zeros((nn*t.shape[0],3))\n",
    "for i,p in enumerate(phi):\n",
    "    rot_mat = np.asarray([[np.cos(p),-np.sin(p),0],[np.sin(p),np.cos(p),0],[0,0,1]]).T \n",
    "    #our vectors are rows, so taking a Transpose. Result is same as what Jon uses.\n",
    "    uv_big[i*nn:(i+1)*nn,:] = uvw@rot_mat\n",
    "print(uv_big.shape)\n",
    "uv_big[:] = uv_big@proj_mat"
   ]
  },
  {
   "cell_type": "code",
   "execution_count": null,
   "id": "1c492d5b",
   "metadata": {},
   "outputs": [],
   "source": [
    "uv_grid = grid_uv(uv_big[:,:2],myres,npix)\n",
    "img = np.abs(np.fft.ifft2(uv_grid))**2\n",
    "f=plt.gcf()\n",
    "f.set_size_inches(10,5)\n",
    "\n",
    "plt.subplot(121)\n",
    "plt.scatter(uv_big[:,0],uv_big[:,1])\n",
    "plt.title(\"A array, 8 hrs UV coverage, zenith\")\n",
    "plt.xlabel('v')\n",
    "plt.ylabel('u')\n",
    "\n",
    "plt.subplot(122)\n",
    "w=25\n",
    "x0=img.shape[0]//2\n",
    "plt.imshow(np.fft.fftshift(img)[x0-w:x0+w,x0-w:x0+w],interpolation='none')\n",
    "plt.title(\"Source at zenith\")\n",
    "\n",
    "plt.tight_layout()\n",
    "# plt.xlim()\n",
    "# plt.ylim(x0-25,x0+25)"
   ]
  },
  {
   "cell_type": "code",
   "execution_count": null,
   "id": "c08e0722",
   "metadata": {},
   "outputs": [],
   "source": [
    "t=np.linspace(-4,4,51)\n",
    "phi = t*np.pi/12\n",
    "#2*pi in 24 hrs.\n",
    "xyz,uvw,proj_mat=get_uvw(arr='a',decl=np.pi/2)\n",
    "\n",
    "nn=uvw.shape[0]\n",
    "uv_big = np.zeros((nn*t.shape[0],3))\n",
    "for i,p in enumerate(phi):\n",
    "    rot_mat = np.asarray([[np.cos(p),-np.sin(p),0],[np.sin(p),np.cos(p),0],[0,0,1]]).T \n",
    "    #our vectors are rows, so taking a Transpose. Result is same as what Jon uses.\n",
    "    uv_big[i*nn:(i+1)*nn,:] = uvw@rot_mat # uvw are baselines in Earth's center frame. applying the rotation matrix.\n",
    "print(uv_big.shape)\n",
    "uv_big[:] = uv_big@proj_mat  #projecting to source' frame for true UVW\n",
    "\n",
    "uv_grid = grid_uv(uv_big[:,:2],myres,npix)\n",
    "img = np.abs(np.fft.ifft2(uv_grid))**2\n",
    "f=plt.gcf()\n",
    "f.set_size_inches(10,5)\n",
    "\n",
    "plt.subplot(121)\n",
    "plt.scatter(uv_big[:,0],uv_big[:,1])\n",
    "plt.title(\"A array, 8 hrs UV coverage, North Celestial Pole\")\n",
    "plt.xlabel('v')\n",
    "plt.ylabel('u')\n",
    "\n",
    "plt.subplot(122)\n",
    "w=25\n",
    "x0=img.shape[0]//2\n",
    "plt.imshow(np.fft.fftshift(img)[x0-w:x0+w,x0-w:x0+w],interpolation='none')\n",
    "plt.title(\"Source at NCP\")\n",
    "\n",
    "plt.tight_layout()\n",
    "# plt.xlim()\n",
    "# plt.ylim(x0-25,x0+25)"
   ]
  },
  {
   "cell_type": "code",
   "execution_count": null,
   "id": "c714b4aa",
   "metadata": {},
   "outputs": [],
   "source": [
    "t=np.linspace(-4,4,51)\n",
    "phi = t*np.pi/12\n",
    "#2*pi in 24 hrs.\n",
    "xyz,uvw,proj_mat=get_uvw(arr='a',decl=0)\n",
    "\n",
    "nn=uvw.shape[0]\n",
    "uv_big = np.zeros((nn*t.shape[0],3))\n",
    "for i,p in enumerate(phi):\n",
    "    rot_mat = np.asarray([[np.cos(p),-np.sin(p),0],[np.sin(p),np.cos(p),0],[0,0,1]]).T \n",
    "    #our vectors are rows, so taking a Transpose. Result is same as what Jon uses.\n",
    "    uv_big[i*nn:(i+1)*nn,:] = uvw@rot_mat\n",
    "print(uv_big.shape)\n",
    "uv_big[:] = uv_big@proj_mat\n",
    "\n",
    "uv_grid = grid_uv(uv_big[:,:2],myres,npix)\n",
    "img = np.abs(np.fft.ifft2(uv_grid))**2\n",
    "f=plt.gcf()\n",
    "f.set_size_inches(10,5)\n",
    "\n",
    "plt.subplot(121)\n",
    "plt.scatter(uv_big[:,0],uv_big[:,1])\n",
    "plt.title(\"A array, 8 hrs UV coverage, Equator\")\n",
    "plt.xlabel('v')\n",
    "plt.ylabel('u')\n",
    "\n",
    "plt.subplot(122)\n",
    "w=25\n",
    "x0=img.shape[0]//2\n",
    "plt.imshow(np.fft.fftshift(img)[x0-w:x0+w,x0-w:x0+w],interpolation='none')\n",
    "plt.title(\"Source at Equator\")\n",
    "\n",
    "plt.tight_layout()\n",
    "# plt.xlim()\n",
    "# plt.ylim(x0-25,x0+25)"
   ]
  },
  {
   "cell_type": "code",
   "execution_count": null,
   "id": "7e6b4353",
   "metadata": {},
   "outputs": [],
   "source": []
  }
 ],
 "metadata": {
  "kernelspec": {
   "display_name": "Python 3 (ipykernel)",
   "language": "python",
   "name": "python3"
  },
  "language_info": {
   "codemirror_mode": {
    "name": "ipython",
    "version": 3
   },
   "file_extension": ".py",
   "mimetype": "text/x-python",
   "name": "python",
   "nbconvert_exporter": "python",
   "pygments_lexer": "ipython3",
   "version": "3.8.10"
  }
 },
 "nbformat": 4,
 "nbformat_minor": 5
}
