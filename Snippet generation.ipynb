{
 "cells": [
  {
   "cell_type": "code",
   "execution_count": 1,
   "metadata": {},
   "outputs": [],
   "source": [
    "import os\n",
    "import sys\n",
    "sys.path.append(os.path.expanduser('~'))\n",
    "import numpy as np"
   ]
  },
  {
   "cell_type": "code",
   "execution_count": 2,
   "metadata": {},
   "outputs": [],
   "source": [
    "from correlations import baseband_data_classes as bdc\n",
    "from mars_2019_tools import scio\n",
    "from datetime import datetime as dt"
   ]
  },
  {
   "cell_type": "code",
   "execution_count": 3,
   "metadata": {},
   "outputs": [],
   "source": [
    "from albatros_analysis.correlations import baseband_data_classes as bdc2"
   ]
  },
  {
   "cell_type": "code",
   "execution_count": 4,
   "metadata": {},
   "outputs": [
    {
     "name": "stdout",
     "output_type": "stream",
     "text": [
      "took  0.19501090049743652  seconds to read raw data on  /project/s/sievers/albatros/uapishka/baseband/snap1/16272/1627202039.raw\n",
      "Took 7.00368332862854 to unpack\n"
     ]
    }
   ],
   "source": [
    "# obj = bdc.baseband_data_float('/project/s/sievers/albatros/uapishka/baseband/snap3/16276/1627602948.raw')\n",
    "obj = bdc.baseband_data_float('/project/s/sievers/albatros/uapishka/baseband/snap1/16272/1627202039.raw')\n",
    "#corresponding direct timestamp 1627202094"
   ]
  },
  {
   "cell_type": "code",
   "execution_count": 5,
   "metadata": {},
   "outputs": [
    {
     "name": "stdout",
     "output_type": "stream",
     "text": [
      "took  0.19809317588806152  seconds to read raw data on  /project/s/sievers/albatros/uapishka/baseband/snap1/16272/1627202039.raw\n",
      "num spec is 3894080\n",
      "Took 7.0821852684021 to unpack\n"
     ]
    }
   ],
   "source": [
    "obj2 = bdc2.baseband_data_float('/project/s/sievers/albatros/uapishka/baseband/snap1/16272/1627202039.raw')"
   ]
  },
  {
   "cell_type": "code",
   "execution_count": 6,
   "metadata": {},
   "outputs": [
    {
     "data": {
      "text/plain": [
       "(3894080, 64)"
      ]
     },
     "execution_count": 6,
     "metadata": {},
     "output_type": "execute_result"
    }
   ],
   "source": [
    "obj.pol0.shape"
   ]
  },
  {
   "cell_type": "code",
   "execution_count": 7,
   "metadata": {},
   "outputs": [],
   "source": [
    "c1=np.abs(obj.pol0-obj2.pol0)\n"
   ]
  },
  {
   "cell_type": "code",
   "execution_count": 8,
   "metadata": {},
   "outputs": [
    {
     "data": {
      "text/plain": [
       "(array([], dtype=int64), array([], dtype=int64))"
      ]
     },
     "execution_count": 8,
     "metadata": {},
     "output_type": "execute_result"
    }
   ],
   "source": [
    "np.where(c1>0)"
   ]
  },
  {
   "cell_type": "code",
   "execution_count": 9,
   "metadata": {},
   "outputs": [
    {
     "name": "stdout",
     "output_type": "stream",
     "text": [
      "[-4.-3.j -4.+0.j -4.+0.j  1.+3.j -3.+2.j -4.+2.j -1.+2.j  2.+5.j  1.-1.j\n",
      "  0.+2.j -1.-1.j  1.+3.j -1.-2.j  2.+1.j  0.+1.j  2.-3.j  3.+0.j  3.+1.j\n",
      "  0.+0.j -2.-2.j  0.+2.j  2.+4.j  2.+1.j  2.+3.j  2.+2.j -3.-3.j -3.+1.j\n",
      " -1.-2.j  0.-1.j  0.+2.j  0.-2.j  0.+4.j -1.-1.j -1.-2.j  2.+0.j -2.+2.j\n",
      " -2.+4.j  2.-1.j  0.+1.j  2.+0.j  0.+4.j -2.+1.j -2.-3.j -3.-4.j -3.-4.j\n",
      "  0.-2.j  0.+4.j -1.+0.j  3.+1.j  2.+4.j -2.+0.j  1.-2.j  0.+1.j  0.-3.j\n",
      "  2.-3.j  2.-2.j  2.-4.j  0.-2.j  2.-2.j -2.+0.j -1.-2.j -4.-1.j  1.+0.j\n",
      " -2.+1.j]\n",
      "[-4.-3.j -4.+0.j -4.+0.j  1.+3.j -3.+2.j -4.+2.j -1.+2.j  2.+5.j  1.-1.j\n",
      "  0.+2.j -1.-1.j  1.+3.j -1.-2.j  2.+1.j  0.+1.j  2.-3.j  3.+0.j  3.+1.j\n",
      "  0.+0.j -2.-2.j  0.+2.j  2.+4.j  2.+1.j  2.+3.j  2.+2.j -3.-3.j -3.+1.j\n",
      " -1.-2.j  0.-1.j  0.+2.j  0.-2.j  0.+4.j -1.-1.j -1.-2.j  2.+0.j -2.+2.j\n",
      " -2.+4.j  2.-1.j  0.+1.j  2.+0.j  0.+4.j -2.+1.j -2.-3.j -3.-4.j -3.-4.j\n",
      "  0.-2.j  0.+4.j -1.+0.j  3.+1.j  2.+4.j -2.+0.j  1.-2.j  0.+1.j  0.-3.j\n",
      "  2.-3.j  2.-2.j  2.-4.j  0.-2.j  2.-2.j -2.+0.j -1.-2.j -4.-1.j  1.+0.j\n",
      " -2.+1.j]\n"
     ]
    }
   ],
   "source": [
    "print(obj.pol0[638,:])\n",
    "print(obj2.pol0[638,:])"
   ]
  },
  {
   "cell_type": "code",
   "execution_count": 6,
   "metadata": {},
   "outputs": [],
   "source": [
    "# read the raw data manually for cross checking\n",
    "with open('/project/s/sievers/albatros/uapishka/baseband/snap1/16272/1627202039.raw',mode='rb') as f:\n",
    "    f.seek(obj.header_bytes)\n",
    "#     packed=np.fromfile(f, dtype=[(\"spec_num\", \">u4\"), (\"spectra\", \"u1\",1090)])\n",
    "    packed=np.fromfile(f, count= -1, dtype=[(\"spec_num\", \">I\"), (\"spectra\", \"%dB\"%(obj.bytes_per_packet-4))])"
   ]
  },
  {
   "cell_type": "code",
   "execution_count": 34,
   "metadata": {},
   "outputs": [
    {
     "data": {
      "text/plain": [
       "array([205, 192, 192,  19, 210, 194, 242,  37,  31,   2, 255,  19, 254,\n",
       "        33,   1,  45,  48,  49,   0, 238,   2,  36,  33,  35,  34, 221,\n",
       "       209, 254,  15,   2,  14,   4, 255, 254,  32, 226, 228,  47,   1,\n",
       "        32,   4, 225, 237, 220, 220,  14,   4, 240,  49,  36, 224,  30,\n",
       "         1,  13,  45,  46,  44,  14,  46, 224, 254, 207,  16, 225],\n",
       "      dtype=uint8)"
      ]
     },
     "execution_count": 34,
     "metadata": {},
     "output_type": "execute_result"
    }
   ],
   "source": [
    "packed['spectra'][63,128*8:128*9:2] # this should be pol0"
   ]
  },
  {
   "cell_type": "code",
   "execution_count": 10,
   "metadata": {},
   "outputs": [
    {
     "data": {
      "text/plain": [
       "249221120"
      ]
     },
     "execution_count": 10,
     "metadata": {},
     "output_type": "execute_result"
    }
   ],
   "source": [
    "389408*640"
   ]
  },
  {
   "cell_type": "code",
   "execution_count": 11,
   "metadata": {},
   "outputs": [
    {
     "data": {
      "text/plain": [
       "249221120"
      ]
     },
     "execution_count": 11,
     "metadata": {},
     "output_type": "execute_result"
    }
   ],
   "source": [
    "obj.pol0.shape[0]*obj.pol0.shape[1]"
   ]
  },
  {
   "cell_type": "code",
   "execution_count": 9,
   "metadata": {},
   "outputs": [
    {
     "data": {
      "text/plain": [
       "array([[ 0.-4.j, -1.-2.j,  1.-1.j, ...,  2.+0.j,  0.-2.j, -4.-2.j],\n",
       "       [-6.+4.j,  1.+4.j, -1.+3.j, ..., -1.+1.j,  2.+0.j,  0.+0.j],\n",
       "       [-2.+4.j, -1.+0.j,  3.-4.j, ...,  2.-1.j, -1.-2.j, -2.+2.j],\n",
       "       ...,\n",
       "       [ 3.+4.j,  0.+0.j,  1.+1.j, ...,  1.+0.j,  0.-2.j,  0.+0.j],\n",
       "       [ 2.+0.j,  0.-2.j,  2.-3.j, ...,  2.+1.j, -1.-2.j,  0.+0.j],\n",
       "       [-2.+2.j, -3.+4.j,  0.-3.j, ...,  0.-4.j,  5.-4.j,  0.-3.j]],\n",
       "      dtype=complex64)"
      ]
     },
     "execution_count": 9,
     "metadata": {},
     "output_type": "execute_result"
    }
   ],
   "source": [
    "obj.pol1"
   ]
  },
  {
   "cell_type": "code",
   "execution_count": null,
   "metadata": {},
   "outputs": [],
   "source": []
  },
  {
   "cell_type": "code",
   "execution_count": 33,
   "metadata": {},
   "outputs": [],
   "source": [
    "file= open('/project/s/sievers/albatros/uapishka/baseband/snap1/16272/1627202039.raw',mode='rb')\n",
    "    "
   ]
  },
  {
   "cell_type": "code",
   "execution_count": 35,
   "metadata": {},
   "outputs": [],
   "source": [
    "rawdata=file.read(obj.header_bytes+15408000)"
   ]
  },
  {
   "cell_type": "code",
   "execution_count": 44,
   "metadata": {},
   "outputs": [],
   "source": [
    "outfile=open('tempout.raw',mode='wb')\n",
    "outfile.write(rawdata)\n",
    "outfile.close()\n",
    "file.close()"
   ]
  },
  {
   "cell_type": "code",
   "execution_count": 45,
   "metadata": {},
   "outputs": [
    {
     "name": "stdout",
     "output_type": "stream",
     "text": [
      "took  0.006606340408325195  seconds to read raw data on  ./tempout.raw\n",
      "Number of dropped packets: 2\n",
      "Took 0.2027268409729004 to unpack\n"
     ]
    }
   ],
   "source": [
    "objnew = bdc.baseband_data_float('./tempout.raw')"
   ]
  },
  {
   "cell_type": "code",
   "execution_count": 46,
   "metadata": {},
   "outputs": [
    {
     "name": "stdout",
     "output_type": "stream",
     "text": [
      "Header Bytes = 1112. Bytes per packet = 1284. Channel length = 64. Spectra per packet: 10. Bit mode: 4. Have trimble = 1. Channels: [655 656 657 658 659 660 661 662 663 664 665 666 667 668 669 670 671 672\n",
      " 673 674 675 676 677 678 679 680 681 682 683 684 685 686 687 688 689 690\n",
      " 691 692 693 694 695 696 697 698 699 700 701 702 703 704 705 706 707 708\n",
      " 709 710 711 712 713 714 715 716 717 718] GPS week = 0. GPS timestamp = 1627202039. GPS latitude = 51.4643969. GPS longitude = -68.235058. GPS elevation = 360.86400000000003.\n"
     ]
    }
   ],
   "source": [
    "objnew.print_header()"
   ]
  },
  {
   "cell_type": "code",
   "execution_count": 56,
   "metadata": {},
   "outputs": [
    {
     "name": "stdout",
     "output_type": "stream",
     "text": [
      "CHECK pol0 0.0\n",
      "CHECK pol1 0.0\n"
     ]
    }
   ],
   "source": [
    "print(\"CHECK pol0\",np.sum(np.abs(objnew.pol0-obj.pol0[:120000])))\n",
    "print(\"CHECK pol1\",np.sum(np.abs(objnew.pol1-obj.pol1[:120000])))"
   ]
  },
  {
   "cell_type": "code",
   "execution_count": 3,
   "metadata": {},
   "outputs": [],
   "source": [
    "pol00=scio.read(\"/project/s/sievers/albatros/uapishka/data_auto_cross/snap1/16272/1627202093/pol00.scio.bz2\")"
   ]
  },
  {
   "cell_type": "code",
   "execution_count": 4,
   "metadata": {},
   "outputs": [
    {
     "data": {
      "text/plain": [
       "(560, 2048)"
      ]
     },
     "execution_count": 4,
     "metadata": {},
     "output_type": "execute_result"
    }
   ],
   "source": [
    "pol00.shape"
   ]
  },
  {
   "cell_type": "code",
   "execution_count": null,
   "metadata": {},
   "outputs": [],
   "source": []
  }
 ],
 "metadata": {
  "kernelspec": {
   "display_name": "Python 3 (ipykernel)",
   "language": "python",
   "name": "python3"
  },
  "language_info": {
   "codemirror_mode": {
    "name": "ipython",
    "version": 3
   },
   "file_extension": ".py",
   "mimetype": "text/x-python",
   "name": "python",
   "nbconvert_exporter": "python",
   "pygments_lexer": "ipython3",
   "version": "3.8.10"
  }
 },
 "nbformat": 4,
 "nbformat_minor": 4
}
