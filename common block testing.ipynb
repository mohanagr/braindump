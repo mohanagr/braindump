{
 "cells": [
  {
   "cell_type": "code",
   "execution_count": 1,
   "id": "8ef26eec",
   "metadata": {},
   "outputs": [],
   "source": [
    "import numpy as np\n",
    "import numba as nb\n",
    "import time "
   ]
  },
  {
   "cell_type": "code",
   "execution_count": 28,
   "id": "a895ba54",
   "metadata": {},
   "outputs": [],
   "source": [
    "def get_rownums(stidx,endidx,spec_arr):\n",
    "    l=np.searchsorted(spec_arr,stidx,side='left')\n",
    "    r=np.searchsorted(spec_arr,endidx,side='left')\n",
    "    if(spec_arr[r]>endidx):\n",
    "        r=r-1\n",
    "    return l, r\n",
    "\n",
    "def get_rows_from_specnum(spec1,spec2, spec_num, spectra_per_packet):\n",
    "\n",
    "#     print(f\"received spec1 = {spec1} and spec2 = {spec2}\")\n",
    "    l = np.searchsorted(spec_num,spec1,side='left')\n",
    "    r = np.searchsorted(spec_num,spec2,side='left')\n",
    "    # print(f\"spec1={spec1} spec2={spec2}\")\n",
    "    # print(f\"spec_num len {spec_num.shape[0]}, last spec_num {spec_num[-1]}, l={l}, r={r}\")\n",
    "    diff1=-1\n",
    "    diff2=-1\n",
    "    if(l<spec_num.shape[0]):\n",
    "        diff1 = spec1-spec_num[l]\n",
    "    if(r<spec_num.shape[0]):\n",
    "        diff2 = spec2-spec_num[r] # will give distance from right element in not equal cases\n",
    "\n",
    "    if(diff1!=0 and diff2!=0):\n",
    "        diff1 = spec1-spec_num[l-1]\n",
    "        diff2 = spec2-spec_num[r-1]\n",
    "        if(diff1<spectra_per_packet):\n",
    "            idx1=(l-1)*spectra_per_packet+diff1\n",
    "        else:\n",
    "            idx1=l*spectra_per_packet\n",
    "        if(diff2<spectra_per_packet):\n",
    "            idx2=(r-1)*spectra_per_packet+diff2\n",
    "        else:\n",
    "            idx2=r*spectra_per_packet\n",
    "    elif(diff1==0 and diff2!=0):\n",
    "        idx1 = l*spectra_per_packet\n",
    "        diff2 = spec2-spec_num[r-1]\n",
    "        if(diff2<spectra_per_packet):\n",
    "            idx2=(r-1)*spectra_per_packet+diff2\n",
    "        else:\n",
    "            idx2=r*spectra_per_packet\n",
    "    elif(diff1!=0 and diff2==0):\n",
    "        idx2 = r*spectra_per_packet\n",
    "        diff1 = spec1-spec_num[l-1]\n",
    "        if(diff1<spectra_per_packet):\n",
    "            idx1=(l-1)*spectra_per_packet+diff1\n",
    "        else:\n",
    "            idx1=l*spectra_per_packet\n",
    "    else:\n",
    "        idx1 = l*spectra_per_packet\n",
    "        idx2 = r*spectra_per_packet\n",
    "    return int(idx1),int(idx2)"
   ]
  },
  {
   "cell_type": "code",
   "execution_count": 3,
   "id": "6aef01a1",
   "metadata": {},
   "outputs": [],
   "source": [
    "spec_num = np.loadtxt('../spec_idx.txt',dtype='int')\n",
    "missing_loc = np.loadtxt('../missing_loc.txt',dtype='int')\n",
    "missing_num = np.loadtxt('../missing_num.txt',dtype='int')"
   ]
  },
  {
   "cell_type": "code",
   "execution_count": 4,
   "id": "0b448609",
   "metadata": {},
   "outputs": [
    {
     "data": {
      "text/plain": [
       "2285190"
      ]
     },
     "execution_count": 4,
     "metadata": {},
     "output_type": "execute_result"
    }
   ],
   "source": [
    "len(spec_num)*5"
   ]
  },
  {
   "cell_type": "code",
   "execution_count": 5,
   "id": "fb00c611",
   "metadata": {},
   "outputs": [],
   "source": [
    "@nb.njit(parallel=True)\n",
    "def fill_arr(myarr,specnum, spec_per_packet=5):\n",
    "    \n",
    "    n=len(specnum)\n",
    "    for i in nb.prange(n):\n",
    "        for j in nb.prange(spec_per_packet):\n",
    "            myarr[i*spec_per_packet+j] = specnum[i]+j\n",
    "\n",
    "# @nb.njit()\n",
    "# def fill_arr2(myarr,specnum, spec_per_packet=5):\n",
    "# \tfor i in nb.range(myarr.shape[0]):\n",
    "# \t\tm=i//spec_per_packet\n",
    "# \t\tn=i%spec_per_packet\n",
    "# \t\tmyarr[i]=spec_num[m]+n\n",
    "    "
   ]
  },
  {
   "cell_type": "code",
   "execution_count": 29,
   "id": "06bc7900",
   "metadata": {},
   "outputs": [
    {
     "ename": "IndexError",
     "evalue": "index 2285190 is out of bounds for axis 0 with size 2285190",
     "output_type": "error",
     "traceback": [
      "\u001b[0;31m---------------------------------------------------------------------------\u001b[0m",
      "\u001b[0;31mIndexError\u001b[0m                                Traceback (most recent call last)",
      "\u001b[0;32m/tmp/ipykernel_18611/781059228.py\u001b[0m in \u001b[0;36m<module>\u001b[0;34m\u001b[0m\n\u001b[0;32m----> 1\u001b[0;31m \u001b[0mget_rownums\u001b[0m\u001b[0;34m(\u001b[0m\u001b[0;36m23\u001b[0m\u001b[0;34m,\u001b[0m\u001b[0;36m2411215\u001b[0m\u001b[0;34m,\u001b[0m \u001b[0mfilledarr\u001b[0m\u001b[0;34m)\u001b[0m\u001b[0;34m\u001b[0m\u001b[0;34m\u001b[0m\u001b[0m\n\u001b[0m",
      "\u001b[0;32m/tmp/ipykernel_18611/3340373207.py\u001b[0m in \u001b[0;36mget_rownums\u001b[0;34m(stidx, endidx, spec_arr)\u001b[0m\n\u001b[1;32m      2\u001b[0m     \u001b[0ml\u001b[0m\u001b[0;34m=\u001b[0m\u001b[0mnp\u001b[0m\u001b[0;34m.\u001b[0m\u001b[0msearchsorted\u001b[0m\u001b[0;34m(\u001b[0m\u001b[0mspec_arr\u001b[0m\u001b[0;34m,\u001b[0m\u001b[0mstidx\u001b[0m\u001b[0;34m,\u001b[0m\u001b[0mside\u001b[0m\u001b[0;34m=\u001b[0m\u001b[0;34m'left'\u001b[0m\u001b[0;34m)\u001b[0m\u001b[0;34m\u001b[0m\u001b[0;34m\u001b[0m\u001b[0m\n\u001b[1;32m      3\u001b[0m     \u001b[0mr\u001b[0m\u001b[0;34m=\u001b[0m\u001b[0mnp\u001b[0m\u001b[0;34m.\u001b[0m\u001b[0msearchsorted\u001b[0m\u001b[0;34m(\u001b[0m\u001b[0mspec_arr\u001b[0m\u001b[0;34m,\u001b[0m\u001b[0mendidx\u001b[0m\u001b[0;34m,\u001b[0m\u001b[0mside\u001b[0m\u001b[0;34m=\u001b[0m\u001b[0;34m'left'\u001b[0m\u001b[0;34m)\u001b[0m\u001b[0;34m\u001b[0m\u001b[0;34m\u001b[0m\u001b[0m\n\u001b[0;32m----> 4\u001b[0;31m     \u001b[0;32mif\u001b[0m\u001b[0;34m(\u001b[0m\u001b[0mspec_arr\u001b[0m\u001b[0;34m[\u001b[0m\u001b[0mr\u001b[0m\u001b[0;34m]\u001b[0m\u001b[0;34m>\u001b[0m\u001b[0mendidx\u001b[0m\u001b[0;34m)\u001b[0m\u001b[0;34m:\u001b[0m\u001b[0;34m\u001b[0m\u001b[0;34m\u001b[0m\u001b[0m\n\u001b[0m\u001b[1;32m      5\u001b[0m         \u001b[0mr\u001b[0m\u001b[0;34m=\u001b[0m\u001b[0mr\u001b[0m\u001b[0;34m-\u001b[0m\u001b[0;36m1\u001b[0m\u001b[0;34m\u001b[0m\u001b[0;34m\u001b[0m\u001b[0m\n\u001b[1;32m      6\u001b[0m     \u001b[0;32mreturn\u001b[0m \u001b[0ml\u001b[0m\u001b[0;34m,\u001b[0m \u001b[0mr\u001b[0m\u001b[0;34m\u001b[0m\u001b[0;34m\u001b[0m\u001b[0m\n",
      "\u001b[0;31mIndexError\u001b[0m: index 2285190 is out of bounds for axis 0 with size 2285190"
     ]
    }
   ],
   "source": [
    "get_rownums(23,2411215, filledarr)"
   ]
  },
  {
   "cell_type": "code",
   "execution_count": 18,
   "id": "84d0f3e1",
   "metadata": {},
   "outputs": [
    {
     "data": {
      "text/plain": [
       "array([    255,  125940,  177820,  178305,  301135,  301890,  311925,\n",
       "        318970,  326085,  333130,  373675,  389580,  442960,  473815,\n",
       "        550375,  579485,  611530,  620330,  652415,  662685,  668245,\n",
       "        703130,  713155,  720150,  919350,  940750,  960825,  980175,\n",
       "       1089685, 1089790, 1090045, 1103730, 1656860, 1691220, 1759545,\n",
       "       1812225, 1827450, 1861245, 1896475, 1931190, 1938510, 2042475,\n",
       "       2051615, 2072795, 2095335, 2117720, 2244455, 2245510, 2246420,\n",
       "       2289660, 2289830, 2290085, 2290225, 2316445, 2333250, 2333335,\n",
       "       2333470, 2333610, 2333705])"
      ]
     },
     "execution_count": 18,
     "metadata": {},
     "output_type": "execute_result"
    }
   ],
   "source": [
    "missing_loc"
   ]
  },
  {
   "cell_type": "code",
   "execution_count": 31,
   "id": "c732d986",
   "metadata": {},
   "outputs": [
    {
     "data": {
      "text/plain": [
       "array([106805,     40,    405,    270,    595,     35,     85,     75,\n",
       "           85,     65,     65,    500,    135,     80,     70,     45,\n",
       "           80,    245,    590,     40,   2485,     25,     35,     80,\n",
       "          600,    555,    550,    150,     25,    175,     85,     10,\n",
       "          280,     85,   5320,    185,    435,    350,    315,    280,\n",
       "          525,     20,     60,     60,    385,     95,   1045,    840,\n",
       "           40,     90,    175,     60,    140,      5,      5,     55,\n",
       "           60,     15,     15])"
      ]
     },
     "execution_count": 31,
     "metadata": {},
     "output_type": "execute_result"
    }
   ],
   "source": [
    "missing_num"
   ]
  },
  {
   "cell_type": "code",
   "execution_count": 43,
   "id": "14ba2445",
   "metadata": {},
   "outputs": [
    {
     "data": {
      "text/plain": [
       "255"
      ]
     },
     "execution_count": 43,
     "metadata": {},
     "output_type": "execute_result"
    }
   ],
   "source": [
    "np.searchsorted(filledarr,107060,side='left')"
   ]
  },
  {
   "cell_type": "code",
   "execution_count": 40,
   "id": "b05f113c",
   "metadata": {},
   "outputs": [
    {
     "data": {
      "text/plain": [
       "107060"
      ]
     },
     "execution_count": 40,
     "metadata": {},
     "output_type": "execute_result"
    }
   ],
   "source": [
    "255+106805"
   ]
  },
  {
   "cell_type": "code",
   "execution_count": 36,
   "id": "39e754d1",
   "metadata": {},
   "outputs": [
    {
     "data": {
      "text/plain": [
       "array([125939, 125980])"
      ]
     },
     "execution_count": 36,
     "metadata": {},
     "output_type": "execute_result"
    }
   ],
   "source": [
    "filledarr[19134:19136]"
   ]
  },
  {
   "cell_type": "code",
   "execution_count": 42,
   "id": "2905f7b3",
   "metadata": {},
   "outputs": [
    {
     "data": {
      "text/plain": [
       "107060"
      ]
     },
     "execution_count": 42,
     "metadata": {},
     "output_type": "execute_result"
    }
   ],
   "source": [
    "filledarr[255]"
   ]
  },
  {
   "cell_type": "code",
   "execution_count": 7,
   "id": "e6adef66",
   "metadata": {},
   "outputs": [],
   "source": [
    "filledarr = np.zeros(len(spec_num)*5,dtype='int64')\n",
    "# filledarr2 = np.zeros(len(spec_num)*5,dtype='int64')"
   ]
  },
  {
   "cell_type": "code",
   "execution_count": 8,
   "id": "a33c35cc",
   "metadata": {},
   "outputs": [],
   "source": [
    "f1=fill_arr(filledarr,spec_num)\n",
    "# f2=fill_arr2(filledarr2,spec_num)"
   ]
  },
  {
   "cell_type": "code",
   "execution_count": 10,
   "id": "7b43ba5a",
   "metadata": {},
   "outputs": [
    {
     "data": {
      "text/plain": [
       "array([      0,       5,      10, ..., 2411200, 2411205, 2411210])"
      ]
     },
     "execution_count": 10,
     "metadata": {},
     "output_type": "execute_result"
    }
   ],
   "source": [
    "24"
   ]
  },
  {
   "cell_type": "code",
   "execution_count": 13,
   "id": "1d2a907d",
   "metadata": {},
   "outputs": [
    {
     "data": {
      "text/plain": [
       "array([      0,       1,       2, ..., 2411212, 2411213, 2411214])"
      ]
     },
     "execution_count": 13,
     "metadata": {},
     "output_type": "execute_result"
    }
   ],
   "source": [
    "filledarr2"
   ]
  },
  {
   "cell_type": "code",
   "execution_count": 15,
   "id": "1f95a5f3",
   "metadata": {},
   "outputs": [
    {
     "name": "stdout",
     "output_type": "stream",
     "text": [
      "439 µs ± 29.9 µs per loop (mean ± std. dev. of 7 runs, 1000 loops each)\n"
     ]
    }
   ],
   "source": [
    "%timeit fill_arr(filledarr,spec_num)\n"
   ]
  },
  {
   "cell_type": "code",
   "execution_count": 104,
   "id": "f00702a9",
   "metadata": {},
   "outputs": [],
   "source": [
    "np.savetxt('../filledarr.txt',filledarr)"
   ]
  },
  {
   "cell_type": "code",
   "execution_count": 37,
   "id": "874b2995",
   "metadata": {},
   "outputs": [
    {
     "data": {
      "text/plain": [
       "2285189"
      ]
     },
     "execution_count": 37,
     "metadata": {},
     "output_type": "execute_result"
    }
   ],
   "source": [
    "np.searchsorted(filledarr,2411214,side='left')"
   ]
  },
  {
   "cell_type": "code",
   "execution_count": 34,
   "id": "8aa750aa",
   "metadata": {},
   "outputs": [
    {
     "data": {
      "text/plain": [
       "array([2411205, 2411206, 2411207, 2411208, 2411209, 2411210, 2411211,\n",
       "       2411212, 2411213, 2411214], dtype=uint32)"
      ]
     },
     "execution_count": 34,
     "metadata": {},
     "output_type": "execute_result"
    }
   ],
   "source": [
    "filledarr[-10:]"
   ]
  },
  {
   "cell_type": "code",
   "execution_count": 36,
   "id": "b173bc2c",
   "metadata": {},
   "outputs": [
    {
     "data": {
      "text/plain": [
       "2285190"
      ]
     },
     "execution_count": 36,
     "metadata": {},
     "output_type": "execute_result"
    }
   ],
   "source": [
    "len(spec_num)*5"
   ]
  },
  {
   "cell_type": "code",
   "execution_count": 100,
   "id": "2dfe0ff2",
   "metadata": {},
   "outputs": [
    {
     "data": {
      "text/plain": [
       "(2285190,)"
      ]
     },
     "execution_count": 100,
     "metadata": {},
     "output_type": "execute_result"
    }
   ],
   "source": [
    "filledarr.shape"
   ]
  },
  {
   "cell_type": "code",
   "execution_count": 54,
   "id": "8f923372",
   "metadata": {},
   "outputs": [
    {
     "name": "stdout",
     "output_type": "stream",
     "text": [
      "2.35 ms ± 495 µs per loop (mean ± std. dev. of 7 runs, 100 loops each)\n"
     ]
    }
   ],
   "source": [
    "%timeit get_rownums(260,400000,filledarr)"
   ]
  },
  {
   "cell_type": "code",
   "execution_count": 55,
   "id": "2da72061",
   "metadata": {},
   "outputs": [
    {
     "name": "stdout",
     "output_type": "stream",
     "text": [
      "4.72 µs ± 348 ns per loop (mean ± std. dev. of 7 runs, 100000 loops each)\n"
     ]
    }
   ],
   "source": [
    "%timeit get_rows_from_specnum(260,400000,spec_num,5)"
   ]
  },
  {
   "cell_type": "code",
   "execution_count": 103,
   "id": "089ea1d3",
   "metadata": {},
   "outputs": [
    {
     "name": "stdout",
     "output_type": "stream",
     "text": [
      "(2411214,)\n",
      "6.985664367675781\n"
     ]
    }
   ],
   "source": [
    "# arr = np.random.randint(0,10000000, size=3000000)\n",
    "# arr.sort()\n",
    "print(arr.shape)\n",
    "niter=20\n",
    "t1=time.time()\n",
    "for i in range(niter):\n",
    "    l,r=get_rownums(250,400000,arr)\n",
    "t2=time.time()\n",
    "print((t2-t1)*1e6/niter)\n",
    "\n"
   ]
  },
  {
   "cell_type": "code",
   "execution_count": 58,
   "id": "dc30391f",
   "metadata": {},
   "outputs": [],
   "source": [
    "def get_common_rows(missing_blocks1,missing_num1, missing_blocks2,missing_num2, acclen):\n",
    "\n",
    "    st=0\n",
    "    b1=len(missing_blocks1)\n",
    "    b2=len(missing_blocks2)\n",
    "    # print(\"Block lens\", b1, b2)\n",
    "    if(len(missing_blocks1)>0):\n",
    "        en=missing_blocks1[0][0]\n",
    "    else:\n",
    "        en=acclen\n",
    "    if(b2==0):\n",
    "        return np.arange(0,acclen-missing_num1)\n",
    "    j=0\n",
    "    i=0\n",
    "    cum_missing=0\n",
    "    tot=0\n",
    "    ids=[]\n",
    "    while(i<b1 and j<b2):\n",
    "        en=missing_blocks1[i][0]\n",
    "        # print(\"en is\",en)\n",
    "        if(missing_blocks2[j][0]<=en and missing_blocks2[j][1]>st):\n",
    "            if(missing_blocks2[j][0]>st):\n",
    "                if(missing_blocks2[j][1]>=en):\n",
    "                    print(\"flag 1\")\n",
    "                    ids.append([st-cum_missing,missing_blocks2[j][0]-cum_missing])\n",
    "                    tot+=(missing_blocks2[j][0]-st)\n",
    "                    st=missing_blocks1[i][1]\n",
    "                    cum_missing+=(missing_blocks1[i][1]-missing_blocks1[i][0])\n",
    "                    i+=1\n",
    "                else:\n",
    "                    # print(\"flag 2\")\n",
    "                    ids.append([st-cum_missing,missing_blocks2[j][0]-cum_missing])\n",
    "                    tot+=(missing_blocks2[j][0]-st)\n",
    "                    st=missing_blocks2[j][1]\n",
    "                    j+=1\n",
    "            else:\n",
    "                if(missing_blocks2[j][1]>=en):\n",
    "                    # print(\"flag 3\")\n",
    "                    st=missing_blocks1[i][1]\n",
    "                    cum_missing+=(missing_blocks1[i][1]-missing_blocks1[i][0])\n",
    "                    i+=1 #whole present block1 is useless.\n",
    "                else:\n",
    "                    # print(\"flag 4\")\n",
    "                    st=missing_blocks2[j][1]\n",
    "                    j+=1\n",
    "        else:\n",
    "            ids.append([st-cum_missing,en-cum_missing])\n",
    "            tot+=(en-st)\n",
    "            st=missing_blocks1[i][1]\n",
    "            cum_missing+=(missing_blocks1[i][1]-missing_blocks1[i][0])\n",
    "            # print(\"flag 5\")\n",
    "            i+=1\n",
    "    # print(\"PHASE 1: st is\",st,\"and end is\",en,\"cum missing is\",cum_missing, \"i and j\", i,j)\n",
    "    # print(\"PHASE 1 ids\",ids)\n",
    "    \n",
    "    en=acclen\n",
    "    while(j<b2):\n",
    "        if(missing_blocks2[j][0]<en and missing_blocks2[j][1]>st):\n",
    "            if(missing_blocks2[j][0]>st):\n",
    "                if(missing_blocks2[j][1]==en): #can't be greater anymore. looking at last present block\n",
    "                    # print(\"flag 1\")\n",
    "                    ids.append([st-cum_missing,missing_blocks2[j][0]-cum_missing])\n",
    "                    tot+=(missing_blocks2[j][0]-st)\n",
    "                else:\n",
    "                    # print(\"flag 2\")\n",
    "                    ids.append([st-cum_missing,missing_blocks2[j][0]-cum_missing])\n",
    "                    tot+=(missing_blocks2[j][0]-st)\n",
    "                    st=missing_blocks2[j][1]\n",
    "                    if(j==(b2-1)):\n",
    "                        ids.append([st-cum_missing,acclen-cum_missing])\n",
    "            else:\n",
    "                if(missing_blocks2[j][1]<en):\n",
    "                    # print(\"flag 4\")\n",
    "                    st=missing_blocks2[j][1]\n",
    "                    if(j==(b2-1)):\n",
    "                        ids.append([st-cum_missing,acclen-cum_missing])\n",
    "                        tot+=(acclen-st)\n",
    "                    # print(\"here 2\")\n",
    "        else:\n",
    "            ids.append([st-cum_missing,acclen-cum_missing]) \n",
    "            tot+=(acclen-st)\n",
    "        \n",
    "        j+=1\n",
    "    while(i<b1):\n",
    "        # print(\"i again\")\n",
    "        en=missing_blocks1[i][0]\n",
    "        ids.append([st-cum_missing,en-cum_missing])\n",
    "        tot+=(en-st)\n",
    "        st=missing_blocks1[i][1]\n",
    "        cum_missing+=(missing_blocks1[i][1]-missing_blocks1[i][0])\n",
    "        if(i==(b1-1)):\n",
    "            ids.append([missing_blocks1[i][1]-cum_missing,acclen-cum_missing])\n",
    "        i+=1\n",
    "    # print(\"DONE\")\n",
    "    arr=np.zeros(tot)\n",
    "    n=0\n",
    "    # print(ids)\n",
    "    print(ids)\n",
    "    for i,b in enumerate(ids):\n",
    "        arr[n:n+(b[1]-b[0])]=np.arange(b[0],b[1])\n",
    "        n=b[1]-b[0]\n",
    "    return arr,tot"
   ]
  },
  {
   "cell_type": "code",
   "execution_count": 60,
   "id": "12d4cbbc",
   "metadata": {},
   "outputs": [
    {
     "name": "stdout",
     "output_type": "stream",
     "text": [
      "flag 1\n",
      "[[0, 40], [50, 65], [55, 65]]\n"
     ]
    },
    {
     "data": {
      "text/plain": [
       "(array([ 0.,  1.,  2.,  3.,  4.,  5.,  6.,  7.,  8.,  9., 10., 11., 12.,\n",
       "        13., 14., 55., 56., 57., 58., 59., 60., 61., 62., 63., 64., 25.,\n",
       "        26., 27., 28., 29., 30., 31., 32., 33., 34., 35., 36., 37., 38.,\n",
       "        39., 50., 51., 52., 53., 54., 55., 56., 57., 58., 59., 60., 61.,\n",
       "        62., 63., 64.,  0.,  0.,  0.,  0.,  0.,  0.,  0.,  0.,  0.,  0.]),\n",
       " 65)"
      ]
     },
     "execution_count": 60,
     "metadata": {},
     "output_type": "execute_result"
    }
   ],
   "source": [
    "missing_block1 = [[40,60],[80,90]]\n",
    "missing_block2 = [[50,85]]\n",
    "missingnum1 = 30\n",
    "missingnum2 = 35\n",
    "acclen=100\n",
    "\n",
    "get_common_rows(missing_block2,missingnum2,missing_block1,missingnum1,acclen)"
   ]
  },
  {
   "cell_type": "code",
   "execution_count": 45,
   "id": "c0ab57ee",
   "metadata": {},
   "outputs": [
    {
     "name": "stdout",
     "output_type": "stream",
     "text": [
      "(60,)\n",
      "[ 0.  1.  2.  3.  4.  5.  6.  7.  8.  9. 10. 11. 12. 13. 14. 15. 16. 17.\n",
      " 18. 19. 40. 41. 42. 43. 44. 45. 46. 47. 48. 49. 50. 51. 52. 53. 54. 55.\n",
      " 56. 57. 58. 59. 60. 61. 62. 63. 64. 65. 66. 67. 68. 69. 90. 91. 92. 93.\n",
      " 94. 95. 96. 97. 98. 99.] [ 0.  1.  2.  3.  4.  5.  6.  7.  8.  9. 10. 11. 12. 13. 14. 15. 16. 17.\n",
      " 18. 19. 20. 21. 22. 23. 24. 25. 26. 27. 28. 29. 60. 61. 62. 63. 64. 65.\n",
      " 66. 67. 68. 69. 70. 71. 72. 73. 74. 75. 76. 77. 78. 79. 80. 81. 82. 83.\n",
      " 84. 85. 86. 87. 88. 89. 90. 91. 92. 93. 94. 95. 96. 97. 98. 99.]\n"
     ]
    }
   ],
   "source": [
    "acclen=100\n",
    "missingnum1=40\n",
    "missingnum2=30\n",
    "arr1=np.zeros(acclen-missingnum1)\n",
    "arr2=np.zeros(acclen-missingnum2)\n",
    "ids1=[[0,20],[40,70],[90,100]]\n",
    "ids2=[[0,30],[60,100]]\n",
    "# ids1=[[20,40],[60,100]]\n",
    "# ids2=[[0,10],[50,80]]\n",
    "n=0\n",
    "print(arr1.shape)\n",
    "for i,b in enumerate(ids1):\n",
    "        arr1[n:n+(b[1]-b[0])]=np.arange(b[0],b[1])\n",
    "        n+=b[1]-b[0]\n",
    "n=0\n",
    "for i,b in enumerate(ids2):\n",
    "        arr2[n:n+(b[1]-b[0])]=np.arange(b[0],b[1])\n",
    "        n+=b[1]-b[0]\n",
    "print(arr1,arr2)"
   ]
  },
  {
   "cell_type": "code",
   "execution_count": 48,
   "id": "4857b7c7",
   "metadata": {},
   "outputs": [],
   "source": [
    "def get_xcorr_rows(spec1,spec2):\n",
    "    idx1=[]\n",
    "    idx2=[]\n",
    "    i=0;j=0 \n",
    "    while(i<len(spec1) and j<len(spec2)):\n",
    "        if(spec1[i]==spec2[j]):\n",
    "            idx1.append(i)\n",
    "            idx2.append(j)\n",
    "            i+=1\n",
    "            j+=1\n",
    "        elif(spec1[i]>spec2[j]):\n",
    "            j+=1\n",
    "        else:\n",
    "            i+=1\n",
    "    return np.asarray(idx1),np.asarray(idx2)"
   ]
  },
  {
   "cell_type": "code",
   "execution_count": 55,
   "id": "54768c56",
   "metadata": {},
   "outputs": [],
   "source": [
    "def test():\n",
    "\n",
    "    i=0;j=0 \n",
    "    while(j<400000):\n",
    "        if(j%2==0):\n",
    "            i+=1\n",
    "        j+=1\n"
   ]
  },
  {
   "cell_type": "code",
   "execution_count": 57,
   "id": "aee89239",
   "metadata": {},
   "outputs": [
    {
     "name": "stdout",
     "output_type": "stream",
     "text": [
      "24.2 ms ± 2.76 ms per loop (mean ± std. dev. of 7 runs, 10 loops each)\n"
     ]
    }
   ],
   "source": [
    "%timeit test()"
   ]
  },
  {
   "cell_type": "code",
   "execution_count": null,
   "id": "500459f3",
   "metadata": {},
   "outputs": [],
   "source": []
  },
  {
   "cell_type": "code",
   "execution_count": 49,
   "id": "16e4e4d4",
   "metadata": {},
   "outputs": [],
   "source": [
    "id1,id2=get_xcorr_rows(arr1,arr2)"
   ]
  },
  {
   "cell_type": "code",
   "execution_count": 50,
   "id": "d12576b3",
   "metadata": {},
   "outputs": [
    {
     "name": "stdout",
     "output_type": "stream",
     "text": [
      "[ 0  1  2  3  4  5  6  7  8  9 10 11 12 13 14 15 16 17 18 19 40 41 42 43\n",
      " 44 45 46 47 48 49 50 51 52 53 54 55 56 57 58 59] [ 0  1  2  3  4  5  6  7  8  9 10 11 12 13 14 15 16 17 18 19 30 31 32 33\n",
      " 34 35 36 37 38 39 60 61 62 63 64 65 66 67 68 69]\n"
     ]
    }
   ],
   "source": [
    "print(id1,id2)"
   ]
  },
  {
   "cell_type": "code",
   "execution_count": 54,
   "id": "4f03190c",
   "metadata": {},
   "outputs": [
    {
     "data": {
      "text/plain": [
       "dtype('int64')"
      ]
     },
     "execution_count": 54,
     "metadata": {},
     "output_type": "execute_result"
    }
   ],
   "source": [
    "id2.dtype"
   ]
  },
  {
   "cell_type": "code",
   "execution_count": null,
   "id": "1e365b29",
   "metadata": {},
   "outputs": [],
   "source": []
  }
 ],
 "metadata": {
  "kernelspec": {
   "display_name": "Python 3 (ipykernel)",
   "language": "python",
   "name": "python3"
  },
  "language_info": {
   "codemirror_mode": {
    "name": "ipython",
    "version": 3
   },
   "file_extension": ".py",
   "mimetype": "text/x-python",
   "name": "python",
   "nbconvert_exporter": "python",
   "pygments_lexer": "ipython3",
   "version": "3.8.10"
  }
 },
 "nbformat": 4,
 "nbformat_minor": 5
}
